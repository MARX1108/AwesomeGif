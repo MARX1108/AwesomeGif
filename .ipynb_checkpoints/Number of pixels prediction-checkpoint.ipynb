{
 "cells": [
  {
   "cell_type": "code",
   "execution_count": 1,
   "id": "occasional-transparency",
   "metadata": {},
   "outputs": [],
   "source": [
    "# !pip install dlib"
   ]
  },
  {
   "cell_type": "code",
   "execution_count": 2,
   "id": "involved-script",
   "metadata": {},
   "outputs": [],
   "source": [
    "import tensorflow as tf \n",
    "import tensorflow_hub as hub \n",
    "from tensorflow.keras import layers \n",
    "import bert \n",
    "import re \n",
    "# re — Regular expression operations\n",
    "import math\n",
    "import csv\n",
    "import pandas as pd                     \n",
    "import cv2 as cv \n",
    "from PIL import Image\n",
    "from tensorflow.keras import losses\n",
    "from plotly.subplots import make_subplots\n",
    "import plotly.graph_objects as go\n",
    "import numpy as np \n",
    "import dlib"
   ]
  },
  {
   "cell_type": "code",
   "execution_count": 3,
   "id": "efficient-greensboro",
   "metadata": {},
   "outputs": [
    {
     "data": {
      "text/plain": [
       "(125782, 2)"
      ]
     },
     "execution_count": 3,
     "metadata": {},
     "output_type": "execute_result"
    }
   ],
   "source": [
    "data = pd.read_csv(\"/Users/zimingfang/Desktop/Animated GIFs/AwesomeGif/tgif-v1.0.tsv\", sep='\\t')\n",
    "data.isnull().values.any()\n",
    "data.shape"
   ]
  },
  {
   "cell_type": "code",
   "execution_count": 4,
   "id": "composed-martin",
   "metadata": {},
   "outputs": [],
   "source": [
    "# data.head()"
   ]
  },
  {
   "cell_type": "code",
   "execution_count": 5,
   "id": "positive-warner",
   "metadata": {},
   "outputs": [],
   "source": [
    "gif_links = list(data.y.values)\n",
    "raw_tweets = list(data.x.values)"
   ]
  },
  {
   "cell_type": "code",
   "execution_count": 6,
   "id": "instrumental-fraction",
   "metadata": {},
   "outputs": [],
   "source": [
    "# gif_links"
   ]
  },
  {
   "cell_type": "code",
   "execution_count": 7,
   "id": "challenging-accommodation",
   "metadata": {},
   "outputs": [],
   "source": [
    "# raw_tweets"
   ]
  },
  {
   "cell_type": "markdown",
   "id": "modern-cliff",
   "metadata": {},
   "source": [
    "# Tweet Pre-Process "
   ]
  },
  {
   "cell_type": "markdown",
   "id": "green-catch",
   "metadata": {},
   "source": [
    "## Remove Special Char"
   ]
  },
  {
   "cell_type": "code",
   "execution_count": 8,
   "id": "severe-breed",
   "metadata": {},
   "outputs": [],
   "source": [
    "# definition for function for removing html tags \n",
    "TAG_RE = re.compile(r'<[^>]+>')\n",
    "\n",
    "def remove_tags(text):\n",
    "    return TAG_RE.sub('', text)"
   ]
  },
  {
   "cell_type": "code",
   "execution_count": 9,
   "id": "roman-equipment",
   "metadata": {},
   "outputs": [],
   "source": [
    "# definition for function for remove any punctuations and special characters\n",
    "def preprocess_text(raw_tweaet):\n",
    "    # Removing html tags\n",
    "    tweet = remove_tags(raw_tweaet)\n",
    "    # Removing html tags\n",
    "    tweet = re.sub('[^a-zA-Z]', '', tweet)\n",
    "    # Removing html tags\n",
    "    tweet = re.sub(r\"\\s+[a-zA-Z]\\s+\", ' ', tweet)\n",
    "    # Removing multiple spaces\n",
    "    tweet = re.sub(r'\\s+', ' ', tweet)\n",
    "    return tweet"
   ]
  },
  {
   "cell_type": "code",
   "execution_count": 10,
   "id": "scheduled-mailing",
   "metadata": {},
   "outputs": [],
   "source": [
    "# run the preprocess_text function to clean tweets list \n",
    "tweets = [] \n",
    "for tweet in raw_tweets[:50]:\n",
    "    tweets.append(preprocess_text(tweet))"
   ]
  },
  {
   "cell_type": "markdown",
   "id": "permanent-panama",
   "metadata": {},
   "source": [
    "## Tokenizing "
   ]
  },
  {
   "cell_type": "code",
   "execution_count": 11,
   "id": "editorial-protest",
   "metadata": {},
   "outputs": [],
   "source": [
    "# Create a tokenizer \n",
    "BertTokenizer = bert.bert_tokenization.FullTokenizer\n",
    "bert_layer = hub.KerasLayer(\"https://tfhub.dev/tensorflow/bert_en_uncased_L-12_H-768_A-12/3\",\n",
    "                            trainable=False)\n",
    "vocabulary_file = bert_layer.resolved_object.vocab_file.asset_path.numpy()\n",
    "# .numpy(): converts a tensor object into an numpy.ndarray\n",
    "to_lower_case = bert_layer.resolved_object.do_lower_case.numpy()\n",
    "tokenizer = BertTokenizer(vocabulary_file, to_lower_case)"
   ]
  },
  {
   "cell_type": "code",
   "execution_count": 12,
   "id": "modular-imagination",
   "metadata": {},
   "outputs": [],
   "source": [
    "# Definition for function for convert tweet to ids \n",
    "def tokenize_tweets(text_tweets):\n",
    "    return tokenizer.convert_tokens_to_ids(tokenizer.tokenize(text_tweets))"
   ]
  },
  {
   "cell_type": "code",
   "execution_count": 13,
   "id": "difficult-proportion",
   "metadata": {},
   "outputs": [],
   "source": [
    "# run the tokenize_tweets on tweets \n",
    "tokenized_tweets = [tokenize_tweets(tweet) for tweet in tweets]"
   ]
  },
  {
   "cell_type": "markdown",
   "id": "silver-vector",
   "metadata": {},
   "source": [
    "# GIF Pre-Process"
   ]
  },
  {
   "cell_type": "code",
   "execution_count": 14,
   "id": "norman-dependence",
   "metadata": {},
   "outputs": [],
   "source": [
    "import requests\n",
    "# Requests is an elegant and simple HTTP library for Python\n",
    "import os \n",
    "# os — Miscellaneous operating system interfaces¶\n",
    "os.chdir('/Users/zimingfang/Desktop/Animated GIFs/AwesomeGif/gifs')\n",
    "# !pwd"
   ]
  },
  {
   "cell_type": "code",
   "execution_count": 15,
   "id": "reported-monte",
   "metadata": {},
   "outputs": [],
   "source": [
    "filenames = pd.read_csv(\"/Users/zimingfang/Desktop/Animated GIFs/AwesomeGif/filenames.csv\", header=None)\n",
    "filenames = filenames.iloc[1:]\n",
    "filenames = filenames.iloc[:,1]"
   ]
  },
  {
   "cell_type": "code",
   "execution_count": 16,
   "id": "terminal-puppy",
   "metadata": {},
   "outputs": [],
   "source": [
    "# filenames"
   ]
  },
  {
   "cell_type": "code",
   "execution_count": 17,
   "id": "creative-stake",
   "metadata": {},
   "outputs": [],
   "source": [
    "def get_number_of_pixels(path_to_gif):\n",
    "    capture = cv.VideoCapture(path_to_gif)\n",
    "    pos_frame = capture.get(cv.CAP_PROP_POS_FRAMES)\n",
    "\n",
    "    # Capture first frame \n",
    "    ret, frame = capture.read()\n",
    "    first_frame_size = frame.shape\n",
    "  \n",
    "    return first_frame_size[0] * first_frame_size[1]"
   ]
  },
  {
   "cell_type": "code",
   "execution_count": 58,
   "id": "military-rogers",
   "metadata": {},
   "outputs": [],
   "source": [
    "# In GIF files, each frame has its own duration. So there is no general fps for a GIF file. \n",
    "number_of_pixels = []\n",
    "for gif_file_path in filenames[:50]: \n",
    "#     cap=cv2.VideoCapture(\"gif_file_path\")\n",
    "#     fps = cap.get(cv2.CAP_PROP_FPS)\n",
    "#     gif_obj = Image.open(gif_file_path)\n",
    "    number_of_pixels.append(math.sqrt(math.sqrt(get_number_of_pixels(gif_file_path))))"
   ]
  },
  {
   "cell_type": "code",
   "execution_count": 59,
   "id": "rural-probe",
   "metadata": {},
   "outputs": [
    {
     "name": "stdout",
     "output_type": "stream",
     "text": [
      "13.716737120112342\n",
      "24.49489742783178\n"
     ]
    }
   ],
   "source": [
    "print(np.min(number_of_pixels))\n",
    "print(np.max(number_of_pixels))"
   ]
  },
  {
   "cell_type": "markdown",
   "id": "changing-portfolio",
   "metadata": {},
   "source": [
    "# Prerparing Data For Training\n"
   ]
  },
  {
   "cell_type": "code",
   "execution_count": 60,
   "id": "fatty-status",
   "metadata": {},
   "outputs": [],
   "source": [
    "x_train = tokenized_tweets\n",
    "y_train = number_of_pixels"
   ]
  },
  {
   "cell_type": "code",
   "execution_count": 61,
   "id": "educated-administration",
   "metadata": {},
   "outputs": [],
   "source": [
    "# len(x_train)"
   ]
  },
  {
   "cell_type": "code",
   "execution_count": 62,
   "id": "therapeutic-polls",
   "metadata": {},
   "outputs": [],
   "source": [
    "tweets_with_len = [[tweet, y_train[i], len(tweet)]\n",
    "                 for i, tweet in enumerate(x_train)]"
   ]
  },
  {
   "cell_type": "code",
   "execution_count": 63,
   "id": "indonesian-finance",
   "metadata": {},
   "outputs": [],
   "source": [
    "#sort the data by tweet length \n",
    "tweets_with_len.sort(key=lambda x: x[2])\n",
    "#remove the tweet length attribute from dataset \n",
    "sorted_tweets_labels = [(tweet_lab[0], tweet_lab[1]) for tweet_lab in tweets_with_len]"
   ]
  },
  {
   "cell_type": "code",
   "execution_count": 64,
   "id": "loaded-parker",
   "metadata": {},
   "outputs": [],
   "source": [
    "# sorted_tweets_labels"
   ]
  },
  {
   "cell_type": "code",
   "execution_count": 65,
   "id": "median-thong",
   "metadata": {},
   "outputs": [],
   "source": [
    "# convert the sorted dataset into a TensorFlow 2.0-compliant input dataset shape\n",
    "processed_dataset = tf.data.Dataset.from_generator(lambda: sorted_tweets_labels, output_types=(tf.int32, tf.float32))\n"
   ]
  },
  {
   "cell_type": "code",
   "execution_count": 66,
   "id": "white-vietnamese",
   "metadata": {},
   "outputs": [],
   "source": [
    "BATCH_SIZE = 10 \n",
    "batched_dataset = processed_dataset.padded_batch(BATCH_SIZE, padded_shapes=((None, ), ()))"
   ]
  },
  {
   "cell_type": "code",
   "execution_count": 67,
   "id": "whole-probe",
   "metadata": {},
   "outputs": [],
   "source": [
    "TOTAL_BATCHES = math.ceil(len(sorted_tweets_labels) / BATCH_SIZE)\n",
    "# TEST_BATCHES = TOTAL_BATCHES // 10\n",
    "TEST_BATCHES = 1\n",
    "batched_dataset.shuffle(TOTAL_BATCHES)\n",
    "test_data = batched_dataset.take(TEST_BATCHES)\n",
    "train_data = batched_dataset.skip(TEST_BATCHES)"
   ]
  },
  {
   "cell_type": "code",
   "execution_count": 68,
   "id": "alone-freeware",
   "metadata": {},
   "outputs": [],
   "source": [
    "# next(iter(batched_dataset))"
   ]
  },
  {
   "cell_type": "markdown",
   "id": "bronze-turkish",
   "metadata": {},
   "source": [
    "# Creating the Model\n"
   ]
  },
  {
   "cell_type": "code",
   "execution_count": 69,
   "id": "express-better",
   "metadata": {},
   "outputs": [],
   "source": [
    "VOCAB_LENGTH = len(tokenizer.vocab)\n",
    "EMB_DIM = 200"
   ]
  },
  {
   "cell_type": "code",
   "execution_count": 70,
   "id": "cognitive-recruitment",
   "metadata": {},
   "outputs": [
    {
     "name": "stdout",
     "output_type": "stream",
     "text": [
      "Model: \"sequential_2\"\n",
      "_________________________________________________________________\n",
      "Layer (type)                 Output Shape              Param #   \n",
      "=================================================================\n",
      "embedding_2 (Embedding)      (None, None, 200)         6104600   \n",
      "_________________________________________________________________\n",
      "dropout_4 (Dropout)          (None, None, 200)         0         \n",
      "_________________________________________________________________\n",
      "global_average_pooling1d_2 ( (None, 200)               0         \n",
      "_________________________________________________________________\n",
      "dropout_5 (Dropout)          (None, 200)               0         \n",
      "_________________________________________________________________\n",
      "dense_2 (Dense)              (None, 1)                 201       \n",
      "=================================================================\n",
      "Total params: 6,104,801\n",
      "Trainable params: 6,104,801\n",
      "Non-trainable params: 0\n",
      "_________________________________________________________________\n"
     ]
    }
   ],
   "source": [
    "#GlobalAveragePooling1D layer returns a fixed-length output vector for each example by averaging over the sequence dimension.\n",
    "#allows the model to handle input of variable length, in the simplest way possible\n",
    "\n",
    "model = tf.keras.Sequential([\n",
    "    layers.Embedding(VOCAB_LENGTH + 1, EMB_DIM),\n",
    "    layers.Dropout(0.2),    \n",
    "    layers.GlobalAveragePooling1D(), \n",
    "    layers.Dropout(0.2),\n",
    "    layers.Dense(1, activation='linear') #set activation to linear for regression\n",
    "])\n",
    "\n",
    "model.compile(optimizer='adam', loss='mse', metrics=['mae'])\n",
    "model.summary()"
   ]
  },
  {
   "cell_type": "code",
   "execution_count": 71,
   "id": "handmade-selling",
   "metadata": {},
   "outputs": [
    {
     "name": "stdout",
     "output_type": "stream",
     "text": [
      "Epoch 1/100\n",
      "4/4 [==============================] - 1s 88ms/step - loss: 332.5362 - mae: 18.0992 - val_loss: 336.9157 - val_mae: 18.1678\n",
      "Epoch 2/100\n",
      "4/4 [==============================] - 0s 51ms/step - loss: 330.9737 - mae: 18.0561 - val_loss: 335.9774 - val_mae: 18.1417\n",
      "Epoch 3/100\n",
      "4/4 [==============================] - 0s 55ms/step - loss: 329.3776 - mae: 18.0118 - val_loss: 334.9595 - val_mae: 18.1134\n",
      "Epoch 4/100\n",
      "4/4 [==============================] - 0s 51ms/step - loss: 327.6452 - mae: 17.9632 - val_loss: 333.8672 - val_mae: 18.0829\n",
      "Epoch 5/100\n",
      "4/4 [==============================] - 0s 52ms/step - loss: 325.9315 - mae: 17.9158 - val_loss: 332.6955 - val_mae: 18.0502\n",
      "Epoch 6/100\n",
      "4/4 [==============================] - 0s 52ms/step - loss: 324.1505 - mae: 17.8661 - val_loss: 331.4338 - val_mae: 18.0149\n",
      "Epoch 7/100\n",
      "4/4 [==============================] - 0s 53ms/step - loss: 321.8846 - mae: 17.8023 - val_loss: 330.0696 - val_mae: 17.9767\n",
      "Epoch 8/100\n",
      "4/4 [==============================] - 0s 53ms/step - loss: 319.6266 - mae: 17.7399 - val_loss: 328.5934 - val_mae: 17.9352\n",
      "Epoch 9/100\n",
      "4/4 [==============================] - 0s 53ms/step - loss: 317.2304 - mae: 17.6710 - val_loss: 326.9975 - val_mae: 17.8903\n",
      "Epoch 10/100\n",
      "4/4 [==============================] - 0s 52ms/step - loss: 314.7544 - mae: 17.6019 - val_loss: 325.2760 - val_mae: 17.8416\n",
      "Epoch 11/100\n",
      "4/4 [==============================] - 0s 51ms/step - loss: 311.9169 - mae: 17.5213 - val_loss: 323.4258 - val_mae: 17.7892\n",
      "Epoch 12/100\n",
      "4/4 [==============================] - 0s 53ms/step - loss: 308.8337 - mae: 17.4311 - val_loss: 321.4483 - val_mae: 17.7330\n",
      "Epoch 13/100\n",
      "4/4 [==============================] - 0s 54ms/step - loss: 305.3010 - mae: 17.3320 - val_loss: 319.3430 - val_mae: 17.6729\n",
      "Epoch 14/100\n",
      "4/4 [==============================] - 0s 53ms/step - loss: 302.0708 - mae: 17.2380 - val_loss: 317.1003 - val_mae: 17.6086\n",
      "Epoch 15/100\n",
      "4/4 [==============================] - 0s 52ms/step - loss: 298.4282 - mae: 17.1318 - val_loss: 314.7256 - val_mae: 17.5403\n",
      "Epoch 16/100\n",
      "4/4 [==============================] - 1s 158ms/step - loss: 294.4676 - mae: 17.0165 - val_loss: 312.2171 - val_mae: 17.4678\n",
      "Epoch 17/100\n",
      "4/4 [==============================] - 0s 51ms/step - loss: 289.6849 - mae: 16.8744 - val_loss: 309.5695 - val_mae: 17.3909\n",
      "Epoch 18/100\n",
      "4/4 [==============================] - 0s 53ms/step - loss: 285.4927 - mae: 16.7526 - val_loss: 306.7814 - val_mae: 17.3095\n",
      "Epoch 19/100\n",
      "4/4 [==============================] - 0s 51ms/step - loss: 281.0960 - mae: 16.6192 - val_loss: 303.8581 - val_mae: 17.2237\n",
      "Epoch 20/100\n",
      "4/4 [==============================] - 0s 52ms/step - loss: 276.8649 - mae: 16.4898 - val_loss: 300.8087 - val_mae: 17.1337\n",
      "Epoch 21/100\n",
      "4/4 [==============================] - 0s 53ms/step - loss: 272.0013 - mae: 16.3432 - val_loss: 297.6349 - val_mae: 17.0395\n",
      "Epoch 22/100\n",
      "4/4 [==============================] - 0s 53ms/step - loss: 265.9822 - mae: 16.1563 - val_loss: 294.3391 - val_mae: 16.9410\n",
      "Epoch 23/100\n",
      "4/4 [==============================] - 0s 54ms/step - loss: 260.2429 - mae: 15.9814 - val_loss: 290.9166 - val_mae: 16.8381\n",
      "Epoch 24/100\n",
      "4/4 [==============================] - 0s 53ms/step - loss: 255.5605 - mae: 15.8293 - val_loss: 287.3738 - val_mae: 16.7307\n",
      "Epoch 25/100\n",
      "4/4 [==============================] - 0s 54ms/step - loss: 249.1768 - mae: 15.6307 - val_loss: 283.7138 - val_mae: 16.6190\n",
      "Epoch 26/100\n",
      "4/4 [==============================] - 0s 52ms/step - loss: 244.1401 - mae: 15.4633 - val_loss: 279.9503 - val_mae: 16.5033\n",
      "Epoch 27/100\n",
      "4/4 [==============================] - 0s 53ms/step - loss: 237.1883 - mae: 15.2395 - val_loss: 276.0900 - val_mae: 16.3836\n",
      "Epoch 28/100\n",
      "4/4 [==============================] - 0s 52ms/step - loss: 231.3846 - mae: 15.0478 - val_loss: 272.1345 - val_mae: 16.2600\n",
      "Epoch 29/100\n",
      "4/4 [==============================] - 0s 53ms/step - loss: 224.3625 - mae: 14.8171 - val_loss: 268.0866 - val_mae: 16.1324\n",
      "Epoch 30/100\n",
      "4/4 [==============================] - 0s 51ms/step - loss: 218.7805 - mae: 14.6256 - val_loss: 263.9583 - val_mae: 16.0010\n",
      "Epoch 31/100\n",
      "4/4 [==============================] - 0s 51ms/step - loss: 212.3377 - mae: 14.4086 - val_loss: 259.7524 - val_mae: 15.8659\n",
      "Epoch 32/100\n",
      "4/4 [==============================] - 0s 52ms/step - loss: 206.0740 - mae: 14.1761 - val_loss: 255.4843 - val_mae: 15.7276\n",
      "Epoch 33/100\n",
      "4/4 [==============================] - 0s 54ms/step - loss: 200.8603 - mae: 13.9932 - val_loss: 251.1545 - val_mae: 15.5858\n",
      "Epoch 34/100\n",
      "4/4 [==============================] - 0s 54ms/step - loss: 194.2528 - mae: 13.7596 - val_loss: 246.7825 - val_mae: 15.4411\n",
      "Epoch 35/100\n",
      "4/4 [==============================] - 0s 55ms/step - loss: 187.4504 - mae: 13.5183 - val_loss: 242.3597 - val_mae: 15.2932\n",
      "Epoch 36/100\n",
      "4/4 [==============================] - 0s 54ms/step - loss: 179.1494 - mae: 13.1966 - val_loss: 237.8824 - val_mae: 15.1418\n",
      "Epoch 37/100\n",
      "4/4 [==============================] - 0s 51ms/step - loss: 172.1048 - mae: 12.9450 - val_loss: 233.3675 - val_mae: 14.9874\n",
      "Epoch 38/100\n",
      "4/4 [==============================] - 0s 53ms/step - loss: 166.3525 - mae: 12.7017 - val_loss: 228.8216 - val_mae: 14.8302\n",
      "Epoch 39/100\n",
      "4/4 [==============================] - 0s 53ms/step - loss: 159.5274 - mae: 12.4356 - val_loss: 224.2618 - val_mae: 14.6705\n",
      "Epoch 40/100\n",
      "4/4 [==============================] - 0s 53ms/step - loss: 152.5163 - mae: 12.1444 - val_loss: 219.6974 - val_mae: 14.5087\n",
      "Epoch 41/100\n",
      "4/4 [==============================] - 0s 51ms/step - loss: 148.2086 - mae: 11.9619 - val_loss: 215.1396 - val_mae: 14.3450\n",
      "Epoch 42/100\n",
      "4/4 [==============================] - 0s 53ms/step - loss: 139.1648 - mae: 11.6015 - val_loss: 210.5808 - val_mae: 14.1791\n",
      "Epoch 43/100\n",
      "4/4 [==============================] - 0s 54ms/step - loss: 134.6799 - mae: 11.3756 - val_loss: 206.0365 - val_mae: 14.0115\n",
      "Epoch 44/100\n",
      "4/4 [==============================] - 0s 53ms/step - loss: 127.7496 - mae: 11.0647 - val_loss: 201.5191 - val_mae: 13.8426\n",
      "Epoch 45/100\n",
      "4/4 [==============================] - 0s 53ms/step - loss: 118.2353 - mae: 10.6521 - val_loss: 197.0250 - val_mae: 13.6723\n",
      "Epoch 46/100\n",
      "4/4 [==============================] - 0s 54ms/step - loss: 112.8353 - mae: 10.3805 - val_loss: 192.5636 - val_mae: 13.5007\n",
      "Epoch 47/100\n",
      "4/4 [==============================] - 0s 54ms/step - loss: 108.1054 - mae: 10.1378 - val_loss: 188.1460 - val_mae: 13.3283\n",
      "Epoch 48/100\n",
      "4/4 [==============================] - 0s 51ms/step - loss: 102.3311 - mae: 9.8661 - val_loss: 183.7819 - val_mae: 13.1555\n",
      "Epoch 49/100\n",
      "4/4 [==============================] - 0s 54ms/step - loss: 95.0901 - mae: 9.4881 - val_loss: 179.4824 - val_mae: 12.9826\n",
      "Epoch 50/100\n",
      "4/4 [==============================] - 0s 52ms/step - loss: 93.8893 - mae: 9.4444 - val_loss: 175.2482 - val_mae: 12.8097\n",
      "Epoch 51/100\n",
      "4/4 [==============================] - 0s 53ms/step - loss: 85.0014 - mae: 8.9584 - val_loss: 171.0846 - val_mae: 12.6370\n",
      "Epoch 52/100\n",
      "4/4 [==============================] - 0s 113ms/step - loss: 81.5706 - mae: 8.7386 - val_loss: 166.9949 - val_mae: 12.4647\n",
      "Epoch 53/100\n",
      "4/4 [==============================] - 0s 52ms/step - loss: 75.4264 - mae: 8.4215 - val_loss: 162.9854 - val_mae: 12.2931\n",
      "Epoch 54/100\n",
      "4/4 [==============================] - 0s 51ms/step - loss: 69.1967 - mae: 8.0281 - val_loss: 159.0588 - val_mae: 12.1223\n",
      "Epoch 55/100\n",
      "4/4 [==============================] - 0s 52ms/step - loss: 67.3167 - mae: 7.8810 - val_loss: 155.2238 - val_mae: 11.9529\n",
      "Epoch 56/100\n",
      "4/4 [==============================] - 0s 52ms/step - loss: 63.2128 - mae: 7.6166 - val_loss: 151.4831 - val_mae: 11.7848\n",
      "Epoch 57/100\n",
      "4/4 [==============================] - 0s 53ms/step - loss: 55.6650 - mae: 7.1308 - val_loss: 147.8471 - val_mae: 11.6187\n",
      "Epoch 58/100\n",
      "4/4 [==============================] - 0s 51ms/step - loss: 54.1748 - mae: 7.0291 - val_loss: 144.3101 - val_mae: 11.4544\n",
      "Epoch 59/100\n",
      "4/4 [==============================] - 0s 52ms/step - loss: 49.2850 - mae: 6.6599 - val_loss: 140.8731 - val_mae: 11.2921\n",
      "Epoch 60/100\n",
      "4/4 [==============================] - 0s 52ms/step - loss: 46.6509 - mae: 6.4579 - val_loss: 137.5454 - val_mae: 11.1324\n",
      "Epoch 61/100\n"
     ]
    },
    {
     "name": "stdout",
     "output_type": "stream",
     "text": [
      "4/4 [==============================] - 0s 52ms/step - loss: 45.0220 - mae: 6.3081 - val_loss: 134.3244 - val_mae: 10.9751\n",
      "Epoch 62/100\n",
      "4/4 [==============================] - 0s 51ms/step - loss: 38.7603 - mae: 5.8532 - val_loss: 131.2277 - val_mae: 10.8213\n",
      "Epoch 63/100\n",
      "4/4 [==============================] - 0s 54ms/step - loss: 38.5789 - mae: 5.8150 - val_loss: 128.2414 - val_mae: 10.6706\n",
      "Epoch 64/100\n",
      "4/4 [==============================] - 0s 51ms/step - loss: 34.2827 - mae: 5.3895 - val_loss: 125.3758 - val_mae: 10.5235\n",
      "Epoch 65/100\n",
      "4/4 [==============================] - 0s 51ms/step - loss: 31.1168 - mae: 5.1126 - val_loss: 122.6181 - val_mae: 10.3796\n",
      "Epoch 66/100\n",
      "4/4 [==============================] - 0s 53ms/step - loss: 27.4426 - mae: 4.8090 - val_loss: 119.9804 - val_mae: 10.2399\n",
      "Epoch 67/100\n",
      "4/4 [==============================] - 0s 52ms/step - loss: 27.1954 - mae: 4.7178 - val_loss: 117.4535 - val_mae: 10.1039\n",
      "Epoch 68/100\n",
      "4/4 [==============================] - 0s 52ms/step - loss: 23.4934 - mae: 4.3481 - val_loss: 115.0463 - val_mae: 9.9723\n",
      "Epoch 69/100\n",
      "4/4 [==============================] - 0s 51ms/step - loss: 21.4638 - mae: 4.1666 - val_loss: 112.7597 - val_mae: 9.8453\n",
      "Epoch 70/100\n",
      "4/4 [==============================] - 0s 52ms/step - loss: 20.5476 - mae: 4.0516 - val_loss: 110.5667 - val_mae: 9.7217\n",
      "Epoch 71/100\n",
      "4/4 [==============================] - 0s 51ms/step - loss: 17.3156 - mae: 3.6874 - val_loss: 108.4956 - val_mae: 9.6031\n",
      "Epoch 72/100\n",
      "4/4 [==============================] - 0s 52ms/step - loss: 17.3716 - mae: 3.5507 - val_loss: 106.5302 - val_mae: 9.4889\n",
      "Epoch 73/100\n",
      "4/4 [==============================] - 0s 52ms/step - loss: 15.3561 - mae: 3.3461 - val_loss: 104.6664 - val_mae: 9.3790\n",
      "Epoch 74/100\n",
      "4/4 [==============================] - 0s 51ms/step - loss: 15.0874 - mae: 3.2710 - val_loss: 102.9070 - val_mae: 9.2738\n",
      "Epoch 75/100\n",
      "4/4 [==============================] - 0s 51ms/step - loss: 13.1369 - mae: 3.0267 - val_loss: 101.2438 - val_mae: 9.1732\n",
      "Epoch 76/100\n",
      "4/4 [==============================] - 0s 51ms/step - loss: 11.1986 - mae: 2.8088 - val_loss: 99.6795 - val_mae: 9.0774\n",
      "Epoch 77/100\n",
      "4/4 [==============================] - 0s 52ms/step - loss: 10.3618 - mae: 2.6060 - val_loss: 98.2116 - val_mae: 9.0084\n",
      "Epoch 78/100\n",
      "4/4 [==============================] - 0s 51ms/step - loss: 10.3620 - mae: 2.5631 - val_loss: 96.8071 - val_mae: 8.9463\n",
      "Epoch 79/100\n",
      "4/4 [==============================] - 0s 52ms/step - loss: 9.3557 - mae: 2.4930 - val_loss: 95.4846 - val_mae: 8.8871\n",
      "Epoch 80/100\n",
      "4/4 [==============================] - 0s 51ms/step - loss: 8.1094 - mae: 2.2399 - val_loss: 94.2530 - val_mae: 8.8314\n",
      "Epoch 81/100\n",
      "4/4 [==============================] - 0s 52ms/step - loss: 7.4589 - mae: 2.1440 - val_loss: 93.1041 - val_mae: 8.7786\n",
      "Epoch 82/100\n",
      "4/4 [==============================] - 0s 55ms/step - loss: 7.3989 - mae: 2.0460 - val_loss: 92.0500 - val_mae: 8.7292\n",
      "Epoch 83/100\n",
      "4/4 [==============================] - 0s 53ms/step - loss: 6.5264 - mae: 1.9009 - val_loss: 91.0794 - val_mae: 8.6831\n",
      "Epoch 84/100\n",
      "4/4 [==============================] - 0s 54ms/step - loss: 6.8267 - mae: 1.9637 - val_loss: 90.1579 - val_mae: 8.6391\n",
      "Epoch 85/100\n",
      "4/4 [==============================] - 0s 53ms/step - loss: 5.8974 - mae: 1.8388 - val_loss: 89.3149 - val_mae: 8.5984\n",
      "Epoch 86/100\n",
      "4/4 [==============================] - 0s 51ms/step - loss: 5.6250 - mae: 1.8171 - val_loss: 88.5351 - val_mae: 8.5601\n",
      "Epoch 87/100\n",
      "4/4 [==============================] - 0s 54ms/step - loss: 5.2203 - mae: 1.7543 - val_loss: 87.8108 - val_mae: 8.5241\n",
      "Epoch 88/100\n",
      "4/4 [==============================] - 0s 111ms/step - loss: 4.1889 - mae: 1.6046 - val_loss: 87.1232 - val_mae: 8.4892\n",
      "Epoch 89/100\n",
      "4/4 [==============================] - 0s 53ms/step - loss: 4.3696 - mae: 1.5999 - val_loss: 86.5023 - val_mae: 8.4572\n",
      "Epoch 90/100\n",
      "4/4 [==============================] - 0s 53ms/step - loss: 4.0557 - mae: 1.5656 - val_loss: 85.9109 - val_mae: 8.4266\n",
      "Epoch 91/100\n",
      "4/4 [==============================] - 0s 52ms/step - loss: 4.1407 - mae: 1.5484 - val_loss: 85.3667 - val_mae: 8.3978\n",
      "Epoch 92/100\n",
      "4/4 [==============================] - 0s 52ms/step - loss: 4.1301 - mae: 1.6016 - val_loss: 84.8330 - val_mae: 8.3696\n",
      "Epoch 93/100\n",
      "4/4 [==============================] - 0s 52ms/step - loss: 3.8090 - mae: 1.5507 - val_loss: 84.3318 - val_mae: 8.3430\n",
      "Epoch 94/100\n",
      "4/4 [==============================] - 0s 52ms/step - loss: 3.2256 - mae: 1.3346 - val_loss: 83.8753 - val_mae: 8.3185\n",
      "Epoch 95/100\n",
      "4/4 [==============================] - 0s 53ms/step - loss: 3.0773 - mae: 1.3165 - val_loss: 83.4632 - val_mae: 8.2962\n",
      "Epoch 96/100\n",
      "4/4 [==============================] - 0s 52ms/step - loss: 3.7565 - mae: 1.4687 - val_loss: 83.0648 - val_mae: 8.2747\n",
      "Epoch 97/100\n",
      "4/4 [==============================] - 0s 53ms/step - loss: 2.8142 - mae: 1.2583 - val_loss: 82.6855 - val_mae: 8.2541\n",
      "Epoch 98/100\n",
      "4/4 [==============================] - 0s 51ms/step - loss: 3.3818 - mae: 1.4401 - val_loss: 82.3488 - val_mae: 8.2356\n",
      "Epoch 99/100\n",
      "4/4 [==============================] - 0s 52ms/step - loss: 3.1164 - mae: 1.2915 - val_loss: 82.0681 - val_mae: 8.2201\n",
      "Epoch 100/100\n",
      "4/4 [==============================] - 0s 51ms/step - loss: 2.9002 - mae: 1.3531 - val_loss: 81.8105 - val_mae: 8.2057\n"
     ]
    }
   ],
   "source": [
    "epochs = 100\n",
    "history = model.fit(\n",
    "    train_data,\n",
    "    validation_data=test_data,\n",
    "    epochs=epochs)"
   ]
  },
  {
   "cell_type": "code",
   "execution_count": 72,
   "id": "olive-buffer",
   "metadata": {},
   "outputs": [
    {
     "name": "stdout",
     "output_type": "stream",
     "text": [
      "dict_keys(['loss', 'mae', 'val_loss', 'val_mae'])\n"
     ]
    }
   ],
   "source": [
    "print(history.history.keys())"
   ]
  },
  {
   "cell_type": "code",
   "execution_count": 73,
   "id": "ordinary-stationery",
   "metadata": {},
   "outputs": [
    {
     "data": {
      "application/vnd.plotly.v1+json": {
       "config": {
        "plotlyServerURL": "https://plot.ly"
       },
       "data": [
        {
         "name": "Train",
         "type": "scattergl",
         "y": [
          337.2550354003906,
          335.7601318359375,
          334.148193359375,
          332.3914794921875,
          330.6643981933594,
          328.7909240722656,
          326.5737609863281,
          324.10870361328125,
          321.6772766113281,
          319.18304443359375,
          316.23016357421875,
          313.12799072265625,
          309.510009765625,
          306.1915283203125,
          302.4149475097656,
          298.5400390625,
          293.7791442871094,
          289.2898864746094,
          284.88653564453125,
          280.44268798828125,
          275.4653015136719,
          269.61962890625,
          263.68865966796875,
          258.6661376953125,
          252.59530639648438,
          247.3640899658203,
          240.36807250976562,
          234.4731903076172,
          226.96810913085938,
          221.822265625,
          215.5315704345703,
          208.54153442382812,
          203.292724609375,
          196.7688446044922,
          188.70285034179688,
          181.02520751953125,
          174.1824188232422,
          168.42477416992188,
          161.4174041748047,
          154.79443359375,
          149.06234741210938,
          141.00808715820312,
          135.4302215576172,
          128.38067626953125,
          119.95782470703125,
          114.16510009765625,
          109.4176025390625,
          104.6763916015625,
          97.556640625,
          94.04820251464844,
          85.9503402709961,
          82.3298110961914,
          76.67953491210938,
          70.72193145751953,
          68.19160461425781,
          63.746177673339844,
          57.23797607421875,
          55.1671142578125,
          49.88766098022461,
          47.561134338378906,
          44.99706268310547,
          39.076114654541016,
          39.08662414550781,
          35.54386520385742,
          31.707294464111328,
          28.20088768005371,
          27.57638168334961,
          24.312164306640625,
          21.901920318603516,
          21.482440948486328,
          17.99309730529785,
          17.847898483276367,
          15.735943794250488,
          15.323046684265137,
          13.207964897155762,
          12.133049011230469,
          11.237527847290039,
          10.763846397399902,
          9.55890941619873,
          8.572519302368164,
          7.9329833984375,
          7.735836982727051,
          7.147917747497559,
          6.710768222808838,
          5.982173919677734,
          5.756622314453125,
          6.032089710235596,
          5.025674343109131,
          4.843504905700684,
          4.887914180755615,
          4.589984893798828,
          4.350698471069336,
          4.197110652923584,
          3.6119887828826904,
          3.59961199760437,
          4.207986831665039,
          3.255986452102661,
          3.6448638439178467,
          3.387101411819458,
          3.3428871631622314
         ]
        },
        {
         "name": "Valid",
         "type": "scattergl",
         "y": [
          336.9156799316406,
          335.9773864746094,
          334.95953369140625,
          333.8671875,
          332.6954650878906,
          331.43377685546875,
          330.069580078125,
          328.5933532714844,
          326.99749755859375,
          325.2759704589844,
          323.4258117675781,
          321.44830322265625,
          319.34295654296875,
          317.10028076171875,
          314.7255859375,
          312.21710205078125,
          309.56951904296875,
          306.7813720703125,
          303.8580627441406,
          300.8087158203125,
          297.6349182128906,
          294.33905029296875,
          290.91656494140625,
          287.37384033203125,
          283.71380615234375,
          279.95025634765625,
          276.09002685546875,
          272.13446044921875,
          268.0866394042969,
          263.958251953125,
          259.7524108886719,
          255.4842529296875,
          251.1544647216797,
          246.7825164794922,
          242.3596954345703,
          237.88235473632812,
          233.36746215820312,
          228.82156372070312,
          224.26181030273438,
          219.6974334716797,
          215.1396484375,
          210.580810546875,
          206.03646850585938,
          201.51907348632812,
          197.0249786376953,
          192.56362915039062,
          188.14598083496094,
          183.7819366455078,
          179.48239135742188,
          175.2481689453125,
          171.08462524414062,
          166.994873046875,
          162.98538208007812,
          159.05880737304688,
          155.22384643554688,
          151.48306274414062,
          147.84706115722656,
          144.31008911132812,
          140.87313842773438,
          137.54541015625,
          134.32440185546875,
          131.2277374267578,
          128.24139404296875,
          125.37579345703125,
          122.6181411743164,
          119.98040771484375,
          117.45350646972656,
          115.0462875366211,
          112.75968933105469,
          110.56669616699219,
          108.49562072753906,
          106.5301513671875,
          104.66644287109375,
          102.9069595336914,
          101.24382019042969,
          99.67951965332031,
          98.21161651611328,
          96.80709075927734,
          95.48464965820312,
          94.2530288696289,
          93.10408782958984,
          92.04999542236328,
          91.07940673828125,
          90.15785217285156,
          89.31485748291016,
          88.53511047363281,
          87.81084442138672,
          87.1231918334961,
          86.50225067138672,
          85.9109115600586,
          85.36671447753906,
          84.83296966552734,
          84.33184051513672,
          83.87525939941406,
          83.46324157714844,
          83.06481170654297,
          82.68547058105469,
          82.34877014160156,
          82.0680923461914,
          81.81050872802734
         ]
        }
       ],
       "layout": {
        "height": 500,
        "template": {
         "data": {
          "bar": [
           {
            "error_x": {
             "color": "#2a3f5f"
            },
            "error_y": {
             "color": "#2a3f5f"
            },
            "marker": {
             "line": {
              "color": "#E5ECF6",
              "width": 0.5
             }
            },
            "type": "bar"
           }
          ],
          "barpolar": [
           {
            "marker": {
             "line": {
              "color": "#E5ECF6",
              "width": 0.5
             }
            },
            "type": "barpolar"
           }
          ],
          "carpet": [
           {
            "aaxis": {
             "endlinecolor": "#2a3f5f",
             "gridcolor": "white",
             "linecolor": "white",
             "minorgridcolor": "white",
             "startlinecolor": "#2a3f5f"
            },
            "baxis": {
             "endlinecolor": "#2a3f5f",
             "gridcolor": "white",
             "linecolor": "white",
             "minorgridcolor": "white",
             "startlinecolor": "#2a3f5f"
            },
            "type": "carpet"
           }
          ],
          "choropleth": [
           {
            "colorbar": {
             "outlinewidth": 0,
             "ticks": ""
            },
            "type": "choropleth"
           }
          ],
          "contour": [
           {
            "colorbar": {
             "outlinewidth": 0,
             "ticks": ""
            },
            "colorscale": [
             [
              0,
              "#0d0887"
             ],
             [
              0.1111111111111111,
              "#46039f"
             ],
             [
              0.2222222222222222,
              "#7201a8"
             ],
             [
              0.3333333333333333,
              "#9c179e"
             ],
             [
              0.4444444444444444,
              "#bd3786"
             ],
             [
              0.5555555555555556,
              "#d8576b"
             ],
             [
              0.6666666666666666,
              "#ed7953"
             ],
             [
              0.7777777777777778,
              "#fb9f3a"
             ],
             [
              0.8888888888888888,
              "#fdca26"
             ],
             [
              1,
              "#f0f921"
             ]
            ],
            "type": "contour"
           }
          ],
          "contourcarpet": [
           {
            "colorbar": {
             "outlinewidth": 0,
             "ticks": ""
            },
            "type": "contourcarpet"
           }
          ],
          "heatmap": [
           {
            "colorbar": {
             "outlinewidth": 0,
             "ticks": ""
            },
            "colorscale": [
             [
              0,
              "#0d0887"
             ],
             [
              0.1111111111111111,
              "#46039f"
             ],
             [
              0.2222222222222222,
              "#7201a8"
             ],
             [
              0.3333333333333333,
              "#9c179e"
             ],
             [
              0.4444444444444444,
              "#bd3786"
             ],
             [
              0.5555555555555556,
              "#d8576b"
             ],
             [
              0.6666666666666666,
              "#ed7953"
             ],
             [
              0.7777777777777778,
              "#fb9f3a"
             ],
             [
              0.8888888888888888,
              "#fdca26"
             ],
             [
              1,
              "#f0f921"
             ]
            ],
            "type": "heatmap"
           }
          ],
          "heatmapgl": [
           {
            "colorbar": {
             "outlinewidth": 0,
             "ticks": ""
            },
            "colorscale": [
             [
              0,
              "#0d0887"
             ],
             [
              0.1111111111111111,
              "#46039f"
             ],
             [
              0.2222222222222222,
              "#7201a8"
             ],
             [
              0.3333333333333333,
              "#9c179e"
             ],
             [
              0.4444444444444444,
              "#bd3786"
             ],
             [
              0.5555555555555556,
              "#d8576b"
             ],
             [
              0.6666666666666666,
              "#ed7953"
             ],
             [
              0.7777777777777778,
              "#fb9f3a"
             ],
             [
              0.8888888888888888,
              "#fdca26"
             ],
             [
              1,
              "#f0f921"
             ]
            ],
            "type": "heatmapgl"
           }
          ],
          "histogram": [
           {
            "marker": {
             "colorbar": {
              "outlinewidth": 0,
              "ticks": ""
             }
            },
            "type": "histogram"
           }
          ],
          "histogram2d": [
           {
            "colorbar": {
             "outlinewidth": 0,
             "ticks": ""
            },
            "colorscale": [
             [
              0,
              "#0d0887"
             ],
             [
              0.1111111111111111,
              "#46039f"
             ],
             [
              0.2222222222222222,
              "#7201a8"
             ],
             [
              0.3333333333333333,
              "#9c179e"
             ],
             [
              0.4444444444444444,
              "#bd3786"
             ],
             [
              0.5555555555555556,
              "#d8576b"
             ],
             [
              0.6666666666666666,
              "#ed7953"
             ],
             [
              0.7777777777777778,
              "#fb9f3a"
             ],
             [
              0.8888888888888888,
              "#fdca26"
             ],
             [
              1,
              "#f0f921"
             ]
            ],
            "type": "histogram2d"
           }
          ],
          "histogram2dcontour": [
           {
            "colorbar": {
             "outlinewidth": 0,
             "ticks": ""
            },
            "colorscale": [
             [
              0,
              "#0d0887"
             ],
             [
              0.1111111111111111,
              "#46039f"
             ],
             [
              0.2222222222222222,
              "#7201a8"
             ],
             [
              0.3333333333333333,
              "#9c179e"
             ],
             [
              0.4444444444444444,
              "#bd3786"
             ],
             [
              0.5555555555555556,
              "#d8576b"
             ],
             [
              0.6666666666666666,
              "#ed7953"
             ],
             [
              0.7777777777777778,
              "#fb9f3a"
             ],
             [
              0.8888888888888888,
              "#fdca26"
             ],
             [
              1,
              "#f0f921"
             ]
            ],
            "type": "histogram2dcontour"
           }
          ],
          "mesh3d": [
           {
            "colorbar": {
             "outlinewidth": 0,
             "ticks": ""
            },
            "type": "mesh3d"
           }
          ],
          "parcoords": [
           {
            "line": {
             "colorbar": {
              "outlinewidth": 0,
              "ticks": ""
             }
            },
            "type": "parcoords"
           }
          ],
          "pie": [
           {
            "automargin": true,
            "type": "pie"
           }
          ],
          "scatter": [
           {
            "marker": {
             "colorbar": {
              "outlinewidth": 0,
              "ticks": ""
             }
            },
            "type": "scatter"
           }
          ],
          "scatter3d": [
           {
            "line": {
             "colorbar": {
              "outlinewidth": 0,
              "ticks": ""
             }
            },
            "marker": {
             "colorbar": {
              "outlinewidth": 0,
              "ticks": ""
             }
            },
            "type": "scatter3d"
           }
          ],
          "scattercarpet": [
           {
            "marker": {
             "colorbar": {
              "outlinewidth": 0,
              "ticks": ""
             }
            },
            "type": "scattercarpet"
           }
          ],
          "scattergeo": [
           {
            "marker": {
             "colorbar": {
              "outlinewidth": 0,
              "ticks": ""
             }
            },
            "type": "scattergeo"
           }
          ],
          "scattergl": [
           {
            "marker": {
             "colorbar": {
              "outlinewidth": 0,
              "ticks": ""
             }
            },
            "type": "scattergl"
           }
          ],
          "scattermapbox": [
           {
            "marker": {
             "colorbar": {
              "outlinewidth": 0,
              "ticks": ""
             }
            },
            "type": "scattermapbox"
           }
          ],
          "scatterpolar": [
           {
            "marker": {
             "colorbar": {
              "outlinewidth": 0,
              "ticks": ""
             }
            },
            "type": "scatterpolar"
           }
          ],
          "scatterpolargl": [
           {
            "marker": {
             "colorbar": {
              "outlinewidth": 0,
              "ticks": ""
             }
            },
            "type": "scatterpolargl"
           }
          ],
          "scatterternary": [
           {
            "marker": {
             "colorbar": {
              "outlinewidth": 0,
              "ticks": ""
             }
            },
            "type": "scatterternary"
           }
          ],
          "surface": [
           {
            "colorbar": {
             "outlinewidth": 0,
             "ticks": ""
            },
            "colorscale": [
             [
              0,
              "#0d0887"
             ],
             [
              0.1111111111111111,
              "#46039f"
             ],
             [
              0.2222222222222222,
              "#7201a8"
             ],
             [
              0.3333333333333333,
              "#9c179e"
             ],
             [
              0.4444444444444444,
              "#bd3786"
             ],
             [
              0.5555555555555556,
              "#d8576b"
             ],
             [
              0.6666666666666666,
              "#ed7953"
             ],
             [
              0.7777777777777778,
              "#fb9f3a"
             ],
             [
              0.8888888888888888,
              "#fdca26"
             ],
             [
              1,
              "#f0f921"
             ]
            ],
            "type": "surface"
           }
          ],
          "table": [
           {
            "cells": {
             "fill": {
              "color": "#EBF0F8"
             },
             "line": {
              "color": "white"
             }
            },
            "header": {
             "fill": {
              "color": "#C8D4E3"
             },
             "line": {
              "color": "white"
             }
            },
            "type": "table"
           }
          ]
         },
         "layout": {
          "annotationdefaults": {
           "arrowcolor": "#2a3f5f",
           "arrowhead": 0,
           "arrowwidth": 1
          },
          "autotypenumbers": "strict",
          "coloraxis": {
           "colorbar": {
            "outlinewidth": 0,
            "ticks": ""
           }
          },
          "colorscale": {
           "diverging": [
            [
             0,
             "#8e0152"
            ],
            [
             0.1,
             "#c51b7d"
            ],
            [
             0.2,
             "#de77ae"
            ],
            [
             0.3,
             "#f1b6da"
            ],
            [
             0.4,
             "#fde0ef"
            ],
            [
             0.5,
             "#f7f7f7"
            ],
            [
             0.6,
             "#e6f5d0"
            ],
            [
             0.7,
             "#b8e186"
            ],
            [
             0.8,
             "#7fbc41"
            ],
            [
             0.9,
             "#4d9221"
            ],
            [
             1,
             "#276419"
            ]
           ],
           "sequential": [
            [
             0,
             "#0d0887"
            ],
            [
             0.1111111111111111,
             "#46039f"
            ],
            [
             0.2222222222222222,
             "#7201a8"
            ],
            [
             0.3333333333333333,
             "#9c179e"
            ],
            [
             0.4444444444444444,
             "#bd3786"
            ],
            [
             0.5555555555555556,
             "#d8576b"
            ],
            [
             0.6666666666666666,
             "#ed7953"
            ],
            [
             0.7777777777777778,
             "#fb9f3a"
            ],
            [
             0.8888888888888888,
             "#fdca26"
            ],
            [
             1,
             "#f0f921"
            ]
           ],
           "sequentialminus": [
            [
             0,
             "#0d0887"
            ],
            [
             0.1111111111111111,
             "#46039f"
            ],
            [
             0.2222222222222222,
             "#7201a8"
            ],
            [
             0.3333333333333333,
             "#9c179e"
            ],
            [
             0.4444444444444444,
             "#bd3786"
            ],
            [
             0.5555555555555556,
             "#d8576b"
            ],
            [
             0.6666666666666666,
             "#ed7953"
            ],
            [
             0.7777777777777778,
             "#fb9f3a"
            ],
            [
             0.8888888888888888,
             "#fdca26"
            ],
            [
             1,
             "#f0f921"
            ]
           ]
          },
          "colorway": [
           "#636efa",
           "#EF553B",
           "#00cc96",
           "#ab63fa",
           "#FFA15A",
           "#19d3f3",
           "#FF6692",
           "#B6E880",
           "#FF97FF",
           "#FECB52"
          ],
          "font": {
           "color": "#2a3f5f"
          },
          "geo": {
           "bgcolor": "white",
           "lakecolor": "white",
           "landcolor": "#E5ECF6",
           "showlakes": true,
           "showland": true,
           "subunitcolor": "white"
          },
          "hoverlabel": {
           "align": "left"
          },
          "hovermode": "closest",
          "mapbox": {
           "style": "light"
          },
          "paper_bgcolor": "white",
          "plot_bgcolor": "#E5ECF6",
          "polar": {
           "angularaxis": {
            "gridcolor": "white",
            "linecolor": "white",
            "ticks": ""
           },
           "bgcolor": "#E5ECF6",
           "radialaxis": {
            "gridcolor": "white",
            "linecolor": "white",
            "ticks": ""
           }
          },
          "scene": {
           "xaxis": {
            "backgroundcolor": "#E5ECF6",
            "gridcolor": "white",
            "gridwidth": 2,
            "linecolor": "white",
            "showbackground": true,
            "ticks": "",
            "zerolinecolor": "white"
           },
           "yaxis": {
            "backgroundcolor": "#E5ECF6",
            "gridcolor": "white",
            "gridwidth": 2,
            "linecolor": "white",
            "showbackground": true,
            "ticks": "",
            "zerolinecolor": "white"
           },
           "zaxis": {
            "backgroundcolor": "#E5ECF6",
            "gridcolor": "white",
            "gridwidth": 2,
            "linecolor": "white",
            "showbackground": true,
            "ticks": "",
            "zerolinecolor": "white"
           }
          },
          "shapedefaults": {
           "line": {
            "color": "#2a3f5f"
           }
          },
          "ternary": {
           "aaxis": {
            "gridcolor": "white",
            "linecolor": "white",
            "ticks": ""
           },
           "baxis": {
            "gridcolor": "white",
            "linecolor": "white",
            "ticks": ""
           },
           "bgcolor": "#E5ECF6",
           "caxis": {
            "gridcolor": "white",
            "linecolor": "white",
            "ticks": ""
           }
          },
          "title": {
           "x": 0.05
          },
          "xaxis": {
           "automargin": true,
           "gridcolor": "white",
           "linecolor": "white",
           "ticks": "",
           "title": {
            "standoff": 15
           },
           "zerolinecolor": "white",
           "zerolinewidth": 2
          },
          "yaxis": {
           "automargin": true,
           "gridcolor": "white",
           "linecolor": "white",
           "ticks": "",
           "title": {
            "standoff": 15
           },
           "zerolinecolor": "white",
           "zerolinewidth": 2
          }
         }
        },
        "width": 700,
        "xaxis": {
         "title": {
          "text": "Epoch"
         }
        },
        "yaxis": {
         "title": {
          "text": "Loss"
         }
        }
       }
      },
      "text/html": [
       "<div>                            <div id=\"f995f58e-f7cb-44e4-aebc-0ad27278f090\" class=\"plotly-graph-div\" style=\"height:500px; width:700px;\"></div>            <script type=\"text/javascript\">                require([\"plotly\"], function(Plotly) {                    window.PLOTLYENV=window.PLOTLYENV || {};                                    if (document.getElementById(\"f995f58e-f7cb-44e4-aebc-0ad27278f090\")) {                    Plotly.newPlot(                        \"f995f58e-f7cb-44e4-aebc-0ad27278f090\",                        [{\"name\": \"Train\", \"type\": \"scattergl\", \"y\": [337.2550354003906, 335.7601318359375, 334.148193359375, 332.3914794921875, 330.6643981933594, 328.7909240722656, 326.5737609863281, 324.10870361328125, 321.6772766113281, 319.18304443359375, 316.23016357421875, 313.12799072265625, 309.510009765625, 306.1915283203125, 302.4149475097656, 298.5400390625, 293.7791442871094, 289.2898864746094, 284.88653564453125, 280.44268798828125, 275.4653015136719, 269.61962890625, 263.68865966796875, 258.6661376953125, 252.59530639648438, 247.3640899658203, 240.36807250976562, 234.4731903076172, 226.96810913085938, 221.822265625, 215.5315704345703, 208.54153442382812, 203.292724609375, 196.7688446044922, 188.70285034179688, 181.02520751953125, 174.1824188232422, 168.42477416992188, 161.4174041748047, 154.79443359375, 149.06234741210938, 141.00808715820312, 135.4302215576172, 128.38067626953125, 119.95782470703125, 114.16510009765625, 109.4176025390625, 104.6763916015625, 97.556640625, 94.04820251464844, 85.9503402709961, 82.3298110961914, 76.67953491210938, 70.72193145751953, 68.19160461425781, 63.746177673339844, 57.23797607421875, 55.1671142578125, 49.88766098022461, 47.561134338378906, 44.99706268310547, 39.076114654541016, 39.08662414550781, 35.54386520385742, 31.707294464111328, 28.20088768005371, 27.57638168334961, 24.312164306640625, 21.901920318603516, 21.482440948486328, 17.99309730529785, 17.847898483276367, 15.735943794250488, 15.323046684265137, 13.207964897155762, 12.133049011230469, 11.237527847290039, 10.763846397399902, 9.55890941619873, 8.572519302368164, 7.9329833984375, 7.735836982727051, 7.147917747497559, 6.710768222808838, 5.982173919677734, 5.756622314453125, 6.032089710235596, 5.025674343109131, 4.843504905700684, 4.887914180755615, 4.589984893798828, 4.350698471069336, 4.197110652923584, 3.6119887828826904, 3.59961199760437, 4.207986831665039, 3.255986452102661, 3.6448638439178467, 3.387101411819458, 3.3428871631622314]}, {\"name\": \"Valid\", \"type\": \"scattergl\", \"y\": [336.9156799316406, 335.9773864746094, 334.95953369140625, 333.8671875, 332.6954650878906, 331.43377685546875, 330.069580078125, 328.5933532714844, 326.99749755859375, 325.2759704589844, 323.4258117675781, 321.44830322265625, 319.34295654296875, 317.10028076171875, 314.7255859375, 312.21710205078125, 309.56951904296875, 306.7813720703125, 303.8580627441406, 300.8087158203125, 297.6349182128906, 294.33905029296875, 290.91656494140625, 287.37384033203125, 283.71380615234375, 279.95025634765625, 276.09002685546875, 272.13446044921875, 268.0866394042969, 263.958251953125, 259.7524108886719, 255.4842529296875, 251.1544647216797, 246.7825164794922, 242.3596954345703, 237.88235473632812, 233.36746215820312, 228.82156372070312, 224.26181030273438, 219.6974334716797, 215.1396484375, 210.580810546875, 206.03646850585938, 201.51907348632812, 197.0249786376953, 192.56362915039062, 188.14598083496094, 183.7819366455078, 179.48239135742188, 175.2481689453125, 171.08462524414062, 166.994873046875, 162.98538208007812, 159.05880737304688, 155.22384643554688, 151.48306274414062, 147.84706115722656, 144.31008911132812, 140.87313842773438, 137.54541015625, 134.32440185546875, 131.2277374267578, 128.24139404296875, 125.37579345703125, 122.6181411743164, 119.98040771484375, 117.45350646972656, 115.0462875366211, 112.75968933105469, 110.56669616699219, 108.49562072753906, 106.5301513671875, 104.66644287109375, 102.9069595336914, 101.24382019042969, 99.67951965332031, 98.21161651611328, 96.80709075927734, 95.48464965820312, 94.2530288696289, 93.10408782958984, 92.04999542236328, 91.07940673828125, 90.15785217285156, 89.31485748291016, 88.53511047363281, 87.81084442138672, 87.1231918334961, 86.50225067138672, 85.9109115600586, 85.36671447753906, 84.83296966552734, 84.33184051513672, 83.87525939941406, 83.46324157714844, 83.06481170654297, 82.68547058105469, 82.34877014160156, 82.0680923461914, 81.81050872802734]}],                        {\"height\": 500, \"template\": {\"data\": {\"bar\": [{\"error_x\": {\"color\": \"#2a3f5f\"}, \"error_y\": {\"color\": \"#2a3f5f\"}, \"marker\": {\"line\": {\"color\": \"#E5ECF6\", \"width\": 0.5}}, \"type\": \"bar\"}], \"barpolar\": [{\"marker\": {\"line\": {\"color\": \"#E5ECF6\", \"width\": 0.5}}, \"type\": \"barpolar\"}], \"carpet\": [{\"aaxis\": {\"endlinecolor\": \"#2a3f5f\", \"gridcolor\": \"white\", \"linecolor\": \"white\", \"minorgridcolor\": \"white\", \"startlinecolor\": \"#2a3f5f\"}, \"baxis\": {\"endlinecolor\": \"#2a3f5f\", \"gridcolor\": \"white\", \"linecolor\": \"white\", \"minorgridcolor\": \"white\", \"startlinecolor\": \"#2a3f5f\"}, \"type\": \"carpet\"}], \"choropleth\": [{\"colorbar\": {\"outlinewidth\": 0, \"ticks\": \"\"}, \"type\": \"choropleth\"}], \"contour\": [{\"colorbar\": {\"outlinewidth\": 0, \"ticks\": \"\"}, \"colorscale\": [[0.0, \"#0d0887\"], [0.1111111111111111, \"#46039f\"], [0.2222222222222222, \"#7201a8\"], [0.3333333333333333, \"#9c179e\"], [0.4444444444444444, \"#bd3786\"], [0.5555555555555556, \"#d8576b\"], [0.6666666666666666, \"#ed7953\"], [0.7777777777777778, \"#fb9f3a\"], [0.8888888888888888, \"#fdca26\"], [1.0, \"#f0f921\"]], \"type\": \"contour\"}], \"contourcarpet\": [{\"colorbar\": {\"outlinewidth\": 0, \"ticks\": \"\"}, \"type\": \"contourcarpet\"}], \"heatmap\": [{\"colorbar\": {\"outlinewidth\": 0, \"ticks\": \"\"}, \"colorscale\": [[0.0, \"#0d0887\"], [0.1111111111111111, \"#46039f\"], [0.2222222222222222, \"#7201a8\"], [0.3333333333333333, \"#9c179e\"], [0.4444444444444444, \"#bd3786\"], [0.5555555555555556, \"#d8576b\"], [0.6666666666666666, \"#ed7953\"], [0.7777777777777778, \"#fb9f3a\"], [0.8888888888888888, \"#fdca26\"], [1.0, \"#f0f921\"]], \"type\": \"heatmap\"}], \"heatmapgl\": [{\"colorbar\": {\"outlinewidth\": 0, \"ticks\": \"\"}, \"colorscale\": [[0.0, \"#0d0887\"], [0.1111111111111111, \"#46039f\"], [0.2222222222222222, \"#7201a8\"], [0.3333333333333333, \"#9c179e\"], [0.4444444444444444, \"#bd3786\"], [0.5555555555555556, \"#d8576b\"], [0.6666666666666666, \"#ed7953\"], [0.7777777777777778, \"#fb9f3a\"], [0.8888888888888888, \"#fdca26\"], [1.0, \"#f0f921\"]], \"type\": \"heatmapgl\"}], \"histogram\": [{\"marker\": {\"colorbar\": {\"outlinewidth\": 0, \"ticks\": \"\"}}, \"type\": \"histogram\"}], \"histogram2d\": [{\"colorbar\": {\"outlinewidth\": 0, \"ticks\": \"\"}, \"colorscale\": [[0.0, \"#0d0887\"], [0.1111111111111111, \"#46039f\"], [0.2222222222222222, \"#7201a8\"], [0.3333333333333333, \"#9c179e\"], [0.4444444444444444, \"#bd3786\"], [0.5555555555555556, \"#d8576b\"], [0.6666666666666666, \"#ed7953\"], [0.7777777777777778, \"#fb9f3a\"], [0.8888888888888888, \"#fdca26\"], [1.0, \"#f0f921\"]], \"type\": \"histogram2d\"}], \"histogram2dcontour\": [{\"colorbar\": {\"outlinewidth\": 0, \"ticks\": \"\"}, \"colorscale\": [[0.0, \"#0d0887\"], [0.1111111111111111, \"#46039f\"], [0.2222222222222222, \"#7201a8\"], [0.3333333333333333, \"#9c179e\"], [0.4444444444444444, \"#bd3786\"], [0.5555555555555556, \"#d8576b\"], [0.6666666666666666, \"#ed7953\"], [0.7777777777777778, \"#fb9f3a\"], [0.8888888888888888, \"#fdca26\"], [1.0, \"#f0f921\"]], \"type\": \"histogram2dcontour\"}], \"mesh3d\": [{\"colorbar\": {\"outlinewidth\": 0, \"ticks\": \"\"}, \"type\": \"mesh3d\"}], \"parcoords\": [{\"line\": {\"colorbar\": {\"outlinewidth\": 0, \"ticks\": \"\"}}, \"type\": \"parcoords\"}], \"pie\": [{\"automargin\": true, \"type\": \"pie\"}], \"scatter\": [{\"marker\": {\"colorbar\": {\"outlinewidth\": 0, \"ticks\": \"\"}}, \"type\": \"scatter\"}], \"scatter3d\": [{\"line\": {\"colorbar\": {\"outlinewidth\": 0, \"ticks\": \"\"}}, \"marker\": {\"colorbar\": {\"outlinewidth\": 0, \"ticks\": \"\"}}, \"type\": \"scatter3d\"}], \"scattercarpet\": [{\"marker\": {\"colorbar\": {\"outlinewidth\": 0, \"ticks\": \"\"}}, \"type\": \"scattercarpet\"}], \"scattergeo\": [{\"marker\": {\"colorbar\": {\"outlinewidth\": 0, \"ticks\": \"\"}}, \"type\": \"scattergeo\"}], \"scattergl\": [{\"marker\": {\"colorbar\": {\"outlinewidth\": 0, \"ticks\": \"\"}}, \"type\": \"scattergl\"}], \"scattermapbox\": [{\"marker\": {\"colorbar\": {\"outlinewidth\": 0, \"ticks\": \"\"}}, \"type\": \"scattermapbox\"}], \"scatterpolar\": [{\"marker\": {\"colorbar\": {\"outlinewidth\": 0, \"ticks\": \"\"}}, \"type\": \"scatterpolar\"}], \"scatterpolargl\": [{\"marker\": {\"colorbar\": {\"outlinewidth\": 0, \"ticks\": \"\"}}, \"type\": \"scatterpolargl\"}], \"scatterternary\": [{\"marker\": {\"colorbar\": {\"outlinewidth\": 0, \"ticks\": \"\"}}, \"type\": \"scatterternary\"}], \"surface\": [{\"colorbar\": {\"outlinewidth\": 0, \"ticks\": \"\"}, \"colorscale\": [[0.0, \"#0d0887\"], [0.1111111111111111, \"#46039f\"], [0.2222222222222222, \"#7201a8\"], [0.3333333333333333, \"#9c179e\"], [0.4444444444444444, \"#bd3786\"], [0.5555555555555556, \"#d8576b\"], [0.6666666666666666, \"#ed7953\"], [0.7777777777777778, \"#fb9f3a\"], [0.8888888888888888, \"#fdca26\"], [1.0, \"#f0f921\"]], \"type\": \"surface\"}], \"table\": [{\"cells\": {\"fill\": {\"color\": \"#EBF0F8\"}, \"line\": {\"color\": \"white\"}}, \"header\": {\"fill\": {\"color\": \"#C8D4E3\"}, \"line\": {\"color\": \"white\"}}, \"type\": \"table\"}]}, \"layout\": {\"annotationdefaults\": {\"arrowcolor\": \"#2a3f5f\", \"arrowhead\": 0, \"arrowwidth\": 1}, \"autotypenumbers\": \"strict\", \"coloraxis\": {\"colorbar\": {\"outlinewidth\": 0, \"ticks\": \"\"}}, \"colorscale\": {\"diverging\": [[0, \"#8e0152\"], [0.1, \"#c51b7d\"], [0.2, \"#de77ae\"], [0.3, \"#f1b6da\"], [0.4, \"#fde0ef\"], [0.5, \"#f7f7f7\"], [0.6, \"#e6f5d0\"], [0.7, \"#b8e186\"], [0.8, \"#7fbc41\"], [0.9, \"#4d9221\"], [1, \"#276419\"]], \"sequential\": [[0.0, \"#0d0887\"], [0.1111111111111111, \"#46039f\"], [0.2222222222222222, \"#7201a8\"], [0.3333333333333333, \"#9c179e\"], [0.4444444444444444, \"#bd3786\"], [0.5555555555555556, \"#d8576b\"], [0.6666666666666666, \"#ed7953\"], [0.7777777777777778, \"#fb9f3a\"], [0.8888888888888888, \"#fdca26\"], [1.0, \"#f0f921\"]], \"sequentialminus\": [[0.0, \"#0d0887\"], [0.1111111111111111, \"#46039f\"], [0.2222222222222222, \"#7201a8\"], [0.3333333333333333, \"#9c179e\"], [0.4444444444444444, \"#bd3786\"], [0.5555555555555556, \"#d8576b\"], [0.6666666666666666, \"#ed7953\"], [0.7777777777777778, \"#fb9f3a\"], [0.8888888888888888, \"#fdca26\"], [1.0, \"#f0f921\"]]}, \"colorway\": [\"#636efa\", \"#EF553B\", \"#00cc96\", \"#ab63fa\", \"#FFA15A\", \"#19d3f3\", \"#FF6692\", \"#B6E880\", \"#FF97FF\", \"#FECB52\"], \"font\": {\"color\": \"#2a3f5f\"}, \"geo\": {\"bgcolor\": \"white\", \"lakecolor\": \"white\", \"landcolor\": \"#E5ECF6\", \"showlakes\": true, \"showland\": true, \"subunitcolor\": \"white\"}, \"hoverlabel\": {\"align\": \"left\"}, \"hovermode\": \"closest\", \"mapbox\": {\"style\": \"light\"}, \"paper_bgcolor\": \"white\", \"plot_bgcolor\": \"#E5ECF6\", \"polar\": {\"angularaxis\": {\"gridcolor\": \"white\", \"linecolor\": \"white\", \"ticks\": \"\"}, \"bgcolor\": \"#E5ECF6\", \"radialaxis\": {\"gridcolor\": \"white\", \"linecolor\": \"white\", \"ticks\": \"\"}}, \"scene\": {\"xaxis\": {\"backgroundcolor\": \"#E5ECF6\", \"gridcolor\": \"white\", \"gridwidth\": 2, \"linecolor\": \"white\", \"showbackground\": true, \"ticks\": \"\", \"zerolinecolor\": \"white\"}, \"yaxis\": {\"backgroundcolor\": \"#E5ECF6\", \"gridcolor\": \"white\", \"gridwidth\": 2, \"linecolor\": \"white\", \"showbackground\": true, \"ticks\": \"\", \"zerolinecolor\": \"white\"}, \"zaxis\": {\"backgroundcolor\": \"#E5ECF6\", \"gridcolor\": \"white\", \"gridwidth\": 2, \"linecolor\": \"white\", \"showbackground\": true, \"ticks\": \"\", \"zerolinecolor\": \"white\"}}, \"shapedefaults\": {\"line\": {\"color\": \"#2a3f5f\"}}, \"ternary\": {\"aaxis\": {\"gridcolor\": \"white\", \"linecolor\": \"white\", \"ticks\": \"\"}, \"baxis\": {\"gridcolor\": \"white\", \"linecolor\": \"white\", \"ticks\": \"\"}, \"bgcolor\": \"#E5ECF6\", \"caxis\": {\"gridcolor\": \"white\", \"linecolor\": \"white\", \"ticks\": \"\"}}, \"title\": {\"x\": 0.05}, \"xaxis\": {\"automargin\": true, \"gridcolor\": \"white\", \"linecolor\": \"white\", \"ticks\": \"\", \"title\": {\"standoff\": 15}, \"zerolinecolor\": \"white\", \"zerolinewidth\": 2}, \"yaxis\": {\"automargin\": true, \"gridcolor\": \"white\", \"linecolor\": \"white\", \"ticks\": \"\", \"title\": {\"standoff\": 15}, \"zerolinecolor\": \"white\", \"zerolinewidth\": 2}}}, \"width\": 700, \"xaxis\": {\"title\": {\"text\": \"Epoch\"}}, \"yaxis\": {\"title\": {\"text\": \"Loss\"}}},                        {\"responsive\": true}                    ).then(function(){\n",
       "                            \n",
       "var gd = document.getElementById('f995f58e-f7cb-44e4-aebc-0ad27278f090');\n",
       "var x = new MutationObserver(function (mutations, observer) {{\n",
       "        var display = window.getComputedStyle(gd).display;\n",
       "        if (!display || display === 'none') {{\n",
       "            console.log([gd, 'removed!']);\n",
       "            Plotly.purge(gd);\n",
       "            observer.disconnect();\n",
       "        }}\n",
       "}});\n",
       "\n",
       "// Listen for the removal of the full notebook cells\n",
       "var notebookContainer = gd.closest('#notebook-container');\n",
       "if (notebookContainer) {{\n",
       "    x.observe(notebookContainer, {childList: true});\n",
       "}}\n",
       "\n",
       "// Listen for the clearing of the current output cell\n",
       "var outputEl = gd.closest('.output');\n",
       "if (outputEl) {{\n",
       "    x.observe(outputEl, {childList: true});\n",
       "}}\n",
       "\n",
       "                        })                };                });            </script>        </div>"
      ]
     },
     "metadata": {},
     "output_type": "display_data"
    }
   ],
   "source": [
    "fig = go.Figure()\n",
    "fig.add_trace(go.Scattergl(y=history.history['loss'],\n",
    "                    name='Train'))\n",
    "\n",
    "fig.add_trace(go.Scattergl(y=history.history['val_loss'],\n",
    "                     name='Valid'))\n",
    "\n",
    "fig.update_layout(height=500, width=700,\n",
    "                  xaxis_title='Epoch',\n",
    "                  yaxis_title='Loss')\n",
    "fig.show()"
   ]
  },
  {
   "cell_type": "code",
   "execution_count": 74,
   "id": "editorial-surge",
   "metadata": {},
   "outputs": [
    {
     "name": "stdout",
     "output_type": "stream",
     "text": [
      "1/1 [==============================] - 0s 40ms/step - loss: 81.8105 - mae: 8.2057\n",
      "[81.81050872802734, 8.20566177368164]\n"
     ]
    }
   ],
   "source": [
    "results = model.evaluate(test_data)\n",
    "\n",
    "print(results)"
   ]
  },
  {
   "cell_type": "code",
   "execution_count": 75,
   "id": "painted-resistance",
   "metadata": {},
   "outputs": [],
   "source": [
    "# Save the model \n",
    "\n",
    "import joblib\n",
    "model.save(\"/Users/zimingfang/Desktop/Animated GIFs/AwesomeGif/GIF models/number_of_pixels_prediction_model.h5\")"
   ]
  },
  {
   "cell_type": "code",
   "execution_count": null,
   "id": "turned-synthetic",
   "metadata": {},
   "outputs": [],
   "source": []
  }
 ],
 "metadata": {
  "kernelspec": {
   "display_name": "Python 3",
   "language": "python",
   "name": "python3"
  },
  "language_info": {
   "codemirror_mode": {
    "name": "ipython",
    "version": 3
   },
   "file_extension": ".py",
   "mimetype": "text/x-python",
   "name": "python",
   "nbconvert_exporter": "python",
   "pygments_lexer": "ipython3",
   "version": "3.6.4"
  }
 },
 "nbformat": 4,
 "nbformat_minor": 5
}
