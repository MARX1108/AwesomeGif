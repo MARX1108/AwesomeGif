{
 "cells": [
  {
   "cell_type": "code",
   "execution_count": 83,
   "id": "infectious-judgment",
   "metadata": {},
   "outputs": [],
   "source": [
    "import tensorflow as tf \n",
    "import tensorflow_hub as hub \n",
    "from tensorflow.keras import layers \n",
    "import bert \n",
    "import re \n",
    "# re — Regular expression operations\n",
    "import math\n",
    "import csv\n",
    "import pandas as pd                     \n",
    "import cv2\n",
    "from PIL import Image\n",
    "from tensorflow.keras import losses\n",
    "from plotly.subplots import make_subplots\n",
    "import plotly.graph_objects as go"
   ]
  },
  {
   "cell_type": "code",
   "execution_count": 2,
   "id": "breathing-poultry",
   "metadata": {},
   "outputs": [
    {
     "data": {
      "text/plain": [
       "(125782, 2)"
      ]
     },
     "execution_count": 2,
     "metadata": {},
     "output_type": "execute_result"
    }
   ],
   "source": [
    "data = pd.read_csv(\"/Users/zimingfang/Desktop/Animated GIFs/AwesomeGif/tgif-v1.0.tsv\", sep='\\t')\n",
    "data.isnull().values.any()\n",
    "data.shape"
   ]
  },
  {
   "cell_type": "code",
   "execution_count": 3,
   "id": "pending-ukraine",
   "metadata": {},
   "outputs": [],
   "source": [
    "# data.head()"
   ]
  },
  {
   "cell_type": "code",
   "execution_count": 4,
   "id": "dominant-international",
   "metadata": {},
   "outputs": [],
   "source": [
    "gif_links = list(data.y.values)\n",
    "raw_tweets = list(data.x.values)"
   ]
  },
  {
   "cell_type": "code",
   "execution_count": 5,
   "id": "opened-alpha",
   "metadata": {},
   "outputs": [],
   "source": [
    "# gif_links"
   ]
  },
  {
   "cell_type": "code",
   "execution_count": 6,
   "id": "fixed-strengthening",
   "metadata": {},
   "outputs": [],
   "source": [
    "# raw_tweets"
   ]
  },
  {
   "cell_type": "markdown",
   "id": "explicit-mystery",
   "metadata": {},
   "source": [
    "# Tweet Pre-Process "
   ]
  },
  {
   "cell_type": "markdown",
   "id": "cross-continuity",
   "metadata": {},
   "source": [
    "## Remove Special Char"
   ]
  },
  {
   "cell_type": "code",
   "execution_count": 7,
   "id": "metric-vatican",
   "metadata": {},
   "outputs": [],
   "source": [
    "# definition for function for removing html tags \n",
    "TAG_RE = re.compile(r'<[^>]+>')\n",
    "\n",
    "def remove_tags(text):\n",
    "    return TAG_RE.sub('', text)"
   ]
  },
  {
   "cell_type": "code",
   "execution_count": 8,
   "id": "varying-alaska",
   "metadata": {},
   "outputs": [],
   "source": [
    "# definition for function for remove any punctuations and special characters\n",
    "def preprocess_text(raw_tweaet):\n",
    "    # Removing html tags\n",
    "    tweet = remove_tags(raw_tweaet)\n",
    "    # Removing html tags\n",
    "    tweet = re.sub('[^a-zA-Z]', '', tweet)\n",
    "    # Removing html tags\n",
    "    tweet = re.sub(r\"\\s+[a-zA-Z]\\s+\", ' ', tweet)\n",
    "    # Removing multiple spaces\n",
    "    tweet = re.sub(r'\\s+', ' ', tweet)\n",
    "    return tweet"
   ]
  },
  {
   "cell_type": "code",
   "execution_count": 9,
   "id": "loved-singer",
   "metadata": {},
   "outputs": [],
   "source": [
    "# run the preprocess_text function to clean tweets list \n",
    "tweets = [] \n",
    "for tweet in raw_tweets[:50]:\n",
    "    tweets.append(preprocess_text(tweet))"
   ]
  },
  {
   "cell_type": "markdown",
   "id": "signed-stopping",
   "metadata": {},
   "source": [
    "## Tokenizing "
   ]
  },
  {
   "cell_type": "code",
   "execution_count": 10,
   "id": "fiscal-trinity",
   "metadata": {},
   "outputs": [],
   "source": [
    "# Create a tokenizer \n",
    "BertTokenizer = bert.bert_tokenization.FullTokenizer\n",
    "bert_layer = hub.KerasLayer(\"https://tfhub.dev/tensorflow/bert_en_uncased_L-12_H-768_A-12/1\", trainable=False)\n",
    "vocabulary_file = bert_layer.resolved_object.vocab_file.asset_path.numpy()\n",
    "# .numpy(): converts a tensor object into an numpy.ndarray\n",
    "to_lower_case = bert_layer.resolved_object.do_lower_case.numpy()\n",
    "tokenizer = BertTokenizer(vocabulary_file, to_lower_case)"
   ]
  },
  {
   "cell_type": "code",
   "execution_count": 11,
   "id": "expressed-sheep",
   "metadata": {},
   "outputs": [],
   "source": [
    "# Definition for function for convert tweet to ids \n",
    "def tokenize_tweets(text_tweets):\n",
    "    return tokenizer.convert_tokens_to_ids(tokenizer.tokenize(text_tweets))"
   ]
  },
  {
   "cell_type": "code",
   "execution_count": 12,
   "id": "activated-discussion",
   "metadata": {},
   "outputs": [],
   "source": [
    "# run the tokenize_tweets on tweets \n",
    "tokenized_tweets = [tokenize_tweets(tweet) for tweet in tweets]"
   ]
  },
  {
   "cell_type": "markdown",
   "id": "robust-hollywood",
   "metadata": {},
   "source": [
    "# GIF Pre-Process"
   ]
  },
  {
   "cell_type": "code",
   "execution_count": 13,
   "id": "australian-crossing",
   "metadata": {},
   "outputs": [],
   "source": [
    "import requests\n",
    "# Requests is an elegant and simple HTTP library for Python\n",
    "import os \n",
    "# os — Miscellaneous operating system interfaces¶\n",
    "os.chdir('/Users/zimingfang/Desktop/Animated GIFs/AwesomeGif/gifs')\n",
    "# !pwd"
   ]
  },
  {
   "cell_type": "code",
   "execution_count": 14,
   "id": "sunset-carry",
   "metadata": {},
   "outputs": [],
   "source": [
    "def gif_downloader(image_urls, status=[], filenames = []):\n",
    "    \n",
    "    for index, img in enumerate(image_urls):\n",
    "        # We can split the file based upon / and extract the last split within the python list below:\n",
    "        file_name = img.split('/')[-1]\n",
    "        #print(\"fThis is the file name: {file_name}\")\n",
    "        filenames.append(file_name) \n",
    "        # Now let's send a request to the image URL:\n",
    "        r = requests.get(img, stream=True)\n",
    "        # We can check that the status code is 200 before doing anything else:\n",
    "        if r.status_code == 200:\n",
    "            # This command below will allow us to write the data to a file as binary:\n",
    "            with open(file_name, 'wb') as f:\n",
    "                for chunk in r:\n",
    "                    f.write(chunk)\n",
    "            status.append(True)\n",
    "        else:\n",
    "            # We will write all of the images back to the broken_images list:\n",
    "            status.append(False)\n",
    "    return filenames, status"
   ]
  },
  {
   "cell_type": "code",
   "execution_count": 15,
   "id": "young-bloom",
   "metadata": {},
   "outputs": [],
   "source": [
    "# def load_gif(image_path, sess):\n",
    "#     image = tf.io.read_file(image_file)\n",
    "#     image = tf.io.decode_gif(image)\n",
    "#     return sess.run(image)"
   ]
  },
  {
   "cell_type": "code",
   "execution_count": 16,
   "id": "consolidated-action",
   "metadata": {},
   "outputs": [
    {
     "name": "stdout",
     "output_type": "stream",
     "text": [
      "False\n"
     ]
    }
   ],
   "source": [
    "download_status = []\n",
    "filenames = []\n",
    "filenames, download_status = gif_downloader(gif_links[:50], status=download_status)\n",
    "# if any gif was not downloaded successfully \n",
    "print(any(status == False for status in download_status))"
   ]
  },
  {
   "cell_type": "code",
   "execution_count": 17,
   "id": "ideal-potato",
   "metadata": {},
   "outputs": [],
   "source": [
    "# filenames"
   ]
  },
  {
   "cell_type": "code",
   "execution_count": 18,
   "id": "delayed-brand",
   "metadata": {},
   "outputs": [],
   "source": [
    "def get_avg_fps(PIL_Image_object):\n",
    "    \"\"\" Returns the average framerate of a PIL Image object \"\"\"\n",
    "    PIL_Image_object.seek(0)\n",
    "    frames = duration = 0\n",
    "    while True:\n",
    "        try:\n",
    "            frames += 1\n",
    "            duration += PIL_Image_object.info['duration']\n",
    "            PIL_Image_object.seek(PIL_Image_object.tell() + 1)\n",
    "        except EOFError:\n",
    "            return frames / duration * 1000\n",
    "    return None"
   ]
  },
  {
   "cell_type": "code",
   "execution_count": 19,
   "id": "swedish-portsmouth",
   "metadata": {},
   "outputs": [],
   "source": [
    "# In GIF files, each frame has its own duration. So there is no general fps for a GIF file. \n",
    "framerates = []\n",
    "for gif_file_path in filenames: \n",
    "#     cap=cv2.VideoCapture(\"gif_file_path\")\n",
    "#     fps = cap.get(cv2.CAP_PROP_FPS)\n",
    "    gif_obj = Image.open(gif_file_path)\n",
    "    framerates.append(get_avg_fps(gif_obj))"
   ]
  },
  {
   "cell_type": "code",
   "execution_count": 20,
   "id": "dense-above",
   "metadata": {},
   "outputs": [],
   "source": [
    "# framerates"
   ]
  },
  {
   "cell_type": "markdown",
   "id": "outer-brunswick",
   "metadata": {},
   "source": [
    "# Prerparing Data For Training\n"
   ]
  },
  {
   "cell_type": "code",
   "execution_count": 21,
   "id": "public-artwork",
   "metadata": {},
   "outputs": [],
   "source": [
    "x_train = tokenized_tweets\n",
    "y_train = framerates"
   ]
  },
  {
   "cell_type": "code",
   "execution_count": 26,
   "id": "spatial-raise",
   "metadata": {},
   "outputs": [],
   "source": [
    "# len(x_train)"
   ]
  },
  {
   "cell_type": "code",
   "execution_count": 25,
   "id": "determined-writing",
   "metadata": {},
   "outputs": [],
   "source": [
    "tweets_with_len = [[tweet, y_train[i], len(tweet)]\n",
    "                 for i, tweet in enumerate(x_train)]"
   ]
  },
  {
   "cell_type": "code",
   "execution_count": 27,
   "id": "stuck-pharmaceutical",
   "metadata": {},
   "outputs": [],
   "source": [
    "#sort the data by tweet length \n",
    "tweets_with_len.sort(key=lambda x: x[2])\n",
    "#remove the tweet length attribute from dataset \n",
    "sorted_tweets_labels = [(tweet_lab[0], tweet_lab[1]) for tweet_lab in tweets_with_len]"
   ]
  },
  {
   "cell_type": "code",
   "execution_count": 29,
   "id": "positive-allocation",
   "metadata": {},
   "outputs": [],
   "source": [
    "# sorted_tweets_labels"
   ]
  },
  {
   "cell_type": "code",
   "execution_count": 33,
   "id": "thick-niagara",
   "metadata": {},
   "outputs": [],
   "source": [
    "# convert the sorted dataset into a TensorFlow 2.0-compliant input dataset shape\n",
    "processed_dataset = tf.data.Dataset.from_generator(lambda: sorted_tweets_labels, output_types=(tf.int32, tf.float32))\n"
   ]
  },
  {
   "cell_type": "code",
   "execution_count": 34,
   "id": "ecological-trial",
   "metadata": {},
   "outputs": [],
   "source": [
    "BATCH_SIZE = 10 \n",
    "batched_dataset = processed_dataset.padded_batch(BATCH_SIZE, padded_shapes=((None, ), ()))"
   ]
  },
  {
   "cell_type": "code",
   "execution_count": 82,
   "id": "guided-intro",
   "metadata": {},
   "outputs": [],
   "source": [
    "# next(iter(batched_dataset))"
   ]
  },
  {
   "cell_type": "markdown",
   "id": "diverse-investigator",
   "metadata": {},
   "source": [
    "# Creating the Model\n"
   ]
  },
  {
   "cell_type": "code",
   "execution_count": 72,
   "id": "daily-option",
   "metadata": {},
   "outputs": [],
   "source": [
    "VOCAB_LENGTH = len(tokenizer.vocab)\n",
    "EMB_DIM = 200"
   ]
  },
  {
   "cell_type": "code",
   "execution_count": 88,
   "id": "careful-rouge",
   "metadata": {},
   "outputs": [
    {
     "name": "stdout",
     "output_type": "stream",
     "text": [
      "Model: \"sequential_2\"\n",
      "_________________________________________________________________\n",
      "Layer (type)                 Output Shape              Param #   \n",
      "=================================================================\n",
      "embedding_7 (Embedding)      (None, None, 200)         6104600   \n",
      "_________________________________________________________________\n",
      "dropout_6 (Dropout)          (None, None, 200)         0         \n",
      "_________________________________________________________________\n",
      "global_average_pooling1d_2 ( (None, 200)               0         \n",
      "_________________________________________________________________\n",
      "dropout_7 (Dropout)          (None, 200)               0         \n",
      "_________________________________________________________________\n",
      "dense_9 (Dense)              (None, 1)                 201       \n",
      "=================================================================\n",
      "Total params: 6,104,801\n",
      "Trainable params: 6,104,801\n",
      "Non-trainable params: 0\n",
      "_________________________________________________________________\n"
     ]
    }
   ],
   "source": [
    "#GlobalAveragePooling1D layer returns a fixed-length output vector for each example by averaging over the sequence dimension.\n",
    "#allows the model to handle input of variable length, in the simplest way possible\n",
    "\n",
    "model = tf.keras.Sequential([\n",
    "    layers.Embedding(VOCAB_LENGTH + 1, EMB_DIM),\n",
    "    layers.Dropout(0.2),    \n",
    "    layers.GlobalAveragePooling1D(), \n",
    "    layers.Dropout(0.2),\n",
    "    layers.Dense(1, activation='linear') #set activation to linear for regression\n",
    "])\n",
    "\n",
    "model.compile(optimizer='adam', loss='mse', metrics=['mae'])\n",
    "model.summary()"
   ]
  },
  {
   "cell_type": "code",
   "execution_count": 89,
   "id": "stone-liberia",
   "metadata": {},
   "outputs": [
    {
     "name": "stdout",
     "output_type": "stream",
     "text": [
      "Epoch 1/100\n",
      "4/4 [==============================] - 1s 105ms/step - loss: 192.5695 - mae: 12.2242 - val_loss: 155.0065 - val_mae: 11.5399\n",
      "Epoch 2/100\n",
      "4/4 [==============================] - 0s 60ms/step - loss: 191.6136 - mae: 12.1848 - val_loss: 154.4618 - val_mae: 11.5159\n",
      "Epoch 3/100\n",
      "4/4 [==============================] - 0s 57ms/step - loss: 190.5990 - mae: 12.1409 - val_loss: 153.8709 - val_mae: 11.4898\n",
      "Epoch 4/100\n",
      "4/4 [==============================] - 0s 57ms/step - loss: 189.6089 - mae: 12.1003 - val_loss: 153.2388 - val_mae: 11.4619\n",
      "Epoch 5/100\n",
      "4/4 [==============================] - 0s 69ms/step - loss: 188.4347 - mae: 12.0510 - val_loss: 152.5599 - val_mae: 11.4319\n",
      "Epoch 6/100\n",
      "4/4 [==============================] - 0s 56ms/step - loss: 187.3515 - mae: 12.0034 - val_loss: 151.8275 - val_mae: 11.3995\n",
      "Epoch 7/100\n",
      "4/4 [==============================] - 0s 56ms/step - loss: 186.1600 - mae: 11.9534 - val_loss: 151.0382 - val_mae: 11.3644\n",
      "Epoch 8/100\n",
      "4/4 [==============================] - 0s 56ms/step - loss: 184.8143 - mae: 11.8969 - val_loss: 150.1869 - val_mae: 11.3264\n",
      "Epoch 9/100\n",
      "4/4 [==============================] - 0s 132ms/step - loss: 183.3473 - mae: 11.8375 - val_loss: 149.2673 - val_mae: 11.2853\n",
      "Epoch 10/100\n",
      "4/4 [==============================] - 0s 55ms/step - loss: 181.7486 - mae: 11.7659 - val_loss: 148.2761 - val_mae: 11.2408\n",
      "Epoch 11/100\n",
      "4/4 [==============================] - 0s 53ms/step - loss: 179.9205 - mae: 11.6840 - val_loss: 147.2093 - val_mae: 11.1927\n",
      "Epoch 12/100\n",
      "4/4 [==============================] - 0s 55ms/step - loss: 178.0813 - mae: 11.6068 - val_loss: 146.0682 - val_mae: 11.1410\n",
      "Epoch 13/100\n",
      "4/4 [==============================] - 0s 55ms/step - loss: 176.1772 - mae: 11.5262 - val_loss: 144.8496 - val_mae: 11.0854\n",
      "Epoch 14/100\n",
      "4/4 [==============================] - 0s 63ms/step - loss: 173.8299 - mae: 11.4190 - val_loss: 143.5491 - val_mae: 11.0258\n",
      "Epoch 15/100\n",
      "4/4 [==============================] - 0s 54ms/step - loss: 171.8976 - mae: 11.3228 - val_loss: 142.1712 - val_mae: 10.9622\n",
      "Epoch 16/100\n",
      "4/4 [==============================] - 0s 51ms/step - loss: 169.2445 - mae: 11.2142 - val_loss: 140.7165 - val_mae: 10.8946\n",
      "Epoch 17/100\n",
      "4/4 [==============================] - 0s 53ms/step - loss: 167.1636 - mae: 11.1185 - val_loss: 139.1864 - val_mae: 10.8231\n",
      "Epoch 18/100\n",
      "4/4 [==============================] - 0s 50ms/step - loss: 164.3277 - mae: 10.9886 - val_loss: 137.5821 - val_mae: 10.7475\n",
      "Epoch 19/100\n",
      "4/4 [==============================] - 0s 52ms/step - loss: 161.2856 - mae: 10.8475 - val_loss: 135.9024 - val_mae: 10.6677\n",
      "Epoch 20/100\n",
      "4/4 [==============================] - 0s 51ms/step - loss: 158.4988 - mae: 10.7122 - val_loss: 134.1485 - val_mae: 10.5836\n",
      "Epoch 21/100\n",
      "4/4 [==============================] - 0s 51ms/step - loss: 156.2539 - mae: 10.5864 - val_loss: 132.3316 - val_mae: 10.4956\n",
      "Epoch 22/100\n",
      "4/4 [==============================] - 0s 50ms/step - loss: 152.6528 - mae: 10.4407 - val_loss: 130.4517 - val_mae: 10.4038\n",
      "Epoch 23/100\n",
      "4/4 [==============================] - 0s 51ms/step - loss: 149.1413 - mae: 10.2710 - val_loss: 128.5120 - val_mae: 10.3082\n",
      "Epoch 24/100\n",
      "4/4 [==============================] - 0s 53ms/step - loss: 145.8118 - mae: 10.0997 - val_loss: 126.5153 - val_mae: 10.2088\n",
      "Epoch 25/100\n",
      "4/4 [==============================] - 0s 59ms/step - loss: 143.5711 - mae: 9.9870 - val_loss: 124.4739 - val_mae: 10.1060\n",
      "Epoch 26/100\n",
      "4/4 [==============================] - 0s 52ms/step - loss: 139.0647 - mae: 9.7606 - val_loss: 122.3879 - val_mae: 9.9997\n",
      "Epoch 27/100\n",
      "4/4 [==============================] - 0s 57ms/step - loss: 136.5904 - mae: 9.6294 - val_loss: 120.2655 - val_mae: 9.8902\n",
      "Epoch 28/100\n",
      "4/4 [==============================] - 0s 53ms/step - loss: 132.4634 - mae: 9.3907 - val_loss: 118.1047 - val_mae: 9.7773\n",
      "Epoch 29/100\n",
      "4/4 [==============================] - 0s 53ms/step - loss: 128.7648 - mae: 9.2071 - val_loss: 115.9094 - val_mae: 9.6611\n",
      "Epoch 30/100\n",
      "4/4 [==============================] - 0s 53ms/step - loss: 125.6872 - mae: 8.9999 - val_loss: 113.6875 - val_mae: 9.5418\n",
      "Epoch 31/100\n",
      "4/4 [==============================] - 0s 53ms/step - loss: 121.9311 - mae: 8.8026 - val_loss: 111.4472 - val_mae: 9.4198\n",
      "Epoch 32/100\n",
      "4/4 [==============================] - 0s 51ms/step - loss: 117.2760 - mae: 8.5787 - val_loss: 109.1922 - val_mae: 9.2952\n",
      "Epoch 33/100\n",
      "4/4 [==============================] - 0s 53ms/step - loss: 113.6808 - mae: 8.3573 - val_loss: 106.9304 - val_mae: 9.1684\n",
      "Epoch 34/100\n",
      "4/4 [==============================] - 0s 54ms/step - loss: 111.0494 - mae: 8.1834 - val_loss: 104.6739 - val_mae: 9.0398\n",
      "Epoch 35/100\n",
      "4/4 [==============================] - 0s 53ms/step - loss: 108.3090 - mae: 7.9745 - val_loss: 102.4245 - val_mae: 8.9095\n",
      "Epoch 36/100\n",
      "4/4 [==============================] - 0s 55ms/step - loss: 103.6658 - mae: 7.7330 - val_loss: 100.1823 - val_mae: 8.7773\n",
      "Epoch 37/100\n",
      "4/4 [==============================] - 0s 55ms/step - loss: 101.0884 - mae: 7.5334 - val_loss: 97.9589 - val_mae: 8.6439\n",
      "Epoch 38/100\n",
      "4/4 [==============================] - 0s 59ms/step - loss: 97.9254 - mae: 7.3882 - val_loss: 95.7607 - val_mae: 8.5097\n",
      "Epoch 39/100\n",
      "4/4 [==============================] - 0s 54ms/step - loss: 94.3508 - mae: 7.1359 - val_loss: 93.5919 - val_mae: 8.3747\n",
      "Epoch 40/100\n",
      "4/4 [==============================] - 0s 52ms/step - loss: 92.1430 - mae: 7.0170 - val_loss: 91.4563 - val_mae: 8.2393\n",
      "Epoch 41/100\n",
      "4/4 [==============================] - 0s 94ms/step - loss: 88.1331 - mae: 6.8021 - val_loss: 89.3654 - val_mae: 8.1349\n",
      "Epoch 42/100\n",
      "4/4 [==============================] - 0s 51ms/step - loss: 85.8331 - mae: 6.5544 - val_loss: 87.3212 - val_mae: 8.0439\n",
      "Epoch 43/100\n",
      "4/4 [==============================] - 0s 49ms/step - loss: 82.5236 - mae: 6.4123 - val_loss: 85.3222 - val_mae: 7.9533\n",
      "Epoch 44/100\n",
      "4/4 [==============================] - 0s 51ms/step - loss: 78.9311 - mae: 6.1551 - val_loss: 83.3779 - val_mae: 7.8636\n",
      "Epoch 45/100\n",
      "4/4 [==============================] - 0s 52ms/step - loss: 76.4164 - mae: 5.9450 - val_loss: 81.4935 - val_mae: 7.7749\n",
      "Epoch 46/100\n",
      "4/4 [==============================] - 0s 51ms/step - loss: 71.7000 - mae: 5.7156 - val_loss: 79.6637 - val_mae: 7.6873\n",
      "Epoch 47/100\n",
      "4/4 [==============================] - 0s 53ms/step - loss: 70.8316 - mae: 5.5987 - val_loss: 77.8940 - val_mae: 7.6009\n",
      "Epoch 48/100\n",
      "4/4 [==============================] - 0s 52ms/step - loss: 67.9435 - mae: 5.3866 - val_loss: 76.1893 - val_mae: 7.5162\n",
      "Epoch 49/100\n",
      "4/4 [==============================] - 0s 53ms/step - loss: 66.1604 - mae: 5.2179 - val_loss: 74.5520 - val_mae: 7.4333\n",
      "Epoch 50/100\n",
      "4/4 [==============================] - 0s 54ms/step - loss: 64.1096 - mae: 5.0808 - val_loss: 72.9775 - val_mae: 7.3521\n",
      "Epoch 51/100\n",
      "4/4 [==============================] - 0s 53ms/step - loss: 62.8395 - mae: 4.9374 - val_loss: 71.4623 - val_mae: 7.2725\n",
      "Epoch 52/100\n",
      "4/4 [==============================] - 0s 52ms/step - loss: 58.1821 - mae: 4.5850 - val_loss: 70.0082 - val_mae: 7.1947\n",
      "Epoch 53/100\n",
      "4/4 [==============================] - 0s 51ms/step - loss: 56.8938 - mae: 4.4248 - val_loss: 68.6223 - val_mae: 7.1193\n",
      "Epoch 54/100\n",
      "4/4 [==============================] - 0s 52ms/step - loss: 53.5174 - mae: 4.2836 - val_loss: 67.2976 - val_mae: 7.0459\n",
      "Epoch 55/100\n",
      "4/4 [==============================] - 0s 58ms/step - loss: 53.2068 - mae: 4.1809 - val_loss: 66.0430 - val_mae: 6.9752\n",
      "Epoch 56/100\n",
      "4/4 [==============================] - 0s 55ms/step - loss: 51.6939 - mae: 4.0113 - val_loss: 64.8538 - val_mae: 6.9069\n",
      "Epoch 57/100\n",
      "4/4 [==============================] - 0s 52ms/step - loss: 50.4259 - mae: 3.9189 - val_loss: 63.7198 - val_mae: 6.8407\n",
      "Epoch 58/100\n",
      "4/4 [==============================] - 0s 51ms/step - loss: 48.3146 - mae: 3.6353 - val_loss: 62.6460 - val_mae: 6.7770\n",
      "Epoch 59/100\n",
      "4/4 [==============================] - 0s 52ms/step - loss: 45.9719 - mae: 3.5578 - val_loss: 61.6301 - val_mae: 6.7157\n",
      "Epoch 60/100\n",
      "4/4 [==============================] - 0s 50ms/step - loss: 45.2383 - mae: 3.4390 - val_loss: 60.6745 - val_mae: 6.6572\n",
      "Epoch 61/100\n",
      "4/4 [==============================] - 0s 52ms/step - loss: 44.4588 - mae: 3.3338 - val_loss: 59.7798 - val_mae: 6.6017\n"
     ]
    },
    {
     "name": "stdout",
     "output_type": "stream",
     "text": [
      "Epoch 62/100\n",
      "4/4 [==============================] - 0s 51ms/step - loss: 43.5951 - mae: 3.2958 - val_loss: 58.9398 - val_mae: 6.5489\n",
      "Epoch 63/100\n",
      "4/4 [==============================] - 0s 50ms/step - loss: 41.1602 - mae: 3.1245 - val_loss: 58.1426 - val_mae: 6.4980\n",
      "Epoch 64/100\n",
      "4/4 [==============================] - 0s 51ms/step - loss: 40.5123 - mae: 3.2756 - val_loss: 57.3867 - val_mae: 6.4490\n",
      "Epoch 65/100\n",
      "4/4 [==============================] - 0s 52ms/step - loss: 40.1970 - mae: 3.1369 - val_loss: 56.6876 - val_mae: 6.4035\n",
      "Epoch 66/100\n",
      "4/4 [==============================] - 0s 53ms/step - loss: 37.3339 - mae: 2.9653 - val_loss: 56.0246 - val_mae: 6.3596\n",
      "Epoch 67/100\n",
      "4/4 [==============================] - 0s 52ms/step - loss: 36.7139 - mae: 2.9767 - val_loss: 55.4098 - val_mae: 6.3182\n",
      "Epoch 68/100\n",
      "4/4 [==============================] - 0s 53ms/step - loss: 36.9138 - mae: 2.9842 - val_loss: 54.8325 - val_mae: 6.2787\n",
      "Epoch 69/100\n",
      "4/4 [==============================] - 0s 54ms/step - loss: 37.3424 - mae: 3.1426 - val_loss: 54.3019 - val_mae: 6.2420\n",
      "Epoch 70/100\n",
      "4/4 [==============================] - 0s 52ms/step - loss: 34.6139 - mae: 2.9569 - val_loss: 53.8175 - val_mae: 6.2083\n",
      "Epoch 71/100\n",
      "4/4 [==============================] - 0s 105ms/step - loss: 33.8848 - mae: 2.8983 - val_loss: 53.3727 - val_mae: 6.1770\n",
      "Epoch 72/100\n",
      "4/4 [==============================] - 0s 54ms/step - loss: 32.1445 - mae: 2.8929 - val_loss: 52.9640 - val_mae: 6.1483\n",
      "Epoch 73/100\n",
      "4/4 [==============================] - 0s 53ms/step - loss: 32.2862 - mae: 2.8768 - val_loss: 52.5898 - val_mae: 6.1223\n",
      "Epoch 74/100\n",
      "4/4 [==============================] - 0s 53ms/step - loss: 32.6050 - mae: 2.9033 - val_loss: 52.2368 - val_mae: 6.0976\n",
      "Epoch 75/100\n",
      "4/4 [==============================] - 0s 56ms/step - loss: 32.1635 - mae: 2.8848 - val_loss: 51.9058 - val_mae: 6.0741\n",
      "Epoch 76/100\n",
      "4/4 [==============================] - 0s 53ms/step - loss: 30.0463 - mae: 2.8581 - val_loss: 51.6141 - val_mae: 6.0537\n",
      "Epoch 77/100\n",
      "4/4 [==============================] - 0s 54ms/step - loss: 29.0538 - mae: 2.8047 - val_loss: 51.3538 - val_mae: 6.0357\n",
      "Epoch 78/100\n",
      "4/4 [==============================] - 0s 51ms/step - loss: 28.3875 - mae: 2.6557 - val_loss: 51.1014 - val_mae: 6.0176\n",
      "Epoch 79/100\n",
      "4/4 [==============================] - 0s 56ms/step - loss: 27.2774 - mae: 2.6926 - val_loss: 50.8849 - val_mae: 6.0022\n",
      "Epoch 80/100\n",
      "4/4 [==============================] - 0s 57ms/step - loss: 26.4313 - mae: 2.7863 - val_loss: 50.6942 - val_mae: 5.9886\n",
      "Epoch 81/100\n",
      "4/4 [==============================] - 0s 52ms/step - loss: 25.9419 - mae: 2.5822 - val_loss: 50.5212 - val_mae: 5.9759\n",
      "Epoch 82/100\n",
      "4/4 [==============================] - 0s 52ms/step - loss: 27.2072 - mae: 2.6630 - val_loss: 50.3554 - val_mae: 5.9640\n",
      "Epoch 83/100\n",
      "4/4 [==============================] - 0s 53ms/step - loss: 25.2464 - mae: 2.6159 - val_loss: 50.1987 - val_mae: 5.9528\n",
      "Epoch 84/100\n",
      "4/4 [==============================] - 0s 55ms/step - loss: 23.9149 - mae: 2.4600 - val_loss: 50.0499 - val_mae: 5.9420\n",
      "Epoch 85/100\n",
      "4/4 [==============================] - 0s 55ms/step - loss: 24.3793 - mae: 2.4883 - val_loss: 49.9056 - val_mae: 5.9314\n",
      "Epoch 86/100\n",
      "4/4 [==============================] - 0s 58ms/step - loss: 22.1107 - mae: 2.4677 - val_loss: 49.7924 - val_mae: 5.9238\n",
      "Epoch 87/100\n",
      "4/4 [==============================] - 0s 56ms/step - loss: 21.2821 - mae: 2.3510 - val_loss: 49.6826 - val_mae: 5.9162\n",
      "Epoch 88/100\n",
      "4/4 [==============================] - 0s 55ms/step - loss: 23.0951 - mae: 2.4174 - val_loss: 49.5925 - val_mae: 5.9104\n",
      "Epoch 89/100\n",
      "4/4 [==============================] - 0s 54ms/step - loss: 21.2049 - mae: 2.3983 - val_loss: 49.5014 - val_mae: 5.9048\n",
      "Epoch 90/100\n",
      "4/4 [==============================] - 0s 54ms/step - loss: 20.5183 - mae: 2.3145 - val_loss: 49.4175 - val_mae: 5.8997\n",
      "Epoch 91/100\n",
      "4/4 [==============================] - 0s 50ms/step - loss: 19.3365 - mae: 2.1235 - val_loss: 49.3311 - val_mae: 5.8946\n",
      "Epoch 92/100\n",
      "4/4 [==============================] - 0s 52ms/step - loss: 21.0983 - mae: 2.1843 - val_loss: 49.2558 - val_mae: 5.8902\n",
      "Epoch 93/100\n",
      "4/4 [==============================] - 0s 50ms/step - loss: 18.1624 - mae: 2.1794 - val_loss: 49.1879 - val_mae: 5.8859\n",
      "Epoch 94/100\n",
      "4/4 [==============================] - 0s 53ms/step - loss: 20.1333 - mae: 2.3331 - val_loss: 49.1188 - val_mae: 5.8813\n",
      "Epoch 95/100\n",
      "4/4 [==============================] - 0s 55ms/step - loss: 17.9159 - mae: 2.2040 - val_loss: 49.0592 - val_mae: 5.8775\n",
      "Epoch 96/100\n",
      "4/4 [==============================] - 0s 52ms/step - loss: 16.9930 - mae: 1.9282 - val_loss: 48.9989 - val_mae: 5.8738\n",
      "Epoch 97/100\n",
      "4/4 [==============================] - 0s 52ms/step - loss: 17.6811 - mae: 2.0613 - val_loss: 48.9360 - val_mae: 5.8696\n",
      "Epoch 98/100\n",
      "4/4 [==============================] - 0s 52ms/step - loss: 16.8607 - mae: 2.0166 - val_loss: 48.8882 - val_mae: 5.8668\n",
      "Epoch 99/100\n",
      "4/4 [==============================] - 0s 53ms/step - loss: 16.8890 - mae: 1.9486 - val_loss: 48.8621 - val_mae: 5.8655\n",
      "Epoch 100/100\n",
      "4/4 [==============================] - 0s 56ms/step - loss: 16.0732 - mae: 1.9624 - val_loss: 48.8553 - val_mae: 5.8657\n"
     ]
    }
   ],
   "source": [
    "epochs = 100\n",
    "history = model.fit(\n",
    "    train_data,\n",
    "    validation_data=test_data,\n",
    "    epochs=epochs)"
   ]
  },
  {
   "cell_type": "code",
   "execution_count": 86,
   "id": "infrared-provider",
   "metadata": {},
   "outputs": [
    {
     "name": "stdout",
     "output_type": "stream",
     "text": [
      "dict_keys(['loss', 'mae', 'val_loss', 'val_mae'])\n"
     ]
    }
   ],
   "source": [
    "print(history.history.keys())"
   ]
  },
  {
   "cell_type": "code",
   "execution_count": 87,
   "id": "concerned-mercury",
   "metadata": {},
   "outputs": [
    {
     "data": {
      "application/vnd.plotly.v1+json": {
       "config": {
        "plotlyServerURL": "https://plot.ly"
       },
       "data": [
        {
         "name": "Train",
         "type": "scattergl",
         "y": [
          190.96861267089844,
          190.46060180664062,
          189.611328125,
          188.546142578125,
          187.5609893798828,
          186.2089080810547,
          185.11241149902344,
          183.64547729492188,
          182.07635498046875,
          180.5723114013672,
          178.64781188964844,
          176.6000213623047,
          174.50582885742188,
          172.4803466796875,
          170.04922485351562,
          167.58529663085938,
          165.24887084960938,
          162.22872924804688,
          159.2862548828125,
          156.7265167236328,
          153.66421508789062,
          150.67984008789062,
          147.4420166015625,
          143.41357421875,
          140.3160400390625,
          136.60531616210938,
          133.46450805664062,
          129.34442138671875,
          125.47391510009766,
          121.8805923461914,
          118.9869384765625,
          114.51417541503906,
          111.9264907836914,
          108.7665786743164,
          103.9902572631836,
          100.51586151123047,
          96.71711730957031,
          93.64793395996094,
          90.04350280761719,
          87.44506072998047,
          83.76734924316406,
          81.04907989501953,
          77.90403747558594,
          74.96947479248047,
          71.80847930908203,
          70.22113037109375,
          66.6126708984375,
          64.05115509033203,
          61.62422561645508,
          60.365577697753906,
          57.860107421875,
          54.699012756347656,
          53.044105529785156,
          52.118255615234375,
          49.23030471801758,
          48.51753616333008,
          45.80263137817383,
          43.6963005065918,
          41.57736587524414,
          41.19346237182617,
          39.090660095214844,
          38.82719039916992,
          37.242454528808594,
          36.086395263671875,
          36.89024353027344,
          34.942787170410156,
          34.23383331298828,
          32.76586151123047,
          30.887073516845703,
          30.851886749267578,
          29.827905654907227,
          28.703731536865234,
          29.677860260009766,
          26.59885597229004,
          27.824420928955078,
          25.208860397338867,
          25.16366958618164,
          25.334636688232422,
          24.443622589111328,
          24.182628631591797,
          23.104568481445312,
          22.961090087890625,
          20.395017623901367,
          21.011035919189453,
          22.343997955322266,
          20.79890251159668,
          20.22892189025879,
          19.103487014770508,
          18.394512176513672,
          19.44622802734375,
          17.024822235107422,
          15.297930717468262,
          16.005081176757812,
          16.831607818603516,
          16.057140350341797,
          16.499605178833008,
          15.307769775390625,
          14.647880554199219,
          14.320257186889648,
          12.525561332702637
         ]
        },
        {
         "name": "Valid",
         "type": "scattergl",
         "y": [
          155.1309051513672,
          154.6832733154297,
          154.11776733398438,
          153.49461364746094,
          152.8195343017578,
          152.08956909179688,
          151.2993927001953,
          150.44589233398438,
          149.523193359375,
          148.52560424804688,
          147.45504760742188,
          146.30496215820312,
          145.07571411132812,
          143.76638793945312,
          142.37442016601562,
          140.90267944335938,
          139.3555145263672,
          137.73220825195312,
          136.03268432617188,
          134.2640838623047,
          132.42800903320312,
          130.5326690673828,
          128.58395385742188,
          126.5820083618164,
          124.52363586425781,
          122.4167709350586,
          120.27250671386719,
          118.0899429321289,
          115.8774185180664,
          113.63459777832031,
          111.3785400390625,
          109.11262512207031,
          106.83821105957031,
          104.56864929199219,
          102.30592346191406,
          100.0511474609375,
          97.81529998779297,
          95.60458374023438,
          93.42045593261719,
          91.27473449707031,
          89.17289733886719,
          87.11356353759766,
          85.09944152832031,
          83.1399154663086,
          81.23712921142578,
          79.3882827758789,
          77.59854888916016,
          75.87322235107422,
          74.20830535888672,
          72.60777282714844,
          71.06800842285156,
          69.59584045410156,
          68.19562530517578,
          66.8751449584961,
          65.61668395996094,
          64.42166137695312,
          63.28729248046875,
          62.21221923828125,
          61.19268798828125,
          60.247154235839844,
          59.361000061035156,
          58.5218505859375,
          57.728233337402344,
          56.98406982421875,
          56.292327880859375,
          55.639991760253906,
          55.02388381958008,
          54.45417022705078,
          53.924774169921875,
          53.443389892578125,
          53.00385665893555,
          52.594940185546875,
          52.23003005981445,
          51.89314651489258,
          51.574501037597656,
          51.283546447753906,
          51.027320861816406,
          50.781593322753906,
          50.5553092956543,
          50.339393615722656,
          50.143280029296875,
          49.96303176879883,
          49.812538146972656,
          49.674522399902344,
          49.54338836669922,
          49.42159652709961,
          49.30613327026367,
          49.197723388671875,
          49.08975601196289,
          48.9815673828125,
          48.89556884765625,
          48.816585540771484,
          48.73717498779297,
          48.66507339477539,
          48.60963821411133,
          48.56340408325195,
          48.52698516845703,
          48.48659896850586,
          48.454803466796875,
          48.430259704589844
         ]
        }
       ],
       "layout": {
        "height": 500,
        "template": {
         "data": {
          "bar": [
           {
            "error_x": {
             "color": "#2a3f5f"
            },
            "error_y": {
             "color": "#2a3f5f"
            },
            "marker": {
             "line": {
              "color": "#E5ECF6",
              "width": 0.5
             }
            },
            "type": "bar"
           }
          ],
          "barpolar": [
           {
            "marker": {
             "line": {
              "color": "#E5ECF6",
              "width": 0.5
             }
            },
            "type": "barpolar"
           }
          ],
          "carpet": [
           {
            "aaxis": {
             "endlinecolor": "#2a3f5f",
             "gridcolor": "white",
             "linecolor": "white",
             "minorgridcolor": "white",
             "startlinecolor": "#2a3f5f"
            },
            "baxis": {
             "endlinecolor": "#2a3f5f",
             "gridcolor": "white",
             "linecolor": "white",
             "minorgridcolor": "white",
             "startlinecolor": "#2a3f5f"
            },
            "type": "carpet"
           }
          ],
          "choropleth": [
           {
            "colorbar": {
             "outlinewidth": 0,
             "ticks": ""
            },
            "type": "choropleth"
           }
          ],
          "contour": [
           {
            "colorbar": {
             "outlinewidth": 0,
             "ticks": ""
            },
            "colorscale": [
             [
              0,
              "#0d0887"
             ],
             [
              0.1111111111111111,
              "#46039f"
             ],
             [
              0.2222222222222222,
              "#7201a8"
             ],
             [
              0.3333333333333333,
              "#9c179e"
             ],
             [
              0.4444444444444444,
              "#bd3786"
             ],
             [
              0.5555555555555556,
              "#d8576b"
             ],
             [
              0.6666666666666666,
              "#ed7953"
             ],
             [
              0.7777777777777778,
              "#fb9f3a"
             ],
             [
              0.8888888888888888,
              "#fdca26"
             ],
             [
              1,
              "#f0f921"
             ]
            ],
            "type": "contour"
           }
          ],
          "contourcarpet": [
           {
            "colorbar": {
             "outlinewidth": 0,
             "ticks": ""
            },
            "type": "contourcarpet"
           }
          ],
          "heatmap": [
           {
            "colorbar": {
             "outlinewidth": 0,
             "ticks": ""
            },
            "colorscale": [
             [
              0,
              "#0d0887"
             ],
             [
              0.1111111111111111,
              "#46039f"
             ],
             [
              0.2222222222222222,
              "#7201a8"
             ],
             [
              0.3333333333333333,
              "#9c179e"
             ],
             [
              0.4444444444444444,
              "#bd3786"
             ],
             [
              0.5555555555555556,
              "#d8576b"
             ],
             [
              0.6666666666666666,
              "#ed7953"
             ],
             [
              0.7777777777777778,
              "#fb9f3a"
             ],
             [
              0.8888888888888888,
              "#fdca26"
             ],
             [
              1,
              "#f0f921"
             ]
            ],
            "type": "heatmap"
           }
          ],
          "heatmapgl": [
           {
            "colorbar": {
             "outlinewidth": 0,
             "ticks": ""
            },
            "colorscale": [
             [
              0,
              "#0d0887"
             ],
             [
              0.1111111111111111,
              "#46039f"
             ],
             [
              0.2222222222222222,
              "#7201a8"
             ],
             [
              0.3333333333333333,
              "#9c179e"
             ],
             [
              0.4444444444444444,
              "#bd3786"
             ],
             [
              0.5555555555555556,
              "#d8576b"
             ],
             [
              0.6666666666666666,
              "#ed7953"
             ],
             [
              0.7777777777777778,
              "#fb9f3a"
             ],
             [
              0.8888888888888888,
              "#fdca26"
             ],
             [
              1,
              "#f0f921"
             ]
            ],
            "type": "heatmapgl"
           }
          ],
          "histogram": [
           {
            "marker": {
             "colorbar": {
              "outlinewidth": 0,
              "ticks": ""
             }
            },
            "type": "histogram"
           }
          ],
          "histogram2d": [
           {
            "colorbar": {
             "outlinewidth": 0,
             "ticks": ""
            },
            "colorscale": [
             [
              0,
              "#0d0887"
             ],
             [
              0.1111111111111111,
              "#46039f"
             ],
             [
              0.2222222222222222,
              "#7201a8"
             ],
             [
              0.3333333333333333,
              "#9c179e"
             ],
             [
              0.4444444444444444,
              "#bd3786"
             ],
             [
              0.5555555555555556,
              "#d8576b"
             ],
             [
              0.6666666666666666,
              "#ed7953"
             ],
             [
              0.7777777777777778,
              "#fb9f3a"
             ],
             [
              0.8888888888888888,
              "#fdca26"
             ],
             [
              1,
              "#f0f921"
             ]
            ],
            "type": "histogram2d"
           }
          ],
          "histogram2dcontour": [
           {
            "colorbar": {
             "outlinewidth": 0,
             "ticks": ""
            },
            "colorscale": [
             [
              0,
              "#0d0887"
             ],
             [
              0.1111111111111111,
              "#46039f"
             ],
             [
              0.2222222222222222,
              "#7201a8"
             ],
             [
              0.3333333333333333,
              "#9c179e"
             ],
             [
              0.4444444444444444,
              "#bd3786"
             ],
             [
              0.5555555555555556,
              "#d8576b"
             ],
             [
              0.6666666666666666,
              "#ed7953"
             ],
             [
              0.7777777777777778,
              "#fb9f3a"
             ],
             [
              0.8888888888888888,
              "#fdca26"
             ],
             [
              1,
              "#f0f921"
             ]
            ],
            "type": "histogram2dcontour"
           }
          ],
          "mesh3d": [
           {
            "colorbar": {
             "outlinewidth": 0,
             "ticks": ""
            },
            "type": "mesh3d"
           }
          ],
          "parcoords": [
           {
            "line": {
             "colorbar": {
              "outlinewidth": 0,
              "ticks": ""
             }
            },
            "type": "parcoords"
           }
          ],
          "pie": [
           {
            "automargin": true,
            "type": "pie"
           }
          ],
          "scatter": [
           {
            "marker": {
             "colorbar": {
              "outlinewidth": 0,
              "ticks": ""
             }
            },
            "type": "scatter"
           }
          ],
          "scatter3d": [
           {
            "line": {
             "colorbar": {
              "outlinewidth": 0,
              "ticks": ""
             }
            },
            "marker": {
             "colorbar": {
              "outlinewidth": 0,
              "ticks": ""
             }
            },
            "type": "scatter3d"
           }
          ],
          "scattercarpet": [
           {
            "marker": {
             "colorbar": {
              "outlinewidth": 0,
              "ticks": ""
             }
            },
            "type": "scattercarpet"
           }
          ],
          "scattergeo": [
           {
            "marker": {
             "colorbar": {
              "outlinewidth": 0,
              "ticks": ""
             }
            },
            "type": "scattergeo"
           }
          ],
          "scattergl": [
           {
            "marker": {
             "colorbar": {
              "outlinewidth": 0,
              "ticks": ""
             }
            },
            "type": "scattergl"
           }
          ],
          "scattermapbox": [
           {
            "marker": {
             "colorbar": {
              "outlinewidth": 0,
              "ticks": ""
             }
            },
            "type": "scattermapbox"
           }
          ],
          "scatterpolar": [
           {
            "marker": {
             "colorbar": {
              "outlinewidth": 0,
              "ticks": ""
             }
            },
            "type": "scatterpolar"
           }
          ],
          "scatterpolargl": [
           {
            "marker": {
             "colorbar": {
              "outlinewidth": 0,
              "ticks": ""
             }
            },
            "type": "scatterpolargl"
           }
          ],
          "scatterternary": [
           {
            "marker": {
             "colorbar": {
              "outlinewidth": 0,
              "ticks": ""
             }
            },
            "type": "scatterternary"
           }
          ],
          "surface": [
           {
            "colorbar": {
             "outlinewidth": 0,
             "ticks": ""
            },
            "colorscale": [
             [
              0,
              "#0d0887"
             ],
             [
              0.1111111111111111,
              "#46039f"
             ],
             [
              0.2222222222222222,
              "#7201a8"
             ],
             [
              0.3333333333333333,
              "#9c179e"
             ],
             [
              0.4444444444444444,
              "#bd3786"
             ],
             [
              0.5555555555555556,
              "#d8576b"
             ],
             [
              0.6666666666666666,
              "#ed7953"
             ],
             [
              0.7777777777777778,
              "#fb9f3a"
             ],
             [
              0.8888888888888888,
              "#fdca26"
             ],
             [
              1,
              "#f0f921"
             ]
            ],
            "type": "surface"
           }
          ],
          "table": [
           {
            "cells": {
             "fill": {
              "color": "#EBF0F8"
             },
             "line": {
              "color": "white"
             }
            },
            "header": {
             "fill": {
              "color": "#C8D4E3"
             },
             "line": {
              "color": "white"
             }
            },
            "type": "table"
           }
          ]
         },
         "layout": {
          "annotationdefaults": {
           "arrowcolor": "#2a3f5f",
           "arrowhead": 0,
           "arrowwidth": 1
          },
          "autotypenumbers": "strict",
          "coloraxis": {
           "colorbar": {
            "outlinewidth": 0,
            "ticks": ""
           }
          },
          "colorscale": {
           "diverging": [
            [
             0,
             "#8e0152"
            ],
            [
             0.1,
             "#c51b7d"
            ],
            [
             0.2,
             "#de77ae"
            ],
            [
             0.3,
             "#f1b6da"
            ],
            [
             0.4,
             "#fde0ef"
            ],
            [
             0.5,
             "#f7f7f7"
            ],
            [
             0.6,
             "#e6f5d0"
            ],
            [
             0.7,
             "#b8e186"
            ],
            [
             0.8,
             "#7fbc41"
            ],
            [
             0.9,
             "#4d9221"
            ],
            [
             1,
             "#276419"
            ]
           ],
           "sequential": [
            [
             0,
             "#0d0887"
            ],
            [
             0.1111111111111111,
             "#46039f"
            ],
            [
             0.2222222222222222,
             "#7201a8"
            ],
            [
             0.3333333333333333,
             "#9c179e"
            ],
            [
             0.4444444444444444,
             "#bd3786"
            ],
            [
             0.5555555555555556,
             "#d8576b"
            ],
            [
             0.6666666666666666,
             "#ed7953"
            ],
            [
             0.7777777777777778,
             "#fb9f3a"
            ],
            [
             0.8888888888888888,
             "#fdca26"
            ],
            [
             1,
             "#f0f921"
            ]
           ],
           "sequentialminus": [
            [
             0,
             "#0d0887"
            ],
            [
             0.1111111111111111,
             "#46039f"
            ],
            [
             0.2222222222222222,
             "#7201a8"
            ],
            [
             0.3333333333333333,
             "#9c179e"
            ],
            [
             0.4444444444444444,
             "#bd3786"
            ],
            [
             0.5555555555555556,
             "#d8576b"
            ],
            [
             0.6666666666666666,
             "#ed7953"
            ],
            [
             0.7777777777777778,
             "#fb9f3a"
            ],
            [
             0.8888888888888888,
             "#fdca26"
            ],
            [
             1,
             "#f0f921"
            ]
           ]
          },
          "colorway": [
           "#636efa",
           "#EF553B",
           "#00cc96",
           "#ab63fa",
           "#FFA15A",
           "#19d3f3",
           "#FF6692",
           "#B6E880",
           "#FF97FF",
           "#FECB52"
          ],
          "font": {
           "color": "#2a3f5f"
          },
          "geo": {
           "bgcolor": "white",
           "lakecolor": "white",
           "landcolor": "#E5ECF6",
           "showlakes": true,
           "showland": true,
           "subunitcolor": "white"
          },
          "hoverlabel": {
           "align": "left"
          },
          "hovermode": "closest",
          "mapbox": {
           "style": "light"
          },
          "paper_bgcolor": "white",
          "plot_bgcolor": "#E5ECF6",
          "polar": {
           "angularaxis": {
            "gridcolor": "white",
            "linecolor": "white",
            "ticks": ""
           },
           "bgcolor": "#E5ECF6",
           "radialaxis": {
            "gridcolor": "white",
            "linecolor": "white",
            "ticks": ""
           }
          },
          "scene": {
           "xaxis": {
            "backgroundcolor": "#E5ECF6",
            "gridcolor": "white",
            "gridwidth": 2,
            "linecolor": "white",
            "showbackground": true,
            "ticks": "",
            "zerolinecolor": "white"
           },
           "yaxis": {
            "backgroundcolor": "#E5ECF6",
            "gridcolor": "white",
            "gridwidth": 2,
            "linecolor": "white",
            "showbackground": true,
            "ticks": "",
            "zerolinecolor": "white"
           },
           "zaxis": {
            "backgroundcolor": "#E5ECF6",
            "gridcolor": "white",
            "gridwidth": 2,
            "linecolor": "white",
            "showbackground": true,
            "ticks": "",
            "zerolinecolor": "white"
           }
          },
          "shapedefaults": {
           "line": {
            "color": "#2a3f5f"
           }
          },
          "ternary": {
           "aaxis": {
            "gridcolor": "white",
            "linecolor": "white",
            "ticks": ""
           },
           "baxis": {
            "gridcolor": "white",
            "linecolor": "white",
            "ticks": ""
           },
           "bgcolor": "#E5ECF6",
           "caxis": {
            "gridcolor": "white",
            "linecolor": "white",
            "ticks": ""
           }
          },
          "title": {
           "x": 0.05
          },
          "xaxis": {
           "automargin": true,
           "gridcolor": "white",
           "linecolor": "white",
           "ticks": "",
           "title": {
            "standoff": 15
           },
           "zerolinecolor": "white",
           "zerolinewidth": 2
          },
          "yaxis": {
           "automargin": true,
           "gridcolor": "white",
           "linecolor": "white",
           "ticks": "",
           "title": {
            "standoff": 15
           },
           "zerolinecolor": "white",
           "zerolinewidth": 2
          }
         }
        },
        "width": 700,
        "xaxis": {
         "title": {
          "text": "Epoch"
         }
        },
        "yaxis": {
         "title": {
          "text": "Loss"
         }
        }
       }
      },
      "text/html": [
       "<div>                            <div id=\"8e9b690a-9ae1-4bdc-8f17-8e75d21c88d3\" class=\"plotly-graph-div\" style=\"height:500px; width:700px;\"></div>            <script type=\"text/javascript\">                require([\"plotly\"], function(Plotly) {                    window.PLOTLYENV=window.PLOTLYENV || {};                                    if (document.getElementById(\"8e9b690a-9ae1-4bdc-8f17-8e75d21c88d3\")) {                    Plotly.newPlot(                        \"8e9b690a-9ae1-4bdc-8f17-8e75d21c88d3\",                        [{\"name\": \"Train\", \"type\": \"scattergl\", \"y\": [190.96861267089844, 190.46060180664062, 189.611328125, 188.546142578125, 187.5609893798828, 186.2089080810547, 185.11241149902344, 183.64547729492188, 182.07635498046875, 180.5723114013672, 178.64781188964844, 176.6000213623047, 174.50582885742188, 172.4803466796875, 170.04922485351562, 167.58529663085938, 165.24887084960938, 162.22872924804688, 159.2862548828125, 156.7265167236328, 153.66421508789062, 150.67984008789062, 147.4420166015625, 143.41357421875, 140.3160400390625, 136.60531616210938, 133.46450805664062, 129.34442138671875, 125.47391510009766, 121.8805923461914, 118.9869384765625, 114.51417541503906, 111.9264907836914, 108.7665786743164, 103.9902572631836, 100.51586151123047, 96.71711730957031, 93.64793395996094, 90.04350280761719, 87.44506072998047, 83.76734924316406, 81.04907989501953, 77.90403747558594, 74.96947479248047, 71.80847930908203, 70.22113037109375, 66.6126708984375, 64.05115509033203, 61.62422561645508, 60.365577697753906, 57.860107421875, 54.699012756347656, 53.044105529785156, 52.118255615234375, 49.23030471801758, 48.51753616333008, 45.80263137817383, 43.6963005065918, 41.57736587524414, 41.19346237182617, 39.090660095214844, 38.82719039916992, 37.242454528808594, 36.086395263671875, 36.89024353027344, 34.942787170410156, 34.23383331298828, 32.76586151123047, 30.887073516845703, 30.851886749267578, 29.827905654907227, 28.703731536865234, 29.677860260009766, 26.59885597229004, 27.824420928955078, 25.208860397338867, 25.16366958618164, 25.334636688232422, 24.443622589111328, 24.182628631591797, 23.104568481445312, 22.961090087890625, 20.395017623901367, 21.011035919189453, 22.343997955322266, 20.79890251159668, 20.22892189025879, 19.103487014770508, 18.394512176513672, 19.44622802734375, 17.024822235107422, 15.297930717468262, 16.005081176757812, 16.831607818603516, 16.057140350341797, 16.499605178833008, 15.307769775390625, 14.647880554199219, 14.320257186889648, 12.525561332702637]}, {\"name\": \"Valid\", \"type\": \"scattergl\", \"y\": [155.1309051513672, 154.6832733154297, 154.11776733398438, 153.49461364746094, 152.8195343017578, 152.08956909179688, 151.2993927001953, 150.44589233398438, 149.523193359375, 148.52560424804688, 147.45504760742188, 146.30496215820312, 145.07571411132812, 143.76638793945312, 142.37442016601562, 140.90267944335938, 139.3555145263672, 137.73220825195312, 136.03268432617188, 134.2640838623047, 132.42800903320312, 130.5326690673828, 128.58395385742188, 126.5820083618164, 124.52363586425781, 122.4167709350586, 120.27250671386719, 118.0899429321289, 115.8774185180664, 113.63459777832031, 111.3785400390625, 109.11262512207031, 106.83821105957031, 104.56864929199219, 102.30592346191406, 100.0511474609375, 97.81529998779297, 95.60458374023438, 93.42045593261719, 91.27473449707031, 89.17289733886719, 87.11356353759766, 85.09944152832031, 83.1399154663086, 81.23712921142578, 79.3882827758789, 77.59854888916016, 75.87322235107422, 74.20830535888672, 72.60777282714844, 71.06800842285156, 69.59584045410156, 68.19562530517578, 66.8751449584961, 65.61668395996094, 64.42166137695312, 63.28729248046875, 62.21221923828125, 61.19268798828125, 60.247154235839844, 59.361000061035156, 58.5218505859375, 57.728233337402344, 56.98406982421875, 56.292327880859375, 55.639991760253906, 55.02388381958008, 54.45417022705078, 53.924774169921875, 53.443389892578125, 53.00385665893555, 52.594940185546875, 52.23003005981445, 51.89314651489258, 51.574501037597656, 51.283546447753906, 51.027320861816406, 50.781593322753906, 50.5553092956543, 50.339393615722656, 50.143280029296875, 49.96303176879883, 49.812538146972656, 49.674522399902344, 49.54338836669922, 49.42159652709961, 49.30613327026367, 49.197723388671875, 49.08975601196289, 48.9815673828125, 48.89556884765625, 48.816585540771484, 48.73717498779297, 48.66507339477539, 48.60963821411133, 48.56340408325195, 48.52698516845703, 48.48659896850586, 48.454803466796875, 48.430259704589844]}],                        {\"height\": 500, \"template\": {\"data\": {\"bar\": [{\"error_x\": {\"color\": \"#2a3f5f\"}, \"error_y\": {\"color\": \"#2a3f5f\"}, \"marker\": {\"line\": {\"color\": \"#E5ECF6\", \"width\": 0.5}}, \"type\": \"bar\"}], \"barpolar\": [{\"marker\": {\"line\": {\"color\": \"#E5ECF6\", \"width\": 0.5}}, \"type\": \"barpolar\"}], \"carpet\": [{\"aaxis\": {\"endlinecolor\": \"#2a3f5f\", \"gridcolor\": \"white\", \"linecolor\": \"white\", \"minorgridcolor\": \"white\", \"startlinecolor\": \"#2a3f5f\"}, \"baxis\": {\"endlinecolor\": \"#2a3f5f\", \"gridcolor\": \"white\", \"linecolor\": \"white\", \"minorgridcolor\": \"white\", \"startlinecolor\": \"#2a3f5f\"}, \"type\": \"carpet\"}], \"choropleth\": [{\"colorbar\": {\"outlinewidth\": 0, \"ticks\": \"\"}, \"type\": \"choropleth\"}], \"contour\": [{\"colorbar\": {\"outlinewidth\": 0, \"ticks\": \"\"}, \"colorscale\": [[0.0, \"#0d0887\"], [0.1111111111111111, \"#46039f\"], [0.2222222222222222, \"#7201a8\"], [0.3333333333333333, \"#9c179e\"], [0.4444444444444444, \"#bd3786\"], [0.5555555555555556, \"#d8576b\"], [0.6666666666666666, \"#ed7953\"], [0.7777777777777778, \"#fb9f3a\"], [0.8888888888888888, \"#fdca26\"], [1.0, \"#f0f921\"]], \"type\": \"contour\"}], \"contourcarpet\": [{\"colorbar\": {\"outlinewidth\": 0, \"ticks\": \"\"}, \"type\": \"contourcarpet\"}], \"heatmap\": [{\"colorbar\": {\"outlinewidth\": 0, \"ticks\": \"\"}, \"colorscale\": [[0.0, \"#0d0887\"], [0.1111111111111111, \"#46039f\"], [0.2222222222222222, \"#7201a8\"], [0.3333333333333333, \"#9c179e\"], [0.4444444444444444, \"#bd3786\"], [0.5555555555555556, \"#d8576b\"], [0.6666666666666666, \"#ed7953\"], [0.7777777777777778, \"#fb9f3a\"], [0.8888888888888888, \"#fdca26\"], [1.0, \"#f0f921\"]], \"type\": \"heatmap\"}], \"heatmapgl\": [{\"colorbar\": {\"outlinewidth\": 0, \"ticks\": \"\"}, \"colorscale\": [[0.0, \"#0d0887\"], [0.1111111111111111, \"#46039f\"], [0.2222222222222222, \"#7201a8\"], [0.3333333333333333, \"#9c179e\"], [0.4444444444444444, \"#bd3786\"], [0.5555555555555556, \"#d8576b\"], [0.6666666666666666, \"#ed7953\"], [0.7777777777777778, \"#fb9f3a\"], [0.8888888888888888, \"#fdca26\"], [1.0, \"#f0f921\"]], \"type\": \"heatmapgl\"}], \"histogram\": [{\"marker\": {\"colorbar\": {\"outlinewidth\": 0, \"ticks\": \"\"}}, \"type\": \"histogram\"}], \"histogram2d\": [{\"colorbar\": {\"outlinewidth\": 0, \"ticks\": \"\"}, \"colorscale\": [[0.0, \"#0d0887\"], [0.1111111111111111, \"#46039f\"], [0.2222222222222222, \"#7201a8\"], [0.3333333333333333, \"#9c179e\"], [0.4444444444444444, \"#bd3786\"], [0.5555555555555556, \"#d8576b\"], [0.6666666666666666, \"#ed7953\"], [0.7777777777777778, \"#fb9f3a\"], [0.8888888888888888, \"#fdca26\"], [1.0, \"#f0f921\"]], \"type\": \"histogram2d\"}], \"histogram2dcontour\": [{\"colorbar\": {\"outlinewidth\": 0, \"ticks\": \"\"}, \"colorscale\": [[0.0, \"#0d0887\"], [0.1111111111111111, \"#46039f\"], [0.2222222222222222, \"#7201a8\"], [0.3333333333333333, \"#9c179e\"], [0.4444444444444444, \"#bd3786\"], [0.5555555555555556, \"#d8576b\"], [0.6666666666666666, \"#ed7953\"], [0.7777777777777778, \"#fb9f3a\"], [0.8888888888888888, \"#fdca26\"], [1.0, \"#f0f921\"]], \"type\": \"histogram2dcontour\"}], \"mesh3d\": [{\"colorbar\": {\"outlinewidth\": 0, \"ticks\": \"\"}, \"type\": \"mesh3d\"}], \"parcoords\": [{\"line\": {\"colorbar\": {\"outlinewidth\": 0, \"ticks\": \"\"}}, \"type\": \"parcoords\"}], \"pie\": [{\"automargin\": true, \"type\": \"pie\"}], \"scatter\": [{\"marker\": {\"colorbar\": {\"outlinewidth\": 0, \"ticks\": \"\"}}, \"type\": \"scatter\"}], \"scatter3d\": [{\"line\": {\"colorbar\": {\"outlinewidth\": 0, \"ticks\": \"\"}}, \"marker\": {\"colorbar\": {\"outlinewidth\": 0, \"ticks\": \"\"}}, \"type\": \"scatter3d\"}], \"scattercarpet\": [{\"marker\": {\"colorbar\": {\"outlinewidth\": 0, \"ticks\": \"\"}}, \"type\": \"scattercarpet\"}], \"scattergeo\": [{\"marker\": {\"colorbar\": {\"outlinewidth\": 0, \"ticks\": \"\"}}, \"type\": \"scattergeo\"}], \"scattergl\": [{\"marker\": {\"colorbar\": {\"outlinewidth\": 0, \"ticks\": \"\"}}, \"type\": \"scattergl\"}], \"scattermapbox\": [{\"marker\": {\"colorbar\": {\"outlinewidth\": 0, \"ticks\": \"\"}}, \"type\": \"scattermapbox\"}], \"scatterpolar\": [{\"marker\": {\"colorbar\": {\"outlinewidth\": 0, \"ticks\": \"\"}}, \"type\": \"scatterpolar\"}], \"scatterpolargl\": [{\"marker\": {\"colorbar\": {\"outlinewidth\": 0, \"ticks\": \"\"}}, \"type\": \"scatterpolargl\"}], \"scatterternary\": [{\"marker\": {\"colorbar\": {\"outlinewidth\": 0, \"ticks\": \"\"}}, \"type\": \"scatterternary\"}], \"surface\": [{\"colorbar\": {\"outlinewidth\": 0, \"ticks\": \"\"}, \"colorscale\": [[0.0, \"#0d0887\"], [0.1111111111111111, \"#46039f\"], [0.2222222222222222, \"#7201a8\"], [0.3333333333333333, \"#9c179e\"], [0.4444444444444444, \"#bd3786\"], [0.5555555555555556, \"#d8576b\"], [0.6666666666666666, \"#ed7953\"], [0.7777777777777778, \"#fb9f3a\"], [0.8888888888888888, \"#fdca26\"], [1.0, \"#f0f921\"]], \"type\": \"surface\"}], \"table\": [{\"cells\": {\"fill\": {\"color\": \"#EBF0F8\"}, \"line\": {\"color\": \"white\"}}, \"header\": {\"fill\": {\"color\": \"#C8D4E3\"}, \"line\": {\"color\": \"white\"}}, \"type\": \"table\"}]}, \"layout\": {\"annotationdefaults\": {\"arrowcolor\": \"#2a3f5f\", \"arrowhead\": 0, \"arrowwidth\": 1}, \"autotypenumbers\": \"strict\", \"coloraxis\": {\"colorbar\": {\"outlinewidth\": 0, \"ticks\": \"\"}}, \"colorscale\": {\"diverging\": [[0, \"#8e0152\"], [0.1, \"#c51b7d\"], [0.2, \"#de77ae\"], [0.3, \"#f1b6da\"], [0.4, \"#fde0ef\"], [0.5, \"#f7f7f7\"], [0.6, \"#e6f5d0\"], [0.7, \"#b8e186\"], [0.8, \"#7fbc41\"], [0.9, \"#4d9221\"], [1, \"#276419\"]], \"sequential\": [[0.0, \"#0d0887\"], [0.1111111111111111, \"#46039f\"], [0.2222222222222222, \"#7201a8\"], [0.3333333333333333, \"#9c179e\"], [0.4444444444444444, \"#bd3786\"], [0.5555555555555556, \"#d8576b\"], [0.6666666666666666, \"#ed7953\"], [0.7777777777777778, \"#fb9f3a\"], [0.8888888888888888, \"#fdca26\"], [1.0, \"#f0f921\"]], \"sequentialminus\": [[0.0, \"#0d0887\"], [0.1111111111111111, \"#46039f\"], [0.2222222222222222, \"#7201a8\"], [0.3333333333333333, \"#9c179e\"], [0.4444444444444444, \"#bd3786\"], [0.5555555555555556, \"#d8576b\"], [0.6666666666666666, \"#ed7953\"], [0.7777777777777778, \"#fb9f3a\"], [0.8888888888888888, \"#fdca26\"], [1.0, \"#f0f921\"]]}, \"colorway\": [\"#636efa\", \"#EF553B\", \"#00cc96\", \"#ab63fa\", \"#FFA15A\", \"#19d3f3\", \"#FF6692\", \"#B6E880\", \"#FF97FF\", \"#FECB52\"], \"font\": {\"color\": \"#2a3f5f\"}, \"geo\": {\"bgcolor\": \"white\", \"lakecolor\": \"white\", \"landcolor\": \"#E5ECF6\", \"showlakes\": true, \"showland\": true, \"subunitcolor\": \"white\"}, \"hoverlabel\": {\"align\": \"left\"}, \"hovermode\": \"closest\", \"mapbox\": {\"style\": \"light\"}, \"paper_bgcolor\": \"white\", \"plot_bgcolor\": \"#E5ECF6\", \"polar\": {\"angularaxis\": {\"gridcolor\": \"white\", \"linecolor\": \"white\", \"ticks\": \"\"}, \"bgcolor\": \"#E5ECF6\", \"radialaxis\": {\"gridcolor\": \"white\", \"linecolor\": \"white\", \"ticks\": \"\"}}, \"scene\": {\"xaxis\": {\"backgroundcolor\": \"#E5ECF6\", \"gridcolor\": \"white\", \"gridwidth\": 2, \"linecolor\": \"white\", \"showbackground\": true, \"ticks\": \"\", \"zerolinecolor\": \"white\"}, \"yaxis\": {\"backgroundcolor\": \"#E5ECF6\", \"gridcolor\": \"white\", \"gridwidth\": 2, \"linecolor\": \"white\", \"showbackground\": true, \"ticks\": \"\", \"zerolinecolor\": \"white\"}, \"zaxis\": {\"backgroundcolor\": \"#E5ECF6\", \"gridcolor\": \"white\", \"gridwidth\": 2, \"linecolor\": \"white\", \"showbackground\": true, \"ticks\": \"\", \"zerolinecolor\": \"white\"}}, \"shapedefaults\": {\"line\": {\"color\": \"#2a3f5f\"}}, \"ternary\": {\"aaxis\": {\"gridcolor\": \"white\", \"linecolor\": \"white\", \"ticks\": \"\"}, \"baxis\": {\"gridcolor\": \"white\", \"linecolor\": \"white\", \"ticks\": \"\"}, \"bgcolor\": \"#E5ECF6\", \"caxis\": {\"gridcolor\": \"white\", \"linecolor\": \"white\", \"ticks\": \"\"}}, \"title\": {\"x\": 0.05}, \"xaxis\": {\"automargin\": true, \"gridcolor\": \"white\", \"linecolor\": \"white\", \"ticks\": \"\", \"title\": {\"standoff\": 15}, \"zerolinecolor\": \"white\", \"zerolinewidth\": 2}, \"yaxis\": {\"automargin\": true, \"gridcolor\": \"white\", \"linecolor\": \"white\", \"ticks\": \"\", \"title\": {\"standoff\": 15}, \"zerolinecolor\": \"white\", \"zerolinewidth\": 2}}}, \"width\": 700, \"xaxis\": {\"title\": {\"text\": \"Epoch\"}}, \"yaxis\": {\"title\": {\"text\": \"Loss\"}}},                        {\"responsive\": true}                    ).then(function(){\n",
       "                            \n",
       "var gd = document.getElementById('8e9b690a-9ae1-4bdc-8f17-8e75d21c88d3');\n",
       "var x = new MutationObserver(function (mutations, observer) {{\n",
       "        var display = window.getComputedStyle(gd).display;\n",
       "        if (!display || display === 'none') {{\n",
       "            console.log([gd, 'removed!']);\n",
       "            Plotly.purge(gd);\n",
       "            observer.disconnect();\n",
       "        }}\n",
       "}});\n",
       "\n",
       "// Listen for the removal of the full notebook cells\n",
       "var notebookContainer = gd.closest('#notebook-container');\n",
       "if (notebookContainer) {{\n",
       "    x.observe(notebookContainer, {childList: true});\n",
       "}}\n",
       "\n",
       "// Listen for the clearing of the current output cell\n",
       "var outputEl = gd.closest('.output');\n",
       "if (outputEl) {{\n",
       "    x.observe(outputEl, {childList: true});\n",
       "}}\n",
       "\n",
       "                        })                };                });            </script>        </div>"
      ]
     },
     "metadata": {},
     "output_type": "display_data"
    }
   ],
   "source": [
    "fig = go.Figure()\n",
    "fig.add_trace(go.Scattergl(y=history.history['loss'],\n",
    "                    name='Train'))\n",
    "\n",
    "fig.add_trace(go.Scattergl(y=history.history['val_loss'],\n",
    "                     name='Valid'))\n",
    "\n",
    "fig.update_layout(height=500, width=700,\n",
    "                  xaxis_title='Epoch',\n",
    "                  yaxis_title='Loss')\n",
    "fig.show()"
   ]
  },
  {
   "cell_type": "code",
   "execution_count": 79,
   "id": "engaged-recommendation",
   "metadata": {},
   "outputs": [
    {
     "name": "stdout",
     "output_type": "stream",
     "text": [
      "1/1 [==============================] - 0s 43ms/step - loss: 48.5708 - mae: 5.8409\n",
      "[48.570796966552734, 5.840874671936035]\n"
     ]
    }
   ],
   "source": [
    "results = model.evaluate(test_data)\n",
    "\n",
    "print(results)"
   ]
  }
 ],
 "metadata": {
  "kernelspec": {
   "display_name": "Python 3",
   "language": "python",
   "name": "python3"
  },
  "language_info": {
   "codemirror_mode": {
    "name": "ipython",
    "version": 3
   },
   "file_extension": ".py",
   "mimetype": "text/x-python",
   "name": "python",
   "nbconvert_exporter": "python",
   "pygments_lexer": "ipython3",
   "version": "3.6.4"
  }
 },
 "nbformat": 4,
 "nbformat_minor": 5
}
