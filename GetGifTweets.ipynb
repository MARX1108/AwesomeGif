{
 "metadata": {
  "language_info": {
   "codemirror_mode": {
    "name": "ipython",
    "version": 3
   },
   "file_extension": ".py",
   "mimetype": "text/x-python",
   "name": "python",
   "nbconvert_exporter": "python",
   "pygments_lexer": "ipython3",
   "version": "3.7.6-final"
  },
  "orig_nbformat": 2,
  "kernelspec": {
   "name": "python3",
   "display_name": "Python 3.7.6 64-bit (conda)",
   "metadata": {
    "interpreter": {
     "hash": "0d5e13c41fae9a3ad34a90dc6026c70cdb7f1d17c4c2442b34caf02e4311eadf"
    }
   }
  }
 },
 "nbformat": 4,
 "nbformat_minor": 2,
 "cells": [
  {
   "cell_type": "code",
   "execution_count": 1,
   "metadata": {},
   "outputs": [],
   "source": [
    "from __future__ import unicode_literals\n",
    "import json \n",
    "import requests\n",
    "import pandas \n",
    "import os\n",
    "import youtube_dl\n",
    "import numpy as np"
   ]
  },
  {
   "cell_type": "code",
   "execution_count": 2,
   "metadata": {},
   "outputs": [],
   "source": [
    "# Function to load json file\n",
    "def loadKeys(key_file:str):\n",
    "    with open(key_file) as f:\n",
    "        key_dict = json.load(f)\n",
    "    return key_dict['api_key'], key_dict['api_secret'], key_dict['bearer_token'], key_dict['token'], key_dict['token_secret']"
   ]
  },
  {
   "cell_type": "code",
   "execution_count": 94,
   "metadata": {},
   "outputs": [],
   "source": [
    "# Creating a url for the api to search from\n",
    "def create_url():\n",
    "    query = \"(cat) -is:retweet has:media -has:videos lang:en  -is:retweet\"\n",
    "    # Tweet fields are adjustable.\n",
    "    # Options include:\n",
    "    # attachments, author_id, context_annotations,\n",
    "    # conversation_id, created_at, entities, geo, id,\n",
    "    # in_reply_to_user_id, lang, non_public_metrics, organic_metrics,\n",
    "    # possibly_sensitive, promoted_metrics, public_metrics, referenced_tweets,\n",
    "    # source, text, and withheld\n",
    "    tweet_fields = \"media.fields=type,url\"\n",
    "    expansions = \"expansions=attachments.media_keys\"\n",
    "    max_results = \"max_results=100\"\n",
    "    url = \"https://api.twitter.com/2/tweets/search/recent?query={}&{}&{}&{}\".format(\n",
    "        query, tweet_fields, expansions, max_results\n",
    "    )\n",
    "    return url\n"
   ]
  },
  {
   "cell_type": "code",
   "execution_count": 95,
   "metadata": {},
   "outputs": [],
   "source": [
    "# Creating authorization \n",
    "def create_headers(bearer_token):\n",
    "    headers = {\"Authorization\": \"Bearer {}\".format(bearer_token)}\n",
    "    return headers"
   ]
  },
  {
   "cell_type": "code",
   "execution_count": 96,
   "metadata": {},
   "outputs": [],
   "source": [
    "# Connectign to the url api with the token headers\n",
    "def connect_to_endpoint(url, headers):\n",
    "    response = requests.request(\"GET\", url, headers=headers)\n",
    "    print(response.status_code)\n",
    "    if response.status_code != 200:\n",
    "        raise Exception(response.status_code, response.text)\n",
    "    return response.json()"
   ]
  },
  {
   "cell_type": "code",
   "execution_count": 97,
   "metadata": {},
   "outputs": [],
   "source": [
    "# Creating json file from a response file and filename\n",
    "def create_json(filename, json_response):\n",
    "    with open(filename, \"w\") as write_file:\n",
    "        json.dump(json_response, write_file, indent=4)"
   ]
  },
  {
   "cell_type": "code",
   "execution_count": 98,
   "metadata": {},
   "outputs": [],
   "source": [
    "# loading up data of a json file\n",
    "def load_json(filename):\n",
    "    file = open(filename)\n",
    "    data = json.load(file)\n",
    "    file.close()\n",
    "    return data"
   ]
  },
  {
   "cell_type": "code",
   "execution_count": 99,
   "metadata": {},
   "outputs": [],
   "source": [
    "# Downloading gif file with given url \n",
    "def downloadGIF(url, filename):\n",
    "    try:\n",
    "        ydl_opts = {\n",
    "            'outtmpl': 'gifs/{}.mp4'.format(filename)\n",
    "        }\n",
    "        with youtube_dl.YoutubeDL(ydl_opts) as ydl:\n",
    "            ydl.download([url])\n",
    "        return True\n",
    "    except:\n",
    "        print(\"Could Not Download File\")\n",
    "        return False"
   ]
  },
  {
   "cell_type": "code",
   "execution_count": 100,
   "metadata": {},
   "outputs": [],
   "source": [
    "# Class TweetData holds the mediaKey, TweetURL, Text, TweetID for one data object in a json file\n",
    "class TweetData:\n",
    "    def __init__(self, jsonData):\n",
    "        # Media Key Of Tweet\n",
    "        mediaKey = jsonData['attachments']['media_keys'][0]\n",
    "        # Splitting the text into the text and url\n",
    "        tempTextArray = jsonData['text'].rpartition(\"https://\")\n",
    "        # Creating URL\n",
    "        tweetURL = tempTextArray[1] + tempTextArray[2]\n",
    "        # Creating tweet text\n",
    "        text = tempTextArray[0]\n",
    "        # Setting mediaKey, URL, and text\n",
    "        self.mediaKey = mediaKey\n",
    "        self.tweetURL = tweetURL\n",
    "        self.text = text\n",
    "        self.tweetID = jsonData['id']"
   ]
  },
  {
   "cell_type": "code",
   "execution_count": 104,
   "metadata": {},
   "outputs": [],
   "source": [
    "# Create CSVandGIFS \n",
    "def createCSVandGIFS(data:dict, curFileCounter:int):\n",
    "    # Headers for the data\n",
    "    headers = [\"Tweet ID\", \"Media Key\", \"Tweet URL\", \"Tweet Text\", \"GIF Title\"]\n",
    "    # Initializing 2d array that will contain all of the data\n",
    "    tweetData = np.array([headers])   \n",
    "    # Counts the current eligble tweet number (only counting tweets with gifs)\n",
    "    curFileCounter = curFileCounter\n",
    "    # Iterate over all of the collected tweets\n",
    "    for temp in data['data']:\n",
    "        # Creating a tweet obejct that holds the data\n",
    "        tempTweet = TweetData(temp)\n",
    "        # Check if the current media tweet contains a gif\n",
    "        if \"16_\" in tempTweet.mediaKey: \n",
    "            # Create File Name\n",
    "            curGifTitle =  \"GIF_File_{}\".format(curFileCounter)\n",
    "            # Try to download new file, if an error occurs and cant download gif, the file is not added\n",
    "            if downloadGIF(tempTweet.tweetURL, curGifTitle):\n",
    "                # If Downloading causes no error we add this twitter obeject to our array \n",
    "                curFileCounter += 1 \n",
    "                # Create a numpy row to add to data\n",
    "                curRow = np.array([[\n",
    "                    tempTweet.tweetID,\n",
    "                    tempTweet.mediaKey,\n",
    "                    tempTweet.tweetURL,\n",
    "                    tempTweet.text,\n",
    "                    curGifTitle\n",
    "                ]])\n",
    "                # Adding indivisual data to whole data\n",
    "                tweetData = np.append(tweetData, curRow, axis=0)   \n",
    "    # Create csv of the data compiled\n",
    "    tweetDF = pandas.DataFrame(data = tweetData[1:,:],  columns=tweetData[0])\n",
    "    tweetDF.to_csv('twitterData.csv', index = False )\n",
    "    return tweetDF"
   ]
  },
  {
   "cell_type": "code",
   "execution_count": 103,
   "metadata": {},
   "outputs": [
    {
     "output_type": "stream",
     "name": "stdout",
     "text": [
      "200\n",
      "[generic] E1r4RSWvmz: Requesting header\n",
      "WARNING: Falling back on generic information extractor.\n",
      "[generic] E1r4RSWvmz: Downloading webpage\n",
      "[generic] E1r4RSWvmz: Extracting information\n",
      "[redirect] Following redirect to https://twitter.com/pitt_geoff/status/1369801813378015236/photo/1\n",
      "[twitter] 1369801813378015236: Downloading guest token\n",
      "[twitter] 1369801813378015236: Downloading JSON metadata\n",
      "[download] Destination: gifs\\GIF_File_0.mp4\n",
      "[download] 100% of 48.76KiB in 00:00                   \n",
      "[generic] 1SbgbltG6F: Requesting header\n",
      "WARNING: Falling back on generic information extractor.\n",
      "[generic] 1SbgbltG6F: Downloading webpage\n",
      "[generic] 1SbgbltG6F: Extracting information\n",
      "[redirect] Following redirect to https://twitter.com/stabhergently/status/1369801743991767042/photo/1\n",
      "[twitter] 1369801743991767042: Downloading guest token\n",
      "[twitter] 1369801743991767042: Downloading JSON metadata\n",
      "[download] Destination: gifs\\GIF_File_1.mp4\n",
      "[download] 100% of 178.33KiB in 00:00                  \n",
      "[generic] WglztiEXMT: Requesting header\n",
      "WARNING: Falling back on generic information extractor.\n",
      "[generic] WglztiEXMT: Downloading webpage\n",
      "[generic] WglztiEXMT: Extracting information\n",
      "[redirect] Following redirect to https://twitter.com/sophiatherainb1/status/1369801690497572866/photo/1\n",
      "[twitter] 1369801690497572866: Downloading guest token\n",
      "[twitter] 1369801690497572866: Downloading JSON metadata\n",
      "[download] Destination: gifs\\GIF_File_2.mp4\n",
      "[download] 100% of 82.29KiB in 00:00                  \n",
      "[generic] BnvU8O4Eqk: Requesting header\n",
      "WARNING: Falling back on generic information extractor.\n",
      "[generic] BnvU8O4Eqk: Downloading webpage\n",
      "[generic] BnvU8O4Eqk: Extracting information\n",
      "[redirect] Following redirect to https://twitter.com/Beylordce/status/1369801492442451968/photo/1\n",
      "[twitter] 1369801492442451968: Downloading guest token\n",
      "[twitter] 1369801492442451968: Downloading JSON metadata\n",
      "[download] Destination: gifs\\GIF_File_3.mp4\n",
      "[download] 100% of 14.32KiB in 00:00                  \n",
      "[generic] 33eINyKLaK: Requesting header\n",
      "WARNING: Falling back on generic information extractor.\n",
      "[generic] 33eINyKLaK: Downloading webpage\n",
      "[generic] 33eINyKLaK: Extracting information\n",
      "[redirect] Following redirect to https://twitter.com/Rome9Romie/status/1369800901658042376/photo/1\n",
      "[twitter] 1369800901658042376: Downloading guest token\n",
      "[twitter] 1369800901658042376: Downloading JSON metadata\n",
      "[download] Destination: gifs\\GIF_File_4.mp4\n",
      "[download] 100% of 69.80KiB in 00:00                          \n",
      "[generic] jcFefuXwSu: Requesting header\n",
      "WARNING: Falling back on generic information extractor.\n",
      "[generic] jcFefuXwSu: Downloading webpage\n",
      "[generic] jcFefuXwSu: Extracting information\n",
      "[redirect] Following redirect to https://twitter.com/JamesRubin1/status/1369800251356381187/photo/1\n",
      "[twitter] 1369800251356381187: Downloading guest token\n",
      "[twitter] 1369800251356381187: Downloading JSON metadata\n",
      "[download] Destination: gifs\\GIF_File_5.mp4\n",
      "[download] 100% of 16.38KiB in 00:00                   \n",
      "[generic] gOlJeIF1u2: Requesting header\n",
      "WARNING: Falling back on generic information extractor.\n",
      "[generic] gOlJeIF1u2: Downloading webpage\n",
      "[generic] gOlJeIF1u2: Extracting information\n",
      "[redirect] Following redirect to https://twitter.com/sassycrass/status/1369800194276003841/photo/1\n",
      "[twitter] 1369800194276003841: Downloading guest token\n",
      "[twitter] 1369800194276003841: Downloading JSON metadata\n",
      "[download] Destination: gifs\\GIF_File_6.mp4\n",
      "[download] 100% of 7.35KiB in 00:00                  \n",
      "[generic] ymJ9cmQfeT: Requesting header\n",
      "WARNING: Falling back on generic information extractor.\n",
      "[generic] ymJ9cmQfeT: Downloading webpage\n",
      "[generic] ymJ9cmQfeT: Extracting information\n",
      "[redirect] Following redirect to https://twitter.com/KevinScampi/status/1369800174801977344/photo/1\n",
      "[twitter] 1369800174801977344: Downloading guest token\n",
      "[twitter] 1369800174801977344: Downloading JSON metadata\n",
      "[download] Destination: gifs\\GIF_File_7.mp4\n",
      "[download] 100% of 204.66KiB in 00:00                          \n",
      "[generic] XzVPIzIrL9: Requesting header\n",
      "WARNING: Falling back on generic information extractor.\n",
      "[generic] XzVPIzIrL9: Downloading webpage\n",
      "[generic] XzVPIzIrL9: Extracting information\n",
      "[redirect] Following redirect to https://twitter.com/New_Era_News/status/1369800059643179008/photo/1\n",
      "[twitter] 1369800059643179008: Downloading guest token\n",
      "[twitter] 1369800059643179008: Downloading JSON metadata\n",
      "[download] Destination: gifs\\GIF_File_8.mp4\n",
      "[download] 100% of 163.65KiB in 00:00                          \n"
     ]
    }
   ],
   "source": [
    "#def main()\n",
    "api_key, api_secret, bear_token, token, token_secret = loadKeys(\"keys.json\")\n",
    "bearer_token = bear_token\n",
    "url = create_url()\n",
    "headers = create_headers(bearer_token)\n",
    "json_response = connect_to_endpoint(url, headers)\n",
    "create_json(\"data_file.json\", json_response)\n",
    "data = load_json(\"data_file.json\")\n",
    "tweetDF = createCSVandGIFS(data, 0)\n"
   ]
  },
  {
   "cell_type": "code",
   "execution_count": 105,
   "metadata": {},
   "outputs": [
    {
     "output_type": "execute_result",
     "data": {
      "text/plain": [
       "              Tweet ID               Media Key                Tweet URL  \\\n",
       "0  1369801813378015236  16_1369801808130891777  https://t.co/E1r4RSWvmz   \n",
       "1  1369801743991767042  16_1369801736119009281  https://t.co/1SbgbltG6F   \n",
       "2  1369801690497572866  16_1369801683040169984  https://t.co/WglztiEXMT   \n",
       "3  1369801492442451968  16_1369801485937123330  https://t.co/BnvU8O4Eqk   \n",
       "4  1369800901658042376  16_1369800894611681284  https://t.co/33eINyKLaK   \n",
       "5  1369800251356381187  16_1369800245639528453  https://t.co/jcFefuXwSu   \n",
       "6  1369800194276003841  16_1369800186017452032  https://t.co/gOlJeIF1u2   \n",
       "7  1369800174801977344  16_1369800167403192325  https://t.co/ymJ9cmQfeT   \n",
       "8  1369800059643179008  16_1369800049115402241  https://t.co/XzVPIzIrL9   \n",
       "\n",
       "                                          Tweet Text   GIF Title  \n",
       "0  @gun_control_ca Voting PPC won’t elect the Lib...  GIF_File_0  \n",
       "1  Buying your cat a new bed just to watch her si...  GIF_File_1  \n",
       "2      @B3thyVA this is that saddest cat i ever saw   GIF_File_2  \n",
       "3  @RWATXRI @essentialyonce4 All I keep hearing i...  GIF_File_3  \n",
       "4                       @BUZZNET Meg is the cat....   GIF_File_4  \n",
       "5  @UncleSnotty I’m in Herd “Grumpy Old Fart” and...  GIF_File_5  \n",
       "6  @so_treu Remember that cat who told me about #...  GIF_File_6  \n",
       "7  @jillycp ⚠️ Disclaimer: Fairy wishes are subje...  GIF_File_7  \n",
       "8          @jasonzada The wise old cat understands.   GIF_File_8  "
      ],
      "text/html": "<div>\n<style scoped>\n    .dataframe tbody tr th:only-of-type {\n        vertical-align: middle;\n    }\n\n    .dataframe tbody tr th {\n        vertical-align: top;\n    }\n\n    .dataframe thead th {\n        text-align: right;\n    }\n</style>\n<table border=\"1\" class=\"dataframe\">\n  <thead>\n    <tr style=\"text-align: right;\">\n      <th></th>\n      <th>Tweet ID</th>\n      <th>Media Key</th>\n      <th>Tweet URL</th>\n      <th>Tweet Text</th>\n      <th>GIF Title</th>\n    </tr>\n  </thead>\n  <tbody>\n    <tr>\n      <th>0</th>\n      <td>1369801813378015236</td>\n      <td>16_1369801808130891777</td>\n      <td>https://t.co/E1r4RSWvmz</td>\n      <td>@gun_control_ca Voting PPC won’t elect the Lib...</td>\n      <td>GIF_File_0</td>\n    </tr>\n    <tr>\n      <th>1</th>\n      <td>1369801743991767042</td>\n      <td>16_1369801736119009281</td>\n      <td>https://t.co/1SbgbltG6F</td>\n      <td>Buying your cat a new bed just to watch her si...</td>\n      <td>GIF_File_1</td>\n    </tr>\n    <tr>\n      <th>2</th>\n      <td>1369801690497572866</td>\n      <td>16_1369801683040169984</td>\n      <td>https://t.co/WglztiEXMT</td>\n      <td>@B3thyVA this is that saddest cat i ever saw</td>\n      <td>GIF_File_2</td>\n    </tr>\n    <tr>\n      <th>3</th>\n      <td>1369801492442451968</td>\n      <td>16_1369801485937123330</td>\n      <td>https://t.co/BnvU8O4Eqk</td>\n      <td>@RWATXRI @essentialyonce4 All I keep hearing i...</td>\n      <td>GIF_File_3</td>\n    </tr>\n    <tr>\n      <th>4</th>\n      <td>1369800901658042376</td>\n      <td>16_1369800894611681284</td>\n      <td>https://t.co/33eINyKLaK</td>\n      <td>@BUZZNET Meg is the cat....</td>\n      <td>GIF_File_4</td>\n    </tr>\n    <tr>\n      <th>5</th>\n      <td>1369800251356381187</td>\n      <td>16_1369800245639528453</td>\n      <td>https://t.co/jcFefuXwSu</td>\n      <td>@UncleSnotty I’m in Herd “Grumpy Old Fart” and...</td>\n      <td>GIF_File_5</td>\n    </tr>\n    <tr>\n      <th>6</th>\n      <td>1369800194276003841</td>\n      <td>16_1369800186017452032</td>\n      <td>https://t.co/gOlJeIF1u2</td>\n      <td>@so_treu Remember that cat who told me about #...</td>\n      <td>GIF_File_6</td>\n    </tr>\n    <tr>\n      <th>7</th>\n      <td>1369800174801977344</td>\n      <td>16_1369800167403192325</td>\n      <td>https://t.co/ymJ9cmQfeT</td>\n      <td>@jillycp ⚠️ Disclaimer: Fairy wishes are subje...</td>\n      <td>GIF_File_7</td>\n    </tr>\n    <tr>\n      <th>8</th>\n      <td>1369800059643179008</td>\n      <td>16_1369800049115402241</td>\n      <td>https://t.co/XzVPIzIrL9</td>\n      <td>@jasonzada The wise old cat understands.</td>\n      <td>GIF_File_8</td>\n    </tr>\n  </tbody>\n</table>\n</div>"
     },
     "metadata": {},
     "execution_count": 105
    }
   ],
   "source": [
    "tweetDF"
   ]
  },
  {
   "cell_type": "code",
   "execution_count": null,
   "metadata": {},
   "outputs": [],
   "source": []
  }
 ]
}