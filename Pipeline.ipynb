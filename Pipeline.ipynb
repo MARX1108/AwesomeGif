{
 "cells": [
  {
   "cell_type": "code",
   "execution_count": 1,
   "id": "involved-script",
   "metadata": {},
   "outputs": [],
   "source": [
    "import tensorflow as tf \n",
    "import tensorflow_hub as hub \n",
    "from tensorflow.keras import layers \n",
    "import bert \n",
    "import re \n",
    "# re — Regular expression operations\n",
    "import math\n",
    "import csv\n",
    "import pandas as pd                     \n",
    "import cv2 as cv \n",
    "from PIL import Image, ImageSequence\n",
    "from tensorflow.keras import losses\n",
    "from plotly.subplots import make_subplots\n",
    "import plotly.graph_objects as go\n",
    "import sys\n",
    "from tensorflow import keras\n"
   ]
  },
  {
   "cell_type": "code",
   "execution_count": 22,
   "id": "efficient-greensboro",
   "metadata": {},
   "outputs": [
    {
     "output_type": "execute_result",
     "data": {
      "text/plain": [
       "(125782, 2)"
      ]
     },
     "metadata": {},
     "execution_count": 22
    }
   ],
   "source": [
    "data = pd.read_csv(\"./tgif-v1.0.tsv\", sep='\\t')\n",
    "data.isnull().values.any()\n",
    "gif_links = list(data.y.values)\n",
    "raw_tweets = list(data.x.values)\n",
    "data.shape"
   ]
  },
  {
   "cell_type": "markdown",
   "id": "modern-cliff",
   "metadata": {},
   "source": [
    "# Tweet Pre-Process "
   ]
  },
  {
   "cell_type": "markdown",
   "id": "green-catch",
   "metadata": {},
   "source": [
    "## Remove Special Char"
   ]
  },
  {
   "cell_type": "code",
   "execution_count": 17,
   "id": "severe-breed",
   "metadata": {},
   "outputs": [],
   "source": [
    "# definition for function for removing html tags \n",
    "TAG_RE = re.compile(r'<[^>]+>')\n",
    "def remove_tags(text):\n",
    "    return TAG_RE.sub('', text)"
   ]
  },
  {
   "cell_type": "code",
   "execution_count": 18,
   "id": "roman-equipment",
   "metadata": {},
   "outputs": [],
   "source": [
    "# definition for function for remove any punctuations and special characters\n",
    "def preprocess_text(raw_tweaet):\n",
    "    # Removing html tags\n",
    "    tweet = remove_tags(raw_tweaet)\n",
    "    # Removing html tags\n",
    "    tweet = re.sub('[^a-zA-Z]', '', tweet)\n",
    "    # Removing html tags\n",
    "    tweet = re.sub(r\"\\s+[a-zA-Z]\\s+\", ' ', tweet)\n",
    "    # Removing multiple spaces\n",
    "    tweet = re.sub(r'\\s+', ' ', tweet)\n",
    "    return tweet"
   ]
  },
  {
   "cell_type": "code",
   "execution_count": 23,
   "id": "scheduled-mailing",
   "metadata": {},
   "outputs": [],
   "source": [
    "# run the preprocess_text function to clean tweets list \n",
    "tweets = [] \n",
    "for tweet in raw_tweets[:10000]:\n",
    "    tweets.append(preprocess_text(tweet))"
   ]
  },
  {
   "cell_type": "markdown",
   "id": "permanent-panama",
   "metadata": {},
   "source": [
    "## Tokenizing "
   ]
  },
  {
   "cell_type": "code",
   "execution_count": 21,
   "id": "editorial-protest",
   "metadata": {},
   "outputs": [],
   "source": [
    "# Create a tokenizer \n",
    "BertTokenizer = bert.bert_tokenization.FullTokenizer\n",
    "bert_layer = hub.KerasLayer(\"https://tfhub.dev/tensorflow/bert_en_uncased_L-12_H-768_A-12/3\", trainable=False)\n",
    "vocabulary_file = bert_layer.resolved_object.vocab_file.asset_path.numpy()\n",
    "# .numpy(): converts a tensor object into an numpy.ndarray\n",
    "to_lower_case = bert_layer.resolved_object.do_lower_case.numpy()\n",
    "tokenizer = BertTokenizer(vocabulary_file, to_lower_case)"
   ]
  },
  {
   "cell_type": "code",
   "execution_count": 8,
   "id": "modular-imagination",
   "metadata": {},
   "outputs": [],
   "source": [
    "# Definition for function for convert tweet to ids \n",
    "def tokenize_tweets(text_tweets):\n",
    "    return tokenizer.convert_tokens_to_ids(tokenizer.tokenize(text_tweets))"
   ]
  },
  {
   "cell_type": "code",
   "execution_count": 9,
   "id": "difficult-proportion",
   "metadata": {},
   "outputs": [],
   "source": [
    "# run the tokenize_tweets on tweets \n",
    "tokenized_tweets = [tokenize_tweets(tweet) for tweet in tweets]"
   ]
  },
  {
   "cell_type": "markdown",
   "id": "silver-vector",
   "metadata": {},
   "source": [
    "# GIF Pre-Process"
   ]
  },
  {
   "cell_type": "code",
   "execution_count": 26,
   "id": "norman-dependence",
   "metadata": {},
   "outputs": [],
   "source": [
    "import requests\n",
    "# Requests is an elegant and simple HTTP library for Python\n",
    "import os \n",
    "# os — Miscellaneous operating system interfaces¶\n",
    "os.chdir('./gifs')\n",
    "# !pwd"
   ]
  },
  {
   "cell_type": "code",
   "execution_count": 27,
   "id": "reported-monte",
   "metadata": {},
   "outputs": [],
   "source": [
    "def gif_downloader(image_urls, status=[], filenames = []):\n",
    "    \n",
    "    for index, img in enumerate(image_urls):\n",
    "        # We can split the file based upon / and extract the last split within the python list below:\n",
    "        file_name = img.split('/')[-1]\n",
    "        #print(\"fThis is the file name: {file_name}\")\n",
    "        filenames.append(file_name) \n",
    "        # Now let's send a request to the image URL:\n",
    "        r = requests.get(img, stream=True)\n",
    "        # We can check that the status code is 200 before doing anything else:\n",
    "        if r.status_code == 200:\n",
    "            # This command below will allow us to write the data to a file as binary:\n",
    "            with open(file_name, 'wb') as f:\n",
    "                for chunk in r:\n",
    "                    f.write(chunk)\n",
    "            status.append(True)\n",
    "            print(\"index: \" + str(index) + \" downloaded success. Saved as \"+ file_name)\n",
    "        else:\n",
    "            # We will write all of the images back to the broken_images list:\n",
    "            print(\"index: \" + str(index) + \"downloaded failed\")\n",
    "            status.append(False)\n",
    "    df = pd.DataFrame(filenames)\n",
    "    df.to_csv('filenames.csv') \n",
    "    return filenames, status"
   ]
  },
  {
   "cell_type": "code",
   "execution_count": 28,
   "id": "subjective-saver",
   "metadata": {
    "tags": []
   },
   "outputs": [
    {
     "output_type": "stream",
     "name": "stdout",
     "text": [
      "index: 0 downloaded success. Saved as tumblr_mevmyaKtDf1rgvhr8o1_500.gif\n",
      "index: 1 downloaded success. Saved as tumblr_nok4eeONTv1s2yegdo1_400.gif\n",
      "index: 2 downloaded success. Saved as tumblr_mllh01J96X1s9npefo1_250.gif\n",
      "index: 3 downloaded success. Saved as tumblr_nqlr0rn8ox1r2r0koo1_400.gif\n",
      "index: 4 downloaded success. Saved as tumblr_mvtuwlhSkE1qbnleeo1_500.gif\n",
      "index: 5 downloaded success. Saved as tumblr_npw7v7W07C1tmj047o1_250.gif\n",
      "index: 6 downloaded success. Saved as tumblr_mdlv9v6hE91qanrf2o1_r11_500.gif\n",
      "index: 7 downloaded success. Saved as tumblr_nkcmeflaVj1u26rdio1_500.gif\n",
      "index: 8 downloaded success. Saved as tumblr_mkwd0y8Poo1qlnbq8o1_400.gif\n",
      "index: 9 downloaded success. Saved as tumblr_msij5q4Run1qd76t9o1_500.gif\n"
     ]
    }
   ],
   "source": [
    "download_status = []\n",
    "filenames = []\n",
    "filenames, downlod_status = gif_downloader(gif_links[:2000], status=download_status)\n",
    "# if any gif was not downloaded successfully "
   ]
  },
  {
   "cell_type": "code",
   "execution_count": null,
   "metadata": {},
   "outputs": [],
   "source": [
    "print(any(status == False for status in download_status))\n",
    "print(download_status.index(False))"
   ]
  },
  {
   "cell_type": "code",
   "execution_count": 148,
   "id": "terminal-puppy",
   "metadata": {},
   "outputs": [
    {
     "output_type": "stream",
     "name": "stdout",
     "text": [
      "/home/marxw/Desktop\n"
     ]
    }
   ],
   "source": [
    "# filenames\n",
    "!pwd"
   ]
  },
  {
   "cell_type": "code",
   "execution_count": 10,
   "id": "creative-stake",
   "metadata": {},
   "outputs": [
    {
     "output_type": "error",
     "ename": "NameError",
     "evalue": "name 'filenames' is not defined",
     "traceback": [
      "\u001b[0;31m---------------------------------------------------------------------------\u001b[0m",
      "\u001b[0;31mNameError\u001b[0m                                 Traceback (most recent call last)",
      "\u001b[0;32m<ipython-input-10-08ef60d41873>\u001b[0m in \u001b[0;36m<module>\u001b[0;34m\u001b[0m\n\u001b[1;32m     17\u001b[0m \u001b[0;31m# In GIF files, each frame has its own duration. So there is no general fps for a GIF file.\u001b[0m\u001b[0;34m\u001b[0m\u001b[0;34m\u001b[0m\u001b[0;34m\u001b[0m\u001b[0m\n\u001b[1;32m     18\u001b[0m \u001b[0mbrightness\u001b[0m \u001b[0;34m=\u001b[0m \u001b[0;34m[\u001b[0m\u001b[0;34m]\u001b[0m\u001b[0;34m\u001b[0m\u001b[0;34m\u001b[0m\u001b[0m\n\u001b[0;32m---> 19\u001b[0;31m \u001b[0;32mfor\u001b[0m \u001b[0mgif_file_path\u001b[0m \u001b[0;32min\u001b[0m \u001b[0mfilenames\u001b[0m\u001b[0;34m[\u001b[0m\u001b[0;34m:\u001b[0m\u001b[0;36m50\u001b[0m\u001b[0;34m]\u001b[0m\u001b[0;34m:\u001b[0m\u001b[0;34m\u001b[0m\u001b[0;34m\u001b[0m\u001b[0m\n\u001b[0m\u001b[1;32m     20\u001b[0m     \u001b[0mbrightness\u001b[0m\u001b[0;34m.\u001b[0m\u001b[0mappend\u001b[0m\u001b[0;34m(\u001b[0m\u001b[0mcalculate_gif_brightness\u001b[0m\u001b[0;34m(\u001b[0m\u001b[0mgif_file_path\u001b[0m\u001b[0;34m)\u001b[0m\u001b[0;34m)\u001b[0m\u001b[0;34m\u001b[0m\u001b[0;34m\u001b[0m\u001b[0m\n",
      "\u001b[0;31mNameError\u001b[0m: name 'filenames' is not defined"
     ]
    }
   ],
   "source": [
    "# https://gist.github.com/kmohrf/8d4653536aaa88965a69a06b81bcb022\n",
    "def calculate_image_brightness(image):\n",
    "    greyscale_image = image.convert('L')\n",
    "    histogram = greyscale_image.histogram()\n",
    "    pixels = sum(histogram)\n",
    "    brightness = scale = len(histogram)\n",
    "    for index in range(0, scale):\n",
    "        ratio = histogram[index] / pixels\n",
    "        brightness += ratio * (-scale + index)\n",
    "    return 1 if brightness == 255 else brightness / scale\n",
    "def calculate_gif_brightness(path_to_gif_file):\n",
    "    capture = Image.open(path_to_gif_file)\n",
    "    gif_brightness = []\n",
    "    for frame in ImageSequence.Iterator(capture):\n",
    "        gif_brightness.append(calculate_image_brightness(frame))\n",
    "    return sum(gif_brightness) / len(gif_brightness)\n",
    "# In GIF files, each frame has its own duration. So there is no general fps for a GIF file. \n",
    "brightness = []\n",
    "for gif_file_path in filenames[:50]: \n",
    "    brightness.append(calculate_gif_brightness(gif_file_path))"
   ]
  },
  {
   "cell_type": "code",
   "execution_count": 63,
   "metadata": {},
   "outputs": [],
   "source": [
    "def calculate_gif_entropy(path_to_gif_file):\n",
    "    capture = Image.open(path_to_gif_file)\n",
    "    gif_entropy = []\n",
    "    for frame in ImageSequence.Iterator(capture):\n",
    "        gif_entropy.append(frame.entropy())\n",
    "    return sum(gif_entropy) / len(gif_entropy)\n",
    "# In GIF files, each frame has its own duration. So there is no general fps for a GIF file. \n",
    "entropy = []\n",
    "for gif_file_path in filenames[:50]: \n",
    "    entropy.append(calculate_gif_entropy(gif_file_path))"
   ]
  },
  {
   "cell_type": "code",
   "execution_count": 66,
   "metadata": {},
   "outputs": [],
   "source": [
    "def get_avg_fps(PIL_Image_object):\n",
    "    \"\"\" Returns the average framerate of a PIL Image object \"\"\"\n",
    "    PIL_Image_object.seek(0)\n",
    "    frames = duration = 0\n",
    "    while True:\n",
    "        try:\n",
    "            frames += 1\n",
    "            duration += PIL_Image_object.info['duration']\n",
    "            PIL_Image_object.seek(PIL_Image_object.tell() + 1)\n",
    "        except EOFError:\n",
    "            return frames / duration * 1000\n",
    "    return None\n",
    "# In GIF files, each frame has its own duration. So there is no general fps for a GIF file. \n",
    "framerates = []\n",
    "for gif_file_path in filenames[:50]: \n",
    "    gif_obj = Image.open(gif_file_path)\n",
    "    framerates.append(get_avg_fps(gif_obj))"
   ]
  },
  {
   "cell_type": "code",
   "execution_count": 67,
   "id": "cardiac-reader",
   "metadata": {},
   "outputs": [],
   "source": [
    "df = pd.DataFrame(filenames)\n",
    "df['text'] = data['x']\n",
    "df['brightness'] = brightness\n",
    "df['entropy'] = entropy\n",
    "df['fps'] = framerates"
   ]
  },
  {
   "cell_type": "code",
   "execution_count": 68,
   "id": "rural-probe",
   "metadata": {},
   "outputs": [
    {
     "output_type": "execute_result",
     "data": {
      "text/plain": [
       "                                         0  \\\n",
       "0       tumblr_mevmyaKtDf1rgvhr8o1_500.gif   \n",
       "1       tumblr_nok4eeONTv1s2yegdo1_400.gif   \n",
       "2       tumblr_mllh01J96X1s9npefo1_250.gif   \n",
       "3       tumblr_nqlr0rn8ox1r2r0koo1_400.gif   \n",
       "4       tumblr_mvtuwlhSkE1qbnleeo1_500.gif   \n",
       "5       tumblr_npw7v7W07C1tmj047o1_250.gif   \n",
       "6   tumblr_mdlv9v6hE91qanrf2o1_r11_500.gif   \n",
       "7       tumblr_nkcmeflaVj1u26rdio1_500.gif   \n",
       "8       tumblr_mkwd0y8Poo1qlnbq8o1_400.gif   \n",
       "9       tumblr_msij5q4Run1qd76t9o1_500.gif   \n",
       "10      tumblr_np9xo74UgD1ux4g5vo1_250.gif   \n",
       "11      tumblr_noncfelojf1uqmy01o1_500.gif   \n",
       "12      tumblr_nov5tja4g91rkmzrjo1_400.gif   \n",
       "13      tumblr_nq7f66LEk41tzifluo1_400.gif   \n",
       "14      tumblr_nq3ofebQo51s4vpwjo1_500.gif   \n",
       "15   tumblr_nqofwqgS8d1siem3jo1_r1_400.gif   \n",
       "16      tumblr_nmzcu205yo1qdj2qoo1_500.gif   \n",
       "17      tumblr_noxbsuCyAg1tjhed2o1_500.gif   \n",
       "18      tumblr_n4hv5jJDcS1t96jpzo1_500.gif   \n",
       "19      tumblr_npzfsr13I51uyqfd5o1_500.gif   \n",
       "20      tumblr_nqmgdj8STn1rn1g1jo1_250.gif   \n",
       "21      tumblr_npntschfQp1qf69tyo1_500.gif   \n",
       "22      tumblr_nmp0m0o3Iv1r44r7zo1_500.gif   \n",
       "23      tumblr_nox28g9fv41tfkobto1_500.gif   \n",
       "24      tumblr_npse2pIimv1tyncywo1_400.gif   \n",
       "25   tumblr_n0lv33BBrb1rc0kvpo1_r1_250.gif   \n",
       "26      tumblr_np2k4xqcDt1s9b6vho1_500.gif   \n",
       "27      tumblr_nntpx3AxcV1tyncywo1_500.gif   \n",
       "28      tumblr_no5kyk0Mgs1urjsaqo1_400.gif   \n",
       "29      tumblr_nqq3ibcw841rvg72ao1_400.gif   \n",
       "30      tumblr_mudwwxBWdn1qm26qzo1_500.gif   \n",
       "31      tumblr_nq07jm1AQ51sja1kdo1_500.gif   \n",
       "32      tumblr_nj4iqcVaFQ1s26nzro1_500.gif   \n",
       "33      tumblr_npo3mtQ87f1uxcyego1_400.gif   \n",
       "34      tumblr_nqexpu1pOL1sqicm1o1_500.gif   \n",
       "35   tumblr_nq541zHa5n1uy63pco1_r1_250.gif   \n",
       "36      tumblr_nnxshbEKOc1rqd7uco1_500.gif   \n",
       "37      tumblr_nq8ajiaBT71usj03ho1_500.gif   \n",
       "38      tumblr_np5x4gNc1L1ux4ymjo1_500.gif   \n",
       "39      tumblr_npqraj6f5R1uuxd1yo1_500.gif   \n",
       "40      tumblr_no2up3t1Bv1usegjto1_250.gif   \n",
       "41      tumblr_nl77cuGZWn1sm50zqo1_400.gif   \n",
       "42      tumblr_nnn5873T0c1uqclqmo1_500.gif   \n",
       "43      tumblr_nowg4sfk6D1qzefc2o1_400.gif   \n",
       "44      tumblr_nohp6gAaLv1si7d5lo1_400.gif   \n",
       "45      tumblr_npgxznNRd31uv0y2ro1_250.gif   \n",
       "46     tumblr_nq789eiheZ1r3kmkso1_1280.gif   \n",
       "47      tumblr_nqrlhsLD931uzihc0o1_500.gif   \n",
       "48      tumblr_nqir72vsUx1sd7dido1_500.gif   \n",
       "49      tumblr_nqir72vsUx1sd7dido1_500.gif   \n",
       "\n",
       "                                                 text  brightness   entropy  \\\n",
       "0   a man is glaring, and someone with sunglasses ...    0.233874  5.170090   \n",
       "1            a cat tries to catch a mouse on a tablet    0.372801  5.225728   \n",
       "2                    a man dressed in red is dancing.    0.265175  5.840860   \n",
       "3      an animal comes close to another in the jungle    0.475178  3.687133   \n",
       "4   a man in a hat adjusts his tie and makes a wei...    0.210181  3.205473   \n",
       "5   someone puts a cat on wrapping paper then wrap...    0.277893  5.121114   \n",
       "6              a brunette woman is looking at the man    0.347571  6.214434   \n",
       "7         a man on a bicycle is jumping over a fence.    0.395059  6.722588   \n",
       "8   a group of men are standing and staring in the...    0.338757  6.339215   \n",
       "9            a man with black clothes is dancing sexy    0.864458  5.170477   \n",
       "10         a boy is happy parking and see another boy    0.772490  6.070337   \n",
       "11  a man winks, and a man with a fork motions him...    0.084325  3.205557   \n",
       "12  a man walks into a room and sees a girl floati...    0.190003  4.738599   \n",
       "13         the vehicle is moving fast into the tunnel    0.342828  6.561740   \n",
       "14  a beatles show, paul is on the front singing v...    0.240527  4.909666   \n",
       "15     a sport car is swinging on the race playground    0.521151  5.904178   \n",
       "16  a woman is laughing and holding a man, the man...    0.369162  6.103437   \n",
       "17  a man with lights on his jacket watching a lar...    0.089293  4.963692   \n",
       "18       a gloved hand opens to reveal a golden ring.    0.097280  4.898238   \n",
       "19  a skate boarder is doing trick on his skate bo...    0.533099  3.838239   \n",
       "20    young man is clapping with his hand and dancing    0.729481  3.913581   \n",
       "21  a guy are kissing a girl slowly in a swimming ...    0.234896  5.445038   \n",
       "22        the clouds are moving next to the full moon    0.079670  3.032961   \n",
       "23        a man and woman is making out in the shower    0.355454  3.763452   \n",
       "24         a wet cat in the bathtub tries to get out.    0.463125  6.602548   \n",
       "25  four people dressed as squirrels are dancing i...    0.333721  5.152455   \n",
       "26  a drummer is beating the drum with lightening ...    0.133648  4.499061   \n",
       "27        a sugar glider jumps off a belt on the wall    0.416198  5.234744   \n",
       "28       some zombie are attacking a read head woman,    0.278776  6.530787   \n",
       "29      a cat magically moves away from a man's food.    0.358657  4.621238   \n",
       "30       a man smiles and laughs into the microphone.    0.615132  5.120486   \n",
       "31     a bald man drop one bomb and explode the local    0.297544  4.082479   \n",
       "32    a man are holding a bottle taps it on his head.    0.608701  3.280546   \n",
       "33  a boy are talking to another boy with an open ...    0.084262  4.195160   \n",
       "34              a woman trying to control her dragon.    0.661414  5.498737   \n",
       "35   the singer and artist are taking a look forward.    0.553119  6.762599   \n",
       "36  a man is wearing a cap and headphones making h...    0.316733  4.816196   \n",
       "37   a couple standing in the sea embrace each other.    0.496703  5.224756   \n",
       "38             a couple plays with each other's hair.    0.377914  3.886077   \n",
       "39  a man looking down looks up and speaks to his ...    0.480433  5.596349   \n",
       "40  a man swing with his knife and destroy everything    0.303337  5.690444   \n",
       "41        a woman is talking and holding a tea towel.    0.458244  6.024896   \n",
       "42     a girl is smoking with his friend in the house    0.180697  3.231666   \n",
       "43            a woman in a blue shirt moved forwards.    0.308967  5.190884   \n",
       "44            a good looking guy in black is pouting.    0.266722  3.992409   \n",
       "45  a cute little bulldog puppy is taking his tong...    0.412464  6.659292   \n",
       "46                a man smells coffee in a brown bag.    0.570351  5.293324   \n",
       "47  a person is kissing another person with heavy ...    0.457534  3.604181   \n",
       "48  a guy is making a few turns in a throne and th...    0.310116  3.285286   \n",
       "49  a man is sitting in a room, he has a gun on hi...    0.310116  3.285286   \n",
       "\n",
       "          fps  \n",
       "0    5.000000  \n",
       "1   16.666667  \n",
       "2    5.263158  \n",
       "3   11.111111  \n",
       "4   10.000000  \n",
       "5    6.250000  \n",
       "6    6.875000  \n",
       "7   16.666667  \n",
       "8   10.000000  \n",
       "9   12.500000  \n",
       "10   8.333333  \n",
       "11  10.000000  \n",
       "12  10.000000  \n",
       "13   9.090909  \n",
       "14  16.666667  \n",
       "15  12.500000  \n",
       "16   5.000000  \n",
       "17  10.000000  \n",
       "18   7.692308  \n",
       "19  11.111111  \n",
       "20  20.000000  \n",
       "21  10.000000  \n",
       "22  10.000000  \n",
       "23   9.090909  \n",
       "24  10.000000  \n",
       "25  33.333333  \n",
       "26  16.666667  \n",
       "27  33.333333  \n",
       "28   8.333333  \n",
       "29   7.932011  \n",
       "30  10.000000  \n",
       "31  12.500000  \n",
       "32   5.000000  \n",
       "33  14.285714  \n",
       "34  10.000000  \n",
       "35  20.000000  \n",
       "36  14.285714  \n",
       "37  10.000000  \n",
       "38  11.111111  \n",
       "39  20.000000  \n",
       "40  14.285714  \n",
       "41  10.000000  \n",
       "42  10.000000  \n",
       "43  25.000000  \n",
       "44  10.000000  \n",
       "45   4.761905  \n",
       "46  10.000000  \n",
       "47  11.864407  \n",
       "48  12.500000  \n",
       "49  12.500000  "
      ],
      "text/html": "<div>\n<style scoped>\n    .dataframe tbody tr th:only-of-type {\n        vertical-align: middle;\n    }\n\n    .dataframe tbody tr th {\n        vertical-align: top;\n    }\n\n    .dataframe thead th {\n        text-align: right;\n    }\n</style>\n<table border=\"1\" class=\"dataframe\">\n  <thead>\n    <tr style=\"text-align: right;\">\n      <th></th>\n      <th>0</th>\n      <th>text</th>\n      <th>brightness</th>\n      <th>entropy</th>\n      <th>fps</th>\n    </tr>\n  </thead>\n  <tbody>\n    <tr>\n      <th>0</th>\n      <td>tumblr_mevmyaKtDf1rgvhr8o1_500.gif</td>\n      <td>a man is glaring, and someone with sunglasses ...</td>\n      <td>0.233874</td>\n      <td>5.170090</td>\n      <td>5.000000</td>\n    </tr>\n    <tr>\n      <th>1</th>\n      <td>tumblr_nok4eeONTv1s2yegdo1_400.gif</td>\n      <td>a cat tries to catch a mouse on a tablet</td>\n      <td>0.372801</td>\n      <td>5.225728</td>\n      <td>16.666667</td>\n    </tr>\n    <tr>\n      <th>2</th>\n      <td>tumblr_mllh01J96X1s9npefo1_250.gif</td>\n      <td>a man dressed in red is dancing.</td>\n      <td>0.265175</td>\n      <td>5.840860</td>\n      <td>5.263158</td>\n    </tr>\n    <tr>\n      <th>3</th>\n      <td>tumblr_nqlr0rn8ox1r2r0koo1_400.gif</td>\n      <td>an animal comes close to another in the jungle</td>\n      <td>0.475178</td>\n      <td>3.687133</td>\n      <td>11.111111</td>\n    </tr>\n    <tr>\n      <th>4</th>\n      <td>tumblr_mvtuwlhSkE1qbnleeo1_500.gif</td>\n      <td>a man in a hat adjusts his tie and makes a wei...</td>\n      <td>0.210181</td>\n      <td>3.205473</td>\n      <td>10.000000</td>\n    </tr>\n    <tr>\n      <th>5</th>\n      <td>tumblr_npw7v7W07C1tmj047o1_250.gif</td>\n      <td>someone puts a cat on wrapping paper then wrap...</td>\n      <td>0.277893</td>\n      <td>5.121114</td>\n      <td>6.250000</td>\n    </tr>\n    <tr>\n      <th>6</th>\n      <td>tumblr_mdlv9v6hE91qanrf2o1_r11_500.gif</td>\n      <td>a brunette woman is looking at the man</td>\n      <td>0.347571</td>\n      <td>6.214434</td>\n      <td>6.875000</td>\n    </tr>\n    <tr>\n      <th>7</th>\n      <td>tumblr_nkcmeflaVj1u26rdio1_500.gif</td>\n      <td>a man on a bicycle is jumping over a fence.</td>\n      <td>0.395059</td>\n      <td>6.722588</td>\n      <td>16.666667</td>\n    </tr>\n    <tr>\n      <th>8</th>\n      <td>tumblr_mkwd0y8Poo1qlnbq8o1_400.gif</td>\n      <td>a group of men are standing and staring in the...</td>\n      <td>0.338757</td>\n      <td>6.339215</td>\n      <td>10.000000</td>\n    </tr>\n    <tr>\n      <th>9</th>\n      <td>tumblr_msij5q4Run1qd76t9o1_500.gif</td>\n      <td>a man with black clothes is dancing sexy</td>\n      <td>0.864458</td>\n      <td>5.170477</td>\n      <td>12.500000</td>\n    </tr>\n    <tr>\n      <th>10</th>\n      <td>tumblr_np9xo74UgD1ux4g5vo1_250.gif</td>\n      <td>a boy is happy parking and see another boy</td>\n      <td>0.772490</td>\n      <td>6.070337</td>\n      <td>8.333333</td>\n    </tr>\n    <tr>\n      <th>11</th>\n      <td>tumblr_noncfelojf1uqmy01o1_500.gif</td>\n      <td>a man winks, and a man with a fork motions him...</td>\n      <td>0.084325</td>\n      <td>3.205557</td>\n      <td>10.000000</td>\n    </tr>\n    <tr>\n      <th>12</th>\n      <td>tumblr_nov5tja4g91rkmzrjo1_400.gif</td>\n      <td>a man walks into a room and sees a girl floati...</td>\n      <td>0.190003</td>\n      <td>4.738599</td>\n      <td>10.000000</td>\n    </tr>\n    <tr>\n      <th>13</th>\n      <td>tumblr_nq7f66LEk41tzifluo1_400.gif</td>\n      <td>the vehicle is moving fast into the tunnel</td>\n      <td>0.342828</td>\n      <td>6.561740</td>\n      <td>9.090909</td>\n    </tr>\n    <tr>\n      <th>14</th>\n      <td>tumblr_nq3ofebQo51s4vpwjo1_500.gif</td>\n      <td>a beatles show, paul is on the front singing v...</td>\n      <td>0.240527</td>\n      <td>4.909666</td>\n      <td>16.666667</td>\n    </tr>\n    <tr>\n      <th>15</th>\n      <td>tumblr_nqofwqgS8d1siem3jo1_r1_400.gif</td>\n      <td>a sport car is swinging on the race playground</td>\n      <td>0.521151</td>\n      <td>5.904178</td>\n      <td>12.500000</td>\n    </tr>\n    <tr>\n      <th>16</th>\n      <td>tumblr_nmzcu205yo1qdj2qoo1_500.gif</td>\n      <td>a woman is laughing and holding a man, the man...</td>\n      <td>0.369162</td>\n      <td>6.103437</td>\n      <td>5.000000</td>\n    </tr>\n    <tr>\n      <th>17</th>\n      <td>tumblr_noxbsuCyAg1tjhed2o1_500.gif</td>\n      <td>a man with lights on his jacket watching a lar...</td>\n      <td>0.089293</td>\n      <td>4.963692</td>\n      <td>10.000000</td>\n    </tr>\n    <tr>\n      <th>18</th>\n      <td>tumblr_n4hv5jJDcS1t96jpzo1_500.gif</td>\n      <td>a gloved hand opens to reveal a golden ring.</td>\n      <td>0.097280</td>\n      <td>4.898238</td>\n      <td>7.692308</td>\n    </tr>\n    <tr>\n      <th>19</th>\n      <td>tumblr_npzfsr13I51uyqfd5o1_500.gif</td>\n      <td>a skate boarder is doing trick on his skate bo...</td>\n      <td>0.533099</td>\n      <td>3.838239</td>\n      <td>11.111111</td>\n    </tr>\n    <tr>\n      <th>20</th>\n      <td>tumblr_nqmgdj8STn1rn1g1jo1_250.gif</td>\n      <td>young man is clapping with his hand and dancing</td>\n      <td>0.729481</td>\n      <td>3.913581</td>\n      <td>20.000000</td>\n    </tr>\n    <tr>\n      <th>21</th>\n      <td>tumblr_npntschfQp1qf69tyo1_500.gif</td>\n      <td>a guy are kissing a girl slowly in a swimming ...</td>\n      <td>0.234896</td>\n      <td>5.445038</td>\n      <td>10.000000</td>\n    </tr>\n    <tr>\n      <th>22</th>\n      <td>tumblr_nmp0m0o3Iv1r44r7zo1_500.gif</td>\n      <td>the clouds are moving next to the full moon</td>\n      <td>0.079670</td>\n      <td>3.032961</td>\n      <td>10.000000</td>\n    </tr>\n    <tr>\n      <th>23</th>\n      <td>tumblr_nox28g9fv41tfkobto1_500.gif</td>\n      <td>a man and woman is making out in the shower</td>\n      <td>0.355454</td>\n      <td>3.763452</td>\n      <td>9.090909</td>\n    </tr>\n    <tr>\n      <th>24</th>\n      <td>tumblr_npse2pIimv1tyncywo1_400.gif</td>\n      <td>a wet cat in the bathtub tries to get out.</td>\n      <td>0.463125</td>\n      <td>6.602548</td>\n      <td>10.000000</td>\n    </tr>\n    <tr>\n      <th>25</th>\n      <td>tumblr_n0lv33BBrb1rc0kvpo1_r1_250.gif</td>\n      <td>four people dressed as squirrels are dancing i...</td>\n      <td>0.333721</td>\n      <td>5.152455</td>\n      <td>33.333333</td>\n    </tr>\n    <tr>\n      <th>26</th>\n      <td>tumblr_np2k4xqcDt1s9b6vho1_500.gif</td>\n      <td>a drummer is beating the drum with lightening ...</td>\n      <td>0.133648</td>\n      <td>4.499061</td>\n      <td>16.666667</td>\n    </tr>\n    <tr>\n      <th>27</th>\n      <td>tumblr_nntpx3AxcV1tyncywo1_500.gif</td>\n      <td>a sugar glider jumps off a belt on the wall</td>\n      <td>0.416198</td>\n      <td>5.234744</td>\n      <td>33.333333</td>\n    </tr>\n    <tr>\n      <th>28</th>\n      <td>tumblr_no5kyk0Mgs1urjsaqo1_400.gif</td>\n      <td>some zombie are attacking a read head woman,</td>\n      <td>0.278776</td>\n      <td>6.530787</td>\n      <td>8.333333</td>\n    </tr>\n    <tr>\n      <th>29</th>\n      <td>tumblr_nqq3ibcw841rvg72ao1_400.gif</td>\n      <td>a cat magically moves away from a man's food.</td>\n      <td>0.358657</td>\n      <td>4.621238</td>\n      <td>7.932011</td>\n    </tr>\n    <tr>\n      <th>30</th>\n      <td>tumblr_mudwwxBWdn1qm26qzo1_500.gif</td>\n      <td>a man smiles and laughs into the microphone.</td>\n      <td>0.615132</td>\n      <td>5.120486</td>\n      <td>10.000000</td>\n    </tr>\n    <tr>\n      <th>31</th>\n      <td>tumblr_nq07jm1AQ51sja1kdo1_500.gif</td>\n      <td>a bald man drop one bomb and explode the local</td>\n      <td>0.297544</td>\n      <td>4.082479</td>\n      <td>12.500000</td>\n    </tr>\n    <tr>\n      <th>32</th>\n      <td>tumblr_nj4iqcVaFQ1s26nzro1_500.gif</td>\n      <td>a man are holding a bottle taps it on his head.</td>\n      <td>0.608701</td>\n      <td>3.280546</td>\n      <td>5.000000</td>\n    </tr>\n    <tr>\n      <th>33</th>\n      <td>tumblr_npo3mtQ87f1uxcyego1_400.gif</td>\n      <td>a boy are talking to another boy with an open ...</td>\n      <td>0.084262</td>\n      <td>4.195160</td>\n      <td>14.285714</td>\n    </tr>\n    <tr>\n      <th>34</th>\n      <td>tumblr_nqexpu1pOL1sqicm1o1_500.gif</td>\n      <td>a woman trying to control her dragon.</td>\n      <td>0.661414</td>\n      <td>5.498737</td>\n      <td>10.000000</td>\n    </tr>\n    <tr>\n      <th>35</th>\n      <td>tumblr_nq541zHa5n1uy63pco1_r1_250.gif</td>\n      <td>the singer and artist are taking a look forward.</td>\n      <td>0.553119</td>\n      <td>6.762599</td>\n      <td>20.000000</td>\n    </tr>\n    <tr>\n      <th>36</th>\n      <td>tumblr_nnxshbEKOc1rqd7uco1_500.gif</td>\n      <td>a man is wearing a cap and headphones making h...</td>\n      <td>0.316733</td>\n      <td>4.816196</td>\n      <td>14.285714</td>\n    </tr>\n    <tr>\n      <th>37</th>\n      <td>tumblr_nq8ajiaBT71usj03ho1_500.gif</td>\n      <td>a couple standing in the sea embrace each other.</td>\n      <td>0.496703</td>\n      <td>5.224756</td>\n      <td>10.000000</td>\n    </tr>\n    <tr>\n      <th>38</th>\n      <td>tumblr_np5x4gNc1L1ux4ymjo1_500.gif</td>\n      <td>a couple plays with each other's hair.</td>\n      <td>0.377914</td>\n      <td>3.886077</td>\n      <td>11.111111</td>\n    </tr>\n    <tr>\n      <th>39</th>\n      <td>tumblr_npqraj6f5R1uuxd1yo1_500.gif</td>\n      <td>a man looking down looks up and speaks to his ...</td>\n      <td>0.480433</td>\n      <td>5.596349</td>\n      <td>20.000000</td>\n    </tr>\n    <tr>\n      <th>40</th>\n      <td>tumblr_no2up3t1Bv1usegjto1_250.gif</td>\n      <td>a man swing with his knife and destroy everything</td>\n      <td>0.303337</td>\n      <td>5.690444</td>\n      <td>14.285714</td>\n    </tr>\n    <tr>\n      <th>41</th>\n      <td>tumblr_nl77cuGZWn1sm50zqo1_400.gif</td>\n      <td>a woman is talking and holding a tea towel.</td>\n      <td>0.458244</td>\n      <td>6.024896</td>\n      <td>10.000000</td>\n    </tr>\n    <tr>\n      <th>42</th>\n      <td>tumblr_nnn5873T0c1uqclqmo1_500.gif</td>\n      <td>a girl is smoking with his friend in the house</td>\n      <td>0.180697</td>\n      <td>3.231666</td>\n      <td>10.000000</td>\n    </tr>\n    <tr>\n      <th>43</th>\n      <td>tumblr_nowg4sfk6D1qzefc2o1_400.gif</td>\n      <td>a woman in a blue shirt moved forwards.</td>\n      <td>0.308967</td>\n      <td>5.190884</td>\n      <td>25.000000</td>\n    </tr>\n    <tr>\n      <th>44</th>\n      <td>tumblr_nohp6gAaLv1si7d5lo1_400.gif</td>\n      <td>a good looking guy in black is pouting.</td>\n      <td>0.266722</td>\n      <td>3.992409</td>\n      <td>10.000000</td>\n    </tr>\n    <tr>\n      <th>45</th>\n      <td>tumblr_npgxznNRd31uv0y2ro1_250.gif</td>\n      <td>a cute little bulldog puppy is taking his tong...</td>\n      <td>0.412464</td>\n      <td>6.659292</td>\n      <td>4.761905</td>\n    </tr>\n    <tr>\n      <th>46</th>\n      <td>tumblr_nq789eiheZ1r3kmkso1_1280.gif</td>\n      <td>a man smells coffee in a brown bag.</td>\n      <td>0.570351</td>\n      <td>5.293324</td>\n      <td>10.000000</td>\n    </tr>\n    <tr>\n      <th>47</th>\n      <td>tumblr_nqrlhsLD931uzihc0o1_500.gif</td>\n      <td>a person is kissing another person with heavy ...</td>\n      <td>0.457534</td>\n      <td>3.604181</td>\n      <td>11.864407</td>\n    </tr>\n    <tr>\n      <th>48</th>\n      <td>tumblr_nqir72vsUx1sd7dido1_500.gif</td>\n      <td>a guy is making a few turns in a throne and th...</td>\n      <td>0.310116</td>\n      <td>3.285286</td>\n      <td>12.500000</td>\n    </tr>\n    <tr>\n      <th>49</th>\n      <td>tumblr_nqir72vsUx1sd7dido1_500.gif</td>\n      <td>a man is sitting in a room, he has a gun on hi...</td>\n      <td>0.310116</td>\n      <td>3.285286</td>\n      <td>12.500000</td>\n    </tr>\n  </tbody>\n</table>\n</div>"
     },
     "metadata": {},
     "execution_count": 68
    }
   ],
   "source": [
    "df"
   ]
  },
  {
   "cell_type": "markdown",
   "id": "changing-portfolio",
   "metadata": {},
   "source": [
    "# Gif Suggestion\n"
   ]
  },
  {
   "cell_type": "code",
   "execution_count": 79,
   "metadata": {},
   "outputs": [
    {
     "output_type": "stream",
     "name": "stdout",
     "text": [
      "/home/marxw/Desktop/AwesomeGif\n"
     ]
    }
   ],
   "source": [
    "##Model Import\n",
    "!pwd\n",
    "os.chdir('../')\n"
   ]
  },
  {
   "cell_type": "code",
   "execution_count": 84,
   "id": "valuable-harbor",
   "metadata": {},
   "outputs": [],
   "source": [
    "\n",
    "avgBrightnessModel = keras.models.load_model('/home/marxw/Desktop/AwesomeGif/GIF-models/avg_brightness_prediction_model.h5')\n",
    "entropyModel = keras.models.load_model('/home/marxw/Desktop/AwesomeGif/GIF-models/entropy_prediction_model.h5')\n",
    "framerateModel = keras.models.load_model('/home/marxw/Desktop/AwesomeGif/GIF-models/framerate_prediction_model.h5')"
   ]
  },
  {
   "cell_type": "code",
   "execution_count": 85,
   "metadata": {},
   "outputs": [],
   "source": [
    "def format_text(raw_text):\n",
    "    clean_text = preprocess_text(raw_text)\n",
    "    tokenized_text = tokenize_tweets(clean_text)\n",
    "    formatted_text = tf.ragged.constant([tokenized_text], dtype=tf.int32)\n",
    "    return formatted_text"
   ]
  },
  {
   "cell_type": "code",
   "execution_count": 98,
   "metadata": {},
   "outputs": [],
   "source": [
    "def predict_GIF_features(formatted_input):\n",
    "    brightness = avgBrightnessModel.predict(formatted_input)[0]\n",
    "    entropy = entropyModel.predict(formatted_input)[0]\n",
    "    framerate = framerateModel.predict(formatted_input)[0]\n",
    "    summary = {'brightness': brightness, 'entropy': entropy, 'fps': framerate}\n",
    "    return summary "
   ]
  },
  {
   "cell_type": "code",
   "execution_count": 115,
   "metadata": {},
   "outputs": [],
   "source": [
    "pred = predict_GIF_features(format_text(\"This is so stupid\"))"
   ]
  },
  {
   "cell_type": "code",
   "execution_count": 116,
   "metadata": {},
   "outputs": [
    {
     "output_type": "execute_result",
     "data": {
      "text/plain": [
       "{'brightness': array([0.21615382], dtype=float32),\n",
       " 'entropy': array([1.4850472], dtype=float32),\n",
       " 'fps': array([4.627921], dtype=float32)}"
      ]
     },
     "metadata": {},
     "execution_count": 116
    }
   ],
   "source": [
    "pred"
   ]
  },
  {
   "cell_type": "code",
   "execution_count": 143,
   "metadata": {},
   "outputs": [],
   "source": [
    "def suggest(text, df=df):\n",
    "    pred = predict_GIF_features(format_text(text))\n",
    "    dfa =  df[(0.5*pred['brightness'][0] < df['brightness']) & (df['brightness'] < 1.5*pred['brightness'][0])]\n",
    "    if(dfa.size==0): return \"Oops no match found\"\n",
    "    else: return dfa[0][0]"
   ]
  },
  {
   "cell_type": "code",
   "execution_count": 145,
   "metadata": {},
   "outputs": [
    {
     "output_type": "execute_result",
     "data": {
      "text/plain": [
       "'tumblr_mevmyaKtDf1rgvhr8o1_500.gif'"
      ]
     },
     "metadata": {},
     "execution_count": 145
    }
   ],
   "source": [
    "suggest(\"what about fox\")"
   ]
  },
  {
   "cell_type": "code",
   "execution_count": 121,
   "metadata": {},
   "outputs": [
    {
     "output_type": "execute_result",
     "data": {
      "text/plain": [
       "                                     0  \\\n",
       "0   tumblr_mevmyaKtDf1rgvhr8o1_500.gif   \n",
       "4   tumblr_mvtuwlhSkE1qbnleeo1_500.gif   \n",
       "12  tumblr_nov5tja4g91rkmzrjo1_400.gif   \n",
       "14  tumblr_nq3ofebQo51s4vpwjo1_500.gif   \n",
       "21  tumblr_npntschfQp1qf69tyo1_500.gif   \n",
       "42  tumblr_nnn5873T0c1uqclqmo1_500.gif   \n",
       "\n",
       "                                                 text  brightness   entropy  \\\n",
       "0   a man is glaring, and someone with sunglasses ...    0.233874  5.170090   \n",
       "4   a man in a hat adjusts his tie and makes a wei...    0.210181  3.205473   \n",
       "12  a man walks into a room and sees a girl floati...    0.190003  4.738599   \n",
       "14  a beatles show, paul is on the front singing v...    0.240527  4.909666   \n",
       "21  a guy are kissing a girl slowly in a swimming ...    0.234896  5.445038   \n",
       "42     a girl is smoking with his friend in the house    0.180697  3.231666   \n",
       "\n",
       "          fps  \n",
       "0    5.000000  \n",
       "4   10.000000  \n",
       "12  10.000000  \n",
       "14  16.666667  \n",
       "21  10.000000  \n",
       "42  10.000000  "
      ],
      "text/html": "<div>\n<style scoped>\n    .dataframe tbody tr th:only-of-type {\n        vertical-align: middle;\n    }\n\n    .dataframe tbody tr th {\n        vertical-align: top;\n    }\n\n    .dataframe thead th {\n        text-align: right;\n    }\n</style>\n<table border=\"1\" class=\"dataframe\">\n  <thead>\n    <tr style=\"text-align: right;\">\n      <th></th>\n      <th>0</th>\n      <th>text</th>\n      <th>brightness</th>\n      <th>entropy</th>\n      <th>fps</th>\n    </tr>\n  </thead>\n  <tbody>\n    <tr>\n      <th>0</th>\n      <td>tumblr_mevmyaKtDf1rgvhr8o1_500.gif</td>\n      <td>a man is glaring, and someone with sunglasses ...</td>\n      <td>0.233874</td>\n      <td>5.170090</td>\n      <td>5.000000</td>\n    </tr>\n    <tr>\n      <th>4</th>\n      <td>tumblr_mvtuwlhSkE1qbnleeo1_500.gif</td>\n      <td>a man in a hat adjusts his tie and makes a wei...</td>\n      <td>0.210181</td>\n      <td>3.205473</td>\n      <td>10.000000</td>\n    </tr>\n    <tr>\n      <th>12</th>\n      <td>tumblr_nov5tja4g91rkmzrjo1_400.gif</td>\n      <td>a man walks into a room and sees a girl floati...</td>\n      <td>0.190003</td>\n      <td>4.738599</td>\n      <td>10.000000</td>\n    </tr>\n    <tr>\n      <th>14</th>\n      <td>tumblr_nq3ofebQo51s4vpwjo1_500.gif</td>\n      <td>a beatles show, paul is on the front singing v...</td>\n      <td>0.240527</td>\n      <td>4.909666</td>\n      <td>16.666667</td>\n    </tr>\n    <tr>\n      <th>21</th>\n      <td>tumblr_npntschfQp1qf69tyo1_500.gif</td>\n      <td>a guy are kissing a girl slowly in a swimming ...</td>\n      <td>0.234896</td>\n      <td>5.445038</td>\n      <td>10.000000</td>\n    </tr>\n    <tr>\n      <th>42</th>\n      <td>tumblr_nnn5873T0c1uqclqmo1_500.gif</td>\n      <td>a girl is smoking with his friend in the house</td>\n      <td>0.180697</td>\n      <td>3.231666</td>\n      <td>10.000000</td>\n    </tr>\n  </tbody>\n</table>\n</div>"
     },
     "metadata": {},
     "execution_count": 121
    }
   ],
   "source": [
    " df[(0.8*pred['brightness'][0] < df['brightness']) & (df['brightness'] < 1.2*pred['brightness'][0])]"
   ]
  },
  {
   "cell_type": "code",
   "execution_count": 118,
   "metadata": {},
   "outputs": [
    {
     "output_type": "execute_result",
     "data": {
      "text/plain": [
       "Empty DataFrame\n",
       "Columns: [0, text, brightness, entropy, fps]\n",
       "Index: []"
      ],
      "text/html": "<div>\n<style scoped>\n    .dataframe tbody tr th:only-of-type {\n        vertical-align: middle;\n    }\n\n    .dataframe tbody tr th {\n        vertical-align: top;\n    }\n\n    .dataframe thead th {\n        text-align: right;\n    }\n</style>\n<table border=\"1\" class=\"dataframe\">\n  <thead>\n    <tr style=\"text-align: right;\">\n      <th></th>\n      <th>0</th>\n      <th>text</th>\n      <th>brightness</th>\n      <th>entropy</th>\n      <th>fps</th>\n    </tr>\n  </thead>\n  <tbody>\n  </tbody>\n</table>\n</div>"
     },
     "metadata": {},
     "execution_count": 118
    }
   ],
   "source": [
    " df[(0.5*pred['entropy'][0] < df['entropy']) & (df['entropy'] < 1.5*pred['entropy'][0])]"
   ]
  },
  {
   "cell_type": "code",
   "execution_count": 117,
   "metadata": {},
   "outputs": [
    {
     "output_type": "execute_result",
     "data": {
      "text/plain": [
       "                                         0  \\\n",
       "0       tumblr_mevmyaKtDf1rgvhr8o1_500.gif   \n",
       "2       tumblr_mllh01J96X1s9npefo1_250.gif   \n",
       "5       tumblr_npw7v7W07C1tmj047o1_250.gif   \n",
       "6   tumblr_mdlv9v6hE91qanrf2o1_r11_500.gif   \n",
       "16      tumblr_nmzcu205yo1qdj2qoo1_500.gif   \n",
       "32      tumblr_nj4iqcVaFQ1s26nzro1_500.gif   \n",
       "45      tumblr_npgxznNRd31uv0y2ro1_250.gif   \n",
       "\n",
       "                                                 text  brightness   entropy  \\\n",
       "0   a man is glaring, and someone with sunglasses ...    0.233874  5.170090   \n",
       "2                    a man dressed in red is dancing.    0.265175  5.840860   \n",
       "5   someone puts a cat on wrapping paper then wrap...    0.277893  5.121114   \n",
       "6              a brunette woman is looking at the man    0.347571  6.214434   \n",
       "16  a woman is laughing and holding a man, the man...    0.369162  6.103437   \n",
       "32    a man are holding a bottle taps it on his head.    0.608701  3.280546   \n",
       "45  a cute little bulldog puppy is taking his tong...    0.412464  6.659292   \n",
       "\n",
       "         fps  \n",
       "0   5.000000  \n",
       "2   5.263158  \n",
       "5   6.250000  \n",
       "6   6.875000  \n",
       "16  5.000000  \n",
       "32  5.000000  \n",
       "45  4.761905  "
      ],
      "text/html": "<div>\n<style scoped>\n    .dataframe tbody tr th:only-of-type {\n        vertical-align: middle;\n    }\n\n    .dataframe tbody tr th {\n        vertical-align: top;\n    }\n\n    .dataframe thead th {\n        text-align: right;\n    }\n</style>\n<table border=\"1\" class=\"dataframe\">\n  <thead>\n    <tr style=\"text-align: right;\">\n      <th></th>\n      <th>0</th>\n      <th>text</th>\n      <th>brightness</th>\n      <th>entropy</th>\n      <th>fps</th>\n    </tr>\n  </thead>\n  <tbody>\n    <tr>\n      <th>0</th>\n      <td>tumblr_mevmyaKtDf1rgvhr8o1_500.gif</td>\n      <td>a man is glaring, and someone with sunglasses ...</td>\n      <td>0.233874</td>\n      <td>5.170090</td>\n      <td>5.000000</td>\n    </tr>\n    <tr>\n      <th>2</th>\n      <td>tumblr_mllh01J96X1s9npefo1_250.gif</td>\n      <td>a man dressed in red is dancing.</td>\n      <td>0.265175</td>\n      <td>5.840860</td>\n      <td>5.263158</td>\n    </tr>\n    <tr>\n      <th>5</th>\n      <td>tumblr_npw7v7W07C1tmj047o1_250.gif</td>\n      <td>someone puts a cat on wrapping paper then wrap...</td>\n      <td>0.277893</td>\n      <td>5.121114</td>\n      <td>6.250000</td>\n    </tr>\n    <tr>\n      <th>6</th>\n      <td>tumblr_mdlv9v6hE91qanrf2o1_r11_500.gif</td>\n      <td>a brunette woman is looking at the man</td>\n      <td>0.347571</td>\n      <td>6.214434</td>\n      <td>6.875000</td>\n    </tr>\n    <tr>\n      <th>16</th>\n      <td>tumblr_nmzcu205yo1qdj2qoo1_500.gif</td>\n      <td>a woman is laughing and holding a man, the man...</td>\n      <td>0.369162</td>\n      <td>6.103437</td>\n      <td>5.000000</td>\n    </tr>\n    <tr>\n      <th>32</th>\n      <td>tumblr_nj4iqcVaFQ1s26nzro1_500.gif</td>\n      <td>a man are holding a bottle taps it on his head.</td>\n      <td>0.608701</td>\n      <td>3.280546</td>\n      <td>5.000000</td>\n    </tr>\n    <tr>\n      <th>45</th>\n      <td>tumblr_npgxznNRd31uv0y2ro1_250.gif</td>\n      <td>a cute little bulldog puppy is taking his tong...</td>\n      <td>0.412464</td>\n      <td>6.659292</td>\n      <td>4.761905</td>\n    </tr>\n  </tbody>\n</table>\n</div>"
     },
     "metadata": {},
     "execution_count": 117
    }
   ],
   "source": [
    " df[(0.5*pred['fps'][0] < df['fps']) & (df['fps'] < 1.5*pred['fps'][0])]"
   ]
  },
  {
   "cell_type": "code",
   "execution_count": 113,
   "metadata": {},
   "outputs": [
    {
     "output_type": "execute_result",
     "data": {
      "text/plain": [
       "array([2.9850998], dtype=float32)"
      ]
     },
     "metadata": {},
     "execution_count": 113
    }
   ],
   "source": []
  },
  {
   "cell_type": "code",
   "execution_count": 114,
   "metadata": {},
   "outputs": [
    {
     "output_type": "execute_result",
     "data": {
      "text/plain": [
       "0      5.000000\n",
       "1     16.666667\n",
       "2      5.263158\n",
       "3     11.111111\n",
       "4     10.000000\n",
       "5      6.250000\n",
       "6      6.875000\n",
       "7     16.666667\n",
       "8     10.000000\n",
       "9     12.500000\n",
       "10     8.333333\n",
       "11    10.000000\n",
       "12    10.000000\n",
       "13     9.090909\n",
       "14    16.666667\n",
       "15    12.500000\n",
       "16     5.000000\n",
       "17    10.000000\n",
       "18     7.692308\n",
       "19    11.111111\n",
       "20    20.000000\n",
       "21    10.000000\n",
       "22    10.000000\n",
       "23     9.090909\n",
       "24    10.000000\n",
       "25    33.333333\n",
       "26    16.666667\n",
       "27    33.333333\n",
       "28     8.333333\n",
       "29     7.932011\n",
       "30    10.000000\n",
       "31    12.500000\n",
       "32     5.000000\n",
       "33    14.285714\n",
       "34    10.000000\n",
       "35    20.000000\n",
       "36    14.285714\n",
       "37    10.000000\n",
       "38    11.111111\n",
       "39    20.000000\n",
       "40    14.285714\n",
       "41    10.000000\n",
       "42    10.000000\n",
       "43    25.000000\n",
       "44    10.000000\n",
       "45     4.761905\n",
       "46    10.000000\n",
       "47    11.864407\n",
       "48    12.500000\n",
       "49    12.500000\n",
       "Name: fps, dtype: float64"
      ]
     },
     "metadata": {},
     "execution_count": 114
    }
   ],
   "source": [
    "df['fps']"
   ]
  },
  {
   "cell_type": "code",
   "execution_count": null,
   "metadata": {},
   "outputs": [],
   "source": []
  }
 ],
 "metadata": {
  "kernelspec": {
   "name": "python38564bitvenvvenvf6bc735e76d047bf95620abcc76e6cb5",
   "display_name": "Python 3.8.5 64-bit ('venv': venv)",
   "language": "python"
  },
  "metadata": {
   "interpreter": {
    "hash": "2a1dd67a5d150fdaedc42f20d4558972aafcbc04e39a0d9626d4e07062884ef8"
   }
  }
 },
 "nbformat": 4,
 "nbformat_minor": 5
}