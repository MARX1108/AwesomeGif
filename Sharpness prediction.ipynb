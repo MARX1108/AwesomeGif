{
 "cells": [
  {
   "cell_type": "code",
   "execution_count": 1,
   "id": "involved-script",
   "metadata": {},
   "outputs": [],
   "source": [
    "import tensorflow as tf \n",
    "import tensorflow_hub as hub \n",
    "from tensorflow.keras import layers \n",
    "import bert \n",
    "import re \n",
    "# re — Regular expression operations\n",
    "import math\n",
    "import csv\n",
    "import pandas as pd                     \n",
    "import cv2 as cv \n",
    "from PIL import Image\n",
    "from tensorflow.keras import losses\n",
    "from plotly.subplots import make_subplots\n",
    "import plotly.graph_objects as go"
   ]
  },
  {
   "cell_type": "code",
   "execution_count": 2,
   "id": "efficient-greensboro",
   "metadata": {},
   "outputs": [
    {
     "data": {
      "text/plain": [
       "(125782, 2)"
      ]
     },
     "execution_count": 2,
     "metadata": {},
     "output_type": "execute_result"
    }
   ],
   "source": [
    "data = pd.read_csv(\"/Users/zimingfang/Desktop/Animated GIFs/AwesomeGif/tgif-v1.0.tsv\", sep='\\t')\n",
    "data.isnull().values.any()\n",
    "data.shape"
   ]
  },
  {
   "cell_type": "code",
   "execution_count": 3,
   "id": "composed-martin",
   "metadata": {},
   "outputs": [],
   "source": [
    "# data.head()"
   ]
  },
  {
   "cell_type": "code",
   "execution_count": 4,
   "id": "positive-warner",
   "metadata": {},
   "outputs": [],
   "source": [
    "gif_links = list(data.y.values)\n",
    "raw_tweets = list(data.x.values)"
   ]
  },
  {
   "cell_type": "code",
   "execution_count": 5,
   "id": "instrumental-fraction",
   "metadata": {},
   "outputs": [],
   "source": [
    "# gif_links"
   ]
  },
  {
   "cell_type": "code",
   "execution_count": 6,
   "id": "challenging-accommodation",
   "metadata": {},
   "outputs": [],
   "source": [
    "# raw_tweets"
   ]
  },
  {
   "cell_type": "markdown",
   "id": "modern-cliff",
   "metadata": {},
   "source": [
    "# Tweet Pre-Process "
   ]
  },
  {
   "cell_type": "markdown",
   "id": "green-catch",
   "metadata": {},
   "source": [
    "## Remove Special Char"
   ]
  },
  {
   "cell_type": "code",
   "execution_count": 7,
   "id": "severe-breed",
   "metadata": {},
   "outputs": [],
   "source": [
    "# definition for function for removing html tags \n",
    "TAG_RE = re.compile(r'<[^>]+>')\n",
    "\n",
    "def remove_tags(text):\n",
    "    return TAG_RE.sub('', text)"
   ]
  },
  {
   "cell_type": "code",
   "execution_count": 8,
   "id": "roman-equipment",
   "metadata": {},
   "outputs": [],
   "source": [
    "# definition for function for remove any punctuations and special characters\n",
    "def preprocess_text(raw_tweaet):\n",
    "    # Removing html tags\n",
    "    tweet = remove_tags(raw_tweaet)\n",
    "    # Removing html tags\n",
    "    tweet = re.sub('[^a-zA-Z]', '', tweet)\n",
    "    # Removing html tags\n",
    "    tweet = re.sub(r\"\\s+[a-zA-Z]\\s+\", ' ', tweet)\n",
    "    # Removing multiple spaces\n",
    "    tweet = re.sub(r'\\s+', ' ', tweet)\n",
    "    return tweet"
   ]
  },
  {
   "cell_type": "code",
   "execution_count": 9,
   "id": "scheduled-mailing",
   "metadata": {},
   "outputs": [],
   "source": [
    "# run the preprocess_text function to clean tweets list \n",
    "tweets = [] \n",
    "for tweet in raw_tweets[:50]:\n",
    "    tweets.append(preprocess_text(tweet))"
   ]
  },
  {
   "cell_type": "markdown",
   "id": "permanent-panama",
   "metadata": {},
   "source": [
    "## Tokenizing "
   ]
  },
  {
   "cell_type": "code",
   "execution_count": 10,
   "id": "editorial-protest",
   "metadata": {},
   "outputs": [],
   "source": [
    "# Create a tokenizer \n",
    "BertTokenizer = bert.bert_tokenization.FullTokenizer\n",
    "bert_layer = hub.KerasLayer(\"https://tfhub.dev/tensorflow/bert_en_uncased_L-12_H-768_A-12/3\",\n",
    "                            trainable=False)\n",
    "vocabulary_file = bert_layer.resolved_object.vocab_file.asset_path.numpy()\n",
    "# .numpy(): converts a tensor object into an numpy.ndarray\n",
    "to_lower_case = bert_layer.resolved_object.do_lower_case.numpy()\n",
    "tokenizer = BertTokenizer(vocabulary_file, to_lower_case)"
   ]
  },
  {
   "cell_type": "code",
   "execution_count": 11,
   "id": "modular-imagination",
   "metadata": {},
   "outputs": [],
   "source": [
    "# Definition for function for convert tweet to ids \n",
    "def tokenize_tweets(text_tweets):\n",
    "    return tokenizer.convert_tokens_to_ids(tokenizer.tokenize(text_tweets))"
   ]
  },
  {
   "cell_type": "code",
   "execution_count": 12,
   "id": "difficult-proportion",
   "metadata": {},
   "outputs": [],
   "source": [
    "# run the tokenize_tweets on tweets \n",
    "tokenized_tweets = [tokenize_tweets(tweet) for tweet in tweets]"
   ]
  },
  {
   "cell_type": "markdown",
   "id": "silver-vector",
   "metadata": {},
   "source": [
    "# GIF Pre-Process"
   ]
  },
  {
   "cell_type": "code",
   "execution_count": 13,
   "id": "norman-dependence",
   "metadata": {},
   "outputs": [],
   "source": [
    "import requests\n",
    "# Requests is an elegant and simple HTTP library for Python\n",
    "import os \n",
    "# os — Miscellaneous operating system interfaces¶\n",
    "os.chdir('/Users/zimingfang/Desktop/Animated GIFs/AwesomeGif/gifs')\n",
    "# !pwd"
   ]
  },
  {
   "cell_type": "code",
   "execution_count": 14,
   "id": "reported-monte",
   "metadata": {},
   "outputs": [],
   "source": [
    "filenames = pd.read_csv(\"/Users/zimingfang/Desktop/Animated GIFs/AwesomeGif/filenames.csv\", header=None)\n",
    "filenames = filenames.iloc[1:]\n",
    "filenames = filenames.iloc[:,1]"
   ]
  },
  {
   "cell_type": "code",
   "execution_count": 15,
   "id": "terminal-puppy",
   "metadata": {},
   "outputs": [],
   "source": [
    "# filenames"
   ]
  },
  {
   "cell_type": "code",
   "execution_count": 16,
   "id": "induced-selection",
   "metadata": {},
   "outputs": [],
   "source": [
    "# https://programmersought.com/article/1235305180/\n",
    "def getImageVar(image):\n",
    "    img2gray = cv.cvtColor(image, cv.COLOR_BGR2GRAY)\n",
    "    imageVar = cv.Laplacian(img2gray, cv.CV_64F).var()\n",
    "    return imageVar"
   ]
  },
  {
   "cell_type": "code",
   "execution_count": 17,
   "id": "creative-stake",
   "metadata": {},
   "outputs": [],
   "source": [
    "def get_avg_sharpness(path_to_gif):\n",
    "    gif_sharpness = []\n",
    "    capture = cv.VideoCapture(path_to_gif)\n",
    "    pos_frame = capture.get(cv.CAP_PROP_POS_FRAMES)\n",
    "\n",
    "    while True: \n",
    "        isTrue, frame = capture.read()\n",
    "        gif_sharpness.append(getImageVar(frame))\n",
    "        if capture.get(cv.CAP_PROP_POS_FRAMES) == capture.get(cv.CAP_PROP_FRAME_COUNT):\n",
    "            # If the number of captured frames is equal to the total number of frames,\n",
    "            # we stop\n",
    "            break\n",
    "    return sum(gif_sharpness) / len(gif_sharpness)"
   ]
  },
  {
   "cell_type": "code",
   "execution_count": 37,
   "id": "military-rogers",
   "metadata": {},
   "outputs": [],
   "source": [
    "# In GIF files, each frame has its own duration. So there is no general fps for a GIF file. \n",
    "sharpness = []\n",
    "for gif_file_path in filenames[:50]: \n",
    "#     cap=cv2.VideoCapture(\"gif_file_path\")\n",
    "#     fps = cap.get(cv2.CAP_PROP_FPS)\n",
    "#     gif_obj = Image.open(gif_file_path)\n",
    "    sharpness.append(tf.math.log(get_avg_sharpness(gif_file_path)))"
   ]
  },
  {
   "cell_type": "code",
   "execution_count": 38,
   "id": "rural-probe",
   "metadata": {},
   "outputs": [
    {
     "name": "stdout",
     "output_type": "stream",
     "text": [
      "4.940601699139596\n",
      "8.92384305453336\n"
     ]
    }
   ],
   "source": [
    "import numpy \n",
    "print(numpy.min(sharpness))\n",
    "print(numpy.max(sharpness))"
   ]
  },
  {
   "cell_type": "markdown",
   "id": "changing-portfolio",
   "metadata": {},
   "source": [
    "# Prerparing Data For Training\n"
   ]
  },
  {
   "cell_type": "code",
   "execution_count": 39,
   "id": "fatty-status",
   "metadata": {},
   "outputs": [],
   "source": [
    "x_train = tokenized_tweets\n",
    "y_train = sharpness"
   ]
  },
  {
   "cell_type": "code",
   "execution_count": 40,
   "id": "educated-administration",
   "metadata": {},
   "outputs": [],
   "source": [
    "# len(x_train)"
   ]
  },
  {
   "cell_type": "code",
   "execution_count": 41,
   "id": "therapeutic-polls",
   "metadata": {},
   "outputs": [],
   "source": [
    "tweets_with_len = [[tweet, y_train[i], len(tweet)]\n",
    "                 for i, tweet in enumerate(x_train)]"
   ]
  },
  {
   "cell_type": "code",
   "execution_count": 42,
   "id": "indonesian-finance",
   "metadata": {},
   "outputs": [],
   "source": [
    "#sort the data by tweet length \n",
    "tweets_with_len.sort(key=lambda x: x[2])\n",
    "#remove the tweet length attribute from dataset \n",
    "sorted_tweets_labels = [(tweet_lab[0], tweet_lab[1]) for tweet_lab in tweets_with_len]"
   ]
  },
  {
   "cell_type": "code",
   "execution_count": 43,
   "id": "loaded-parker",
   "metadata": {},
   "outputs": [],
   "source": [
    "# sorted_tweets_labels"
   ]
  },
  {
   "cell_type": "code",
   "execution_count": 44,
   "id": "median-thong",
   "metadata": {},
   "outputs": [],
   "source": [
    "# convert the sorted dataset into a TensorFlow 2.0-compliant input dataset shape\n",
    "processed_dataset = tf.data.Dataset.from_generator(lambda: sorted_tweets_labels, output_types=(tf.int32, tf.float32))\n"
   ]
  },
  {
   "cell_type": "code",
   "execution_count": 45,
   "id": "white-vietnamese",
   "metadata": {},
   "outputs": [],
   "source": [
    "BATCH_SIZE = 10 \n",
    "batched_dataset = processed_dataset.padded_batch(BATCH_SIZE, padded_shapes=((None, ), ()))"
   ]
  },
  {
   "cell_type": "code",
   "execution_count": 46,
   "id": "whole-probe",
   "metadata": {},
   "outputs": [],
   "source": [
    "TOTAL_BATCHES = math.ceil(len(sorted_tweets_labels) / BATCH_SIZE)\n",
    "# TEST_BATCHES = TOTAL_BATCHES // 10\n",
    "TEST_BATCHES = 1\n",
    "batched_dataset.shuffle(TOTAL_BATCHES)\n",
    "test_data = batched_dataset.take(TEST_BATCHES)\n",
    "train_data = batched_dataset.skip(TEST_BATCHES)"
   ]
  },
  {
   "cell_type": "code",
   "execution_count": 47,
   "id": "alone-freeware",
   "metadata": {},
   "outputs": [],
   "source": [
    "# next(iter(batched_dataset))"
   ]
  },
  {
   "cell_type": "markdown",
   "id": "bronze-turkish",
   "metadata": {},
   "source": [
    "# Creating the Model\n"
   ]
  },
  {
   "cell_type": "code",
   "execution_count": 48,
   "id": "express-better",
   "metadata": {},
   "outputs": [],
   "source": [
    "VOCAB_LENGTH = len(tokenizer.vocab)\n",
    "EMB_DIM = 200"
   ]
  },
  {
   "cell_type": "code",
   "execution_count": 49,
   "id": "cognitive-recruitment",
   "metadata": {},
   "outputs": [
    {
     "name": "stdout",
     "output_type": "stream",
     "text": [
      "Model: \"sequential_1\"\n",
      "_________________________________________________________________\n",
      "Layer (type)                 Output Shape              Param #   \n",
      "=================================================================\n",
      "embedding_1 (Embedding)      (None, None, 200)         6104600   \n",
      "_________________________________________________________________\n",
      "dropout_2 (Dropout)          (None, None, 200)         0         \n",
      "_________________________________________________________________\n",
      "global_average_pooling1d_1 ( (None, 200)               0         \n",
      "_________________________________________________________________\n",
      "dropout_3 (Dropout)          (None, 200)               0         \n",
      "_________________________________________________________________\n",
      "dense_1 (Dense)              (None, 1)                 201       \n",
      "=================================================================\n",
      "Total params: 6,104,801\n",
      "Trainable params: 6,104,801\n",
      "Non-trainable params: 0\n",
      "_________________________________________________________________\n"
     ]
    }
   ],
   "source": [
    "#GlobalAveragePooling1D layer returns a fixed-length output vector for each example by averaging over the sequence dimension.\n",
    "#allows the model to handle input of variable length, in the simplest way possible\n",
    "\n",
    "model = tf.keras.Sequential([\n",
    "    layers.Embedding(VOCAB_LENGTH + 1, EMB_DIM),\n",
    "    layers.Dropout(0.2),    \n",
    "    layers.GlobalAveragePooling1D(), \n",
    "    layers.Dropout(0.2),\n",
    "    layers.Dense(1, activation='linear') #set activation to linear for regression\n",
    "])\n",
    "\n",
    "model.compile(optimizer='adam', loss='mse', metrics=['mae'])\n",
    "model.summary()"
   ]
  },
  {
   "cell_type": "code",
   "execution_count": 50,
   "id": "handmade-selling",
   "metadata": {},
   "outputs": [
    {
     "name": "stdout",
     "output_type": "stream",
     "text": [
      "Epoch 1/100\n",
      "4/4 [==============================] - 1s 274ms/step - loss: 47.6076 - mae: 6.8244 - val_loss: 46.0090 - val_mae: 6.7251\n",
      "Epoch 2/100\n",
      "4/4 [==============================] - 0s 51ms/step - loss: 47.0418 - mae: 6.7827 - val_loss: 45.6732 - val_mae: 6.6999\n",
      "Epoch 3/100\n",
      "4/4 [==============================] - 0s 52ms/step - loss: 46.4789 - mae: 6.7416 - val_loss: 45.3059 - val_mae: 6.6722\n",
      "Epoch 4/100\n",
      "4/4 [==============================] - 0s 52ms/step - loss: 45.8946 - mae: 6.6978 - val_loss: 44.9143 - val_mae: 6.6425\n",
      "Epoch 5/100\n",
      "4/4 [==============================] - 0s 55ms/step - loss: 45.1703 - mae: 6.6438 - val_loss: 44.4956 - val_mae: 6.6105\n",
      "Epoch 6/100\n",
      "4/4 [==============================] - 0s 52ms/step - loss: 44.5073 - mae: 6.5943 - val_loss: 44.0460 - val_mae: 6.5761\n",
      "Epoch 7/100\n",
      "4/4 [==============================] - 0s 52ms/step - loss: 43.7386 - mae: 6.5358 - val_loss: 43.5603 - val_mae: 6.5386\n",
      "Epoch 8/100\n",
      "4/4 [==============================] - 0s 54ms/step - loss: 42.9515 - mae: 6.4759 - val_loss: 43.0380 - val_mae: 6.4980\n",
      "Epoch 9/100\n",
      "4/4 [==============================] - 0s 52ms/step - loss: 42.0012 - mae: 6.4018 - val_loss: 42.4762 - val_mae: 6.4540\n",
      "Epoch 10/100\n",
      "4/4 [==============================] - 0s 55ms/step - loss: 41.1952 - mae: 6.3378 - val_loss: 41.8767 - val_mae: 6.4068\n",
      "Epoch 11/100\n",
      "4/4 [==============================] - 0s 52ms/step - loss: 40.1752 - mae: 6.2582 - val_loss: 41.2385 - val_mae: 6.3560\n",
      "Epoch 12/100\n",
      "4/4 [==============================] - 0s 55ms/step - loss: 39.2340 - mae: 6.1823 - val_loss: 40.5631 - val_mae: 6.3017\n",
      "Epoch 13/100\n",
      "4/4 [==============================] - 0s 55ms/step - loss: 37.9826 - mae: 6.0797 - val_loss: 39.8478 - val_mae: 6.2437\n",
      "Epoch 14/100\n",
      "4/4 [==============================] - 0s 55ms/step - loss: 36.8152 - mae: 5.9835 - val_loss: 39.0940 - val_mae: 6.1819\n",
      "Epoch 15/100\n",
      "4/4 [==============================] - 0s 54ms/step - loss: 35.4220 - mae: 5.8643 - val_loss: 38.3021 - val_mae: 6.1162\n",
      "Epoch 16/100\n",
      "4/4 [==============================] - 0s 51ms/step - loss: 34.3456 - mae: 5.7762 - val_loss: 37.4762 - val_mae: 6.0469\n",
      "Epoch 17/100\n",
      "4/4 [==============================] - 0s 55ms/step - loss: 32.7505 - mae: 5.6357 - val_loss: 36.6152 - val_mae: 5.9736\n",
      "Epoch 18/100\n",
      "4/4 [==============================] - 0s 54ms/step - loss: 31.5375 - mae: 5.5251 - val_loss: 35.7253 - val_mae: 5.8968\n",
      "Epoch 19/100\n",
      "4/4 [==============================] - 0s 54ms/step - loss: 30.0985 - mae: 5.3924 - val_loss: 34.8090 - val_mae: 5.8165\n",
      "Epoch 20/100\n",
      "4/4 [==============================] - 0s 55ms/step - loss: 28.8307 - mae: 5.2750 - val_loss: 33.8701 - val_mae: 5.7329\n",
      "Epoch 21/100\n",
      "4/4 [==============================] - 0s 55ms/step - loss: 27.3392 - mae: 5.1349 - val_loss: 32.9127 - val_mae: 5.6463\n",
      "Epoch 22/100\n",
      "4/4 [==============================] - 0s 53ms/step - loss: 25.8849 - mae: 4.9891 - val_loss: 31.9389 - val_mae: 5.5565\n",
      "Epoch 23/100\n",
      "4/4 [==============================] - 0s 52ms/step - loss: 24.1728 - mae: 4.8128 - val_loss: 30.9524 - val_mae: 5.4639\n",
      "Epoch 24/100\n",
      "4/4 [==============================] - 0s 54ms/step - loss: 22.7471 - mae: 4.6649 - val_loss: 29.9562 - val_mae: 5.3686\n",
      "Epoch 25/100\n",
      "4/4 [==============================] - 0s 54ms/step - loss: 21.1493 - mae: 4.4942 - val_loss: 28.9532 - val_mae: 5.2706\n",
      "Epoch 26/100\n",
      "4/4 [==============================] - 0s 57ms/step - loss: 19.8886 - mae: 4.3516 - val_loss: 27.9498 - val_mae: 5.1704\n",
      "Epoch 27/100\n",
      "4/4 [==============================] - 0s 55ms/step - loss: 18.1135 - mae: 4.1427 - val_loss: 26.9498 - val_mae: 5.0683\n",
      "Epoch 28/100\n",
      "4/4 [==============================] - 0s 55ms/step - loss: 17.0500 - mae: 4.0075 - val_loss: 25.9577 - val_mae: 4.9647\n",
      "Epoch 29/100\n",
      "4/4 [==============================] - 0s 54ms/step - loss: 15.4943 - mae: 3.8141 - val_loss: 24.9778 - val_mae: 4.8598\n",
      "Epoch 30/100\n",
      "4/4 [==============================] - 0s 54ms/step - loss: 14.6059 - mae: 3.6897 - val_loss: 24.0150 - val_mae: 4.7542\n",
      "Epoch 31/100\n",
      "4/4 [==============================] - 0s 52ms/step - loss: 12.8185 - mae: 3.4467 - val_loss: 23.0723 - val_mae: 4.6480\n",
      "Epoch 32/100\n",
      "4/4 [==============================] - 0s 51ms/step - loss: 11.7404 - mae: 3.2904 - val_loss: 22.1540 - val_mae: 4.5418\n",
      "Epoch 33/100\n",
      "4/4 [==============================] - 0s 56ms/step - loss: 10.6761 - mae: 3.1172 - val_loss: 21.2633 - val_mae: 4.4360\n",
      "Epoch 34/100\n",
      "4/4 [==============================] - 0s 53ms/step - loss: 9.4099 - mae: 2.9192 - val_loss: 20.4040 - val_mae: 4.3310\n",
      "Epoch 35/100\n",
      "4/4 [==============================] - 0s 52ms/step - loss: 8.5205 - mae: 2.7483 - val_loss: 19.5798 - val_mae: 4.2274\n",
      "Epoch 36/100\n",
      "4/4 [==============================] - 0s 53ms/step - loss: 7.3219 - mae: 2.5387 - val_loss: 18.7917 - val_mae: 4.1255\n",
      "Epoch 37/100\n",
      "4/4 [==============================] - 0s 51ms/step - loss: 6.6833 - mae: 2.4073 - val_loss: 18.0406 - val_mae: 4.0255\n",
      "Epoch 38/100\n",
      "4/4 [==============================] - 0s 51ms/step - loss: 6.1069 - mae: 2.2735 - val_loss: 17.3295 - val_mae: 3.9281\n",
      "Epoch 39/100\n",
      "4/4 [==============================] - 0s 51ms/step - loss: 5.2162 - mae: 2.0875 - val_loss: 16.6571 - val_mae: 3.8333\n",
      "Epoch 40/100\n",
      "4/4 [==============================] - 0s 52ms/step - loss: 4.5478 - mae: 1.9265 - val_loss: 16.0263 - val_mae: 3.7417\n",
      "Epoch 41/100\n",
      "4/4 [==============================] - 0s 54ms/step - loss: 3.9048 - mae: 1.7818 - val_loss: 15.4373 - val_mae: 3.6537\n",
      "Epoch 42/100\n",
      "4/4 [==============================] - 0s 52ms/step - loss: 3.3436 - mae: 1.6002 - val_loss: 14.8931 - val_mae: 3.5700\n",
      "Epoch 43/100\n",
      "4/4 [==============================] - 0s 53ms/step - loss: 3.0247 - mae: 1.5098 - val_loss: 14.3927 - val_mae: 3.4910\n",
      "Epoch 44/100\n",
      "4/4 [==============================] - 0s 114ms/step - loss: 2.5055 - mae: 1.3899 - val_loss: 13.9321 - val_mae: 3.4163\n",
      "Epoch 45/100\n",
      "4/4 [==============================] - 0s 53ms/step - loss: 2.1035 - mae: 1.2648 - val_loss: 13.5125 - val_mae: 3.3465\n",
      "Epoch 46/100\n",
      "4/4 [==============================] - 0s 54ms/step - loss: 2.0116 - mae: 1.2391 - val_loss: 13.1282 - val_mae: 3.2810\n",
      "Epoch 47/100\n",
      "4/4 [==============================] - 0s 53ms/step - loss: 1.6365 - mae: 1.0598 - val_loss: 12.7811 - val_mae: 3.2205\n",
      "Epoch 48/100\n",
      "4/4 [==============================] - 0s 52ms/step - loss: 1.4944 - mae: 1.0521 - val_loss: 12.4715 - val_mae: 3.1653\n",
      "Epoch 49/100\n",
      "4/4 [==============================] - 0s 51ms/step - loss: 1.3029 - mae: 0.9371 - val_loss: 12.2003 - val_mae: 3.1161\n",
      "Epoch 50/100\n",
      "4/4 [==============================] - 0s 52ms/step - loss: 1.0712 - mae: 0.8750 - val_loss: 11.9596 - val_mae: 3.0715\n",
      "Epoch 51/100\n",
      "4/4 [==============================] - 0s 51ms/step - loss: 1.0121 - mae: 0.8160 - val_loss: 11.7457 - val_mae: 3.0313\n",
      "Epoch 52/100\n",
      "4/4 [==============================] - 0s 52ms/step - loss: 1.0140 - mae: 0.7819 - val_loss: 11.5553 - val_mae: 2.9949\n",
      "Epoch 53/100\n",
      "4/4 [==============================] - 0s 52ms/step - loss: 0.7946 - mae: 0.7207 - val_loss: 11.3857 - val_mae: 2.9621\n",
      "Epoch 54/100\n",
      "4/4 [==============================] - 0s 52ms/step - loss: 0.6013 - mae: 0.6436 - val_loss: 11.2386 - val_mae: 2.9331\n",
      "Epoch 55/100\n",
      "4/4 [==============================] - 0s 51ms/step - loss: 0.5709 - mae: 0.5994 - val_loss: 11.1126 - val_mae: 2.9082\n",
      "Epoch 56/100\n",
      "4/4 [==============================] - 0s 53ms/step - loss: 0.5272 - mae: 0.5953 - val_loss: 11.0041 - val_mae: 2.8865\n",
      "Epoch 57/100\n",
      "4/4 [==============================] - 0s 51ms/step - loss: 0.5949 - mae: 0.6168 - val_loss: 10.9096 - val_mae: 2.8677\n",
      "Epoch 58/100\n",
      "4/4 [==============================] - 0s 53ms/step - loss: 0.4862 - mae: 0.5681 - val_loss: 10.8294 - val_mae: 2.8516\n",
      "Epoch 59/100\n",
      "4/4 [==============================] - 0s 50ms/step - loss: 0.4131 - mae: 0.5038 - val_loss: 10.7612 - val_mae: 2.8378\n",
      "Epoch 60/100\n",
      "4/4 [==============================] - 0s 52ms/step - loss: 0.4510 - mae: 0.5618 - val_loss: 10.7062 - val_mae: 2.8266\n",
      "Epoch 61/100\n",
      "4/4 [==============================] - 0s 51ms/step - loss: 0.3325 - mae: 0.4149 - val_loss: 10.6564 - val_mae: 2.8165\n",
      "Epoch 62/100\n",
      "4/4 [==============================] - 0s 51ms/step - loss: 0.3370 - mae: 0.4647 - val_loss: 10.6097 - val_mae: 2.8069\n"
     ]
    },
    {
     "name": "stdout",
     "output_type": "stream",
     "text": [
      "Epoch 63/100\n",
      "4/4 [==============================] - 0s 51ms/step - loss: 0.3426 - mae: 0.5085 - val_loss: 10.5670 - val_mae: 2.7981\n",
      "Epoch 64/100\n",
      "4/4 [==============================] - 0s 52ms/step - loss: 0.2600 - mae: 0.4109 - val_loss: 10.5429 - val_mae: 2.7932\n",
      "Epoch 65/100\n",
      "4/4 [==============================] - 0s 44ms/step - loss: 0.2400 - mae: 0.3590 - val_loss: 10.5177 - val_mae: 2.7881\n",
      "Epoch 66/100\n",
      "4/4 [==============================] - 0s 53ms/step - loss: 0.2651 - mae: 0.4321 - val_loss: 10.4972 - val_mae: 2.7840\n",
      "Epoch 67/100\n",
      "4/4 [==============================] - 0s 52ms/step - loss: 0.2645 - mae: 0.4283 - val_loss: 10.4811 - val_mae: 2.7808\n",
      "Epoch 68/100\n",
      "4/4 [==============================] - 0s 51ms/step - loss: 0.1673 - mae: 0.3208 - val_loss: 10.4672 - val_mae: 2.7781\n",
      "Epoch 69/100\n",
      "4/4 [==============================] - 0s 50ms/step - loss: 0.1954 - mae: 0.3512 - val_loss: 10.4478 - val_mae: 2.7741\n",
      "Epoch 70/100\n",
      "4/4 [==============================] - 0s 51ms/step - loss: 0.1996 - mae: 0.3515 - val_loss: 10.4217 - val_mae: 2.7689\n",
      "Epoch 71/100\n",
      "4/4 [==============================] - 0s 53ms/step - loss: 0.1649 - mae: 0.3234 - val_loss: 10.4015 - val_mae: 2.7649\n",
      "Epoch 72/100\n",
      "4/4 [==============================] - 0s 53ms/step - loss: 0.1965 - mae: 0.3543 - val_loss: 10.3851 - val_mae: 2.7616\n",
      "Epoch 73/100\n",
      "4/4 [==============================] - 0s 53ms/step - loss: 0.1582 - mae: 0.3254 - val_loss: 10.3711 - val_mae: 2.7588\n",
      "Epoch 74/100\n",
      "4/4 [==============================] - 0s 53ms/step - loss: 0.1392 - mae: 0.3189 - val_loss: 10.3654 - val_mae: 2.7575\n",
      "Epoch 75/100\n",
      "4/4 [==============================] - 0s 55ms/step - loss: 0.1779 - mae: 0.3092 - val_loss: 10.3565 - val_mae: 2.7555\n",
      "Epoch 76/100\n",
      "4/4 [==============================] - 0s 55ms/step - loss: 0.1383 - mae: 0.2802 - val_loss: 10.3472 - val_mae: 2.7533\n",
      "Epoch 77/100\n",
      "4/4 [==============================] - 0s 55ms/step - loss: 0.1149 - mae: 0.2753 - val_loss: 10.3482 - val_mae: 2.7533\n",
      "Epoch 78/100\n",
      "4/4 [==============================] - 0s 57ms/step - loss: 0.1265 - mae: 0.2644 - val_loss: 10.3554 - val_mae: 2.7547\n",
      "Epoch 79/100\n",
      "4/4 [==============================] - 0s 54ms/step - loss: 0.0786 - mae: 0.1781 - val_loss: 10.3710 - val_mae: 2.7575\n",
      "Epoch 80/100\n",
      "4/4 [==============================] - 0s 52ms/step - loss: 0.1096 - mae: 0.2571 - val_loss: 10.3848 - val_mae: 2.7603\n",
      "Epoch 81/100\n",
      "4/4 [==============================] - 0s 53ms/step - loss: 0.1604 - mae: 0.3009 - val_loss: 10.3860 - val_mae: 2.7605\n",
      "Epoch 82/100\n",
      "4/4 [==============================] - 0s 52ms/step - loss: 0.0835 - mae: 0.2333 - val_loss: 10.3831 - val_mae: 2.7599\n",
      "Epoch 83/100\n",
      "4/4 [==============================] - 0s 54ms/step - loss: 0.1047 - mae: 0.2445 - val_loss: 10.3796 - val_mae: 2.7591\n",
      "Epoch 84/100\n",
      "4/4 [==============================] - 0s 53ms/step - loss: 0.1370 - mae: 0.2889 - val_loss: 10.3735 - val_mae: 2.7578\n",
      "Epoch 85/100\n",
      "4/4 [==============================] - 0s 54ms/step - loss: 0.1311 - mae: 0.2952 - val_loss: 10.3652 - val_mae: 2.7558\n",
      "Epoch 86/100\n",
      "4/4 [==============================] - 0s 56ms/step - loss: 0.0843 - mae: 0.2279 - val_loss: 10.3582 - val_mae: 2.7541\n",
      "Epoch 87/100\n",
      "4/4 [==============================] - 0s 56ms/step - loss: 0.0988 - mae: 0.2519 - val_loss: 10.3599 - val_mae: 2.7541\n",
      "Epoch 88/100\n",
      "4/4 [==============================] - 0s 113ms/step - loss: 0.0783 - mae: 0.2169 - val_loss: 10.3643 - val_mae: 2.7547\n",
      "Epoch 89/100\n",
      "4/4 [==============================] - 0s 51ms/step - loss: 0.1172 - mae: 0.2860 - val_loss: 10.3643 - val_mae: 2.7544\n",
      "Epoch 90/100\n",
      "4/4 [==============================] - 0s 51ms/step - loss: 0.1002 - mae: 0.2654 - val_loss: 10.3533 - val_mae: 2.7517\n",
      "Epoch 91/100\n",
      "4/4 [==============================] - 0s 50ms/step - loss: 0.1039 - mae: 0.2417 - val_loss: 10.3519 - val_mae: 2.7511\n",
      "Epoch 92/100\n",
      "4/4 [==============================] - 0s 52ms/step - loss: 0.0964 - mae: 0.2460 - val_loss: 10.3494 - val_mae: 2.7506\n",
      "Epoch 93/100\n",
      "4/4 [==============================] - 0s 53ms/step - loss: 0.0646 - mae: 0.2185 - val_loss: 10.3505 - val_mae: 2.7510\n",
      "Epoch 94/100\n",
      "4/4 [==============================] - 0s 52ms/step - loss: 0.1308 - mae: 0.2984 - val_loss: 10.3529 - val_mae: 2.7513\n",
      "Epoch 95/100\n",
      "4/4 [==============================] - 0s 54ms/step - loss: 0.1303 - mae: 0.2856 - val_loss: 10.3549 - val_mae: 2.7517\n",
      "Epoch 96/100\n",
      "4/4 [==============================] - 0s 54ms/step - loss: 0.1114 - mae: 0.2607 - val_loss: 10.3542 - val_mae: 2.7518\n",
      "Epoch 97/100\n",
      "4/4 [==============================] - 0s 66ms/step - loss: 0.0873 - mae: 0.2397 - val_loss: 10.3529 - val_mae: 2.7518\n",
      "Epoch 98/100\n",
      "4/4 [==============================] - 0s 52ms/step - loss: 0.0779 - mae: 0.2199 - val_loss: 10.3499 - val_mae: 2.7513\n",
      "Epoch 99/100\n",
      "4/4 [==============================] - 0s 55ms/step - loss: 0.0655 - mae: 0.1862 - val_loss: 10.3404 - val_mae: 2.7492\n",
      "Epoch 100/100\n",
      "4/4 [==============================] - 0s 52ms/step - loss: 0.1065 - mae: 0.2483 - val_loss: 10.3308 - val_mae: 2.7470\n"
     ]
    }
   ],
   "source": [
    "epochs = 100\n",
    "history = model.fit(\n",
    "    train_data,\n",
    "    validation_data=test_data,\n",
    "    epochs=epochs)"
   ]
  },
  {
   "cell_type": "code",
   "execution_count": 51,
   "id": "olive-buffer",
   "metadata": {},
   "outputs": [
    {
     "name": "stdout",
     "output_type": "stream",
     "text": [
      "dict_keys(['loss', 'mae', 'val_loss', 'val_mae'])\n"
     ]
    }
   ],
   "source": [
    "print(history.history.keys())"
   ]
  },
  {
   "cell_type": "code",
   "execution_count": 52,
   "id": "ordinary-stationery",
   "metadata": {},
   "outputs": [
    {
     "data": {
      "application/vnd.plotly.v1+json": {
       "config": {
        "plotlyServerURL": "https://plot.ly"
       },
       "data": [
        {
         "name": "Train",
         "type": "scattergl",
         "y": [
          47.8006591796875,
          47.23407745361328,
          46.66642379760742,
          46.06132125854492,
          45.35736846923828,
          44.65606689453125,
          43.87736511230469,
          43.05308532714844,
          42.1443977355957,
          41.302425384521484,
          40.29032897949219,
          39.26506805419922,
          38.00993347167969,
          36.849365234375,
          35.517433166503906,
          34.26799774169922,
          32.774452209472656,
          31.55124282836914,
          30.089908599853516,
          28.855579376220703,
          27.212017059326172,
          25.78951072692871,
          24.155925750732422,
          22.59671974182129,
          21.040050506591797,
          19.736793518066406,
          18.096351623535156,
          16.831064224243164,
          15.295915603637695,
          14.462629318237305,
          12.640433311462402,
          11.699108123779297,
          10.594021797180176,
          9.289045333862305,
          8.491695404052734,
          7.347067356109619,
          6.759542942047119,
          6.013740539550781,
          5.156176567077637,
          4.508628845214844,
          3.9636242389678955,
          3.4079651832580566,
          2.9683609008789062,
          2.462808609008789,
          2.1385254859924316,
          2.07493257522583,
          1.7447627782821655,
          1.519238829612732,
          1.3916919231414795,
          1.1115068197250366,
          1.0453479290008545,
          0.9987212419509888,
          0.8962835073471069,
          0.6272798776626587,
          0.6393183469772339,
          0.6261838674545288,
          0.693284273147583,
          0.6170910596847534,
          0.48037189245224,
          0.46182841062545776,
          0.39585384726524353,
          0.3910837769508362,
          0.3824983537197113,
          0.32934412360191345,
          0.3245229125022888,
          0.29451408982276917,
          0.3112618327140808,
          0.2304191291332245,
          0.21265001595020294,
          0.2208338975906372,
          0.1882379949092865,
          0.22213904559612274,
          0.16277538239955902,
          0.16887278854846954,
          0.2518855035305023,
          0.1627650111913681,
          0.13177712261676788,
          0.16133590042591095,
          0.11340733617544174,
          0.15016800165176392,
          0.19576308131217957,
          0.0979338213801384,
          0.14587938785552979,
          0.16768324375152588,
          0.11453720182180405,
          0.10808398574590683,
          0.11414994299411774,
          0.0878867655992508,
          0.11970102787017822,
          0.10012362897396088,
          0.09936844557523727,
          0.1018403023481369,
          0.0657467395067215,
          0.1262865513563156,
          0.107016421854496,
          0.10113056004047394,
          0.09428084641695023,
          0.0791567713022232,
          0.08823177963495255,
          0.12096352875232697
         ]
        },
        {
         "name": "Valid",
         "type": "scattergl",
         "y": [
          46.00902557373047,
          45.673213958740234,
          45.30585479736328,
          44.91427993774414,
          44.49559783935547,
          44.04603576660156,
          43.56031799316406,
          43.03797149658203,
          42.47624969482422,
          41.876739501953125,
          41.238548278808594,
          40.563087463378906,
          39.847816467285156,
          39.09395217895508,
          38.302120208740234,
          37.47618103027344,
          36.615203857421875,
          35.72526168823242,
          34.80900955200195,
          33.87010955810547,
          32.912696838378906,
          31.938852310180664,
          30.952377319335938,
          29.956157684326172,
          28.953155517578125,
          27.94976234436035,
          26.949783325195312,
          25.957660675048828,
          24.97783088684082,
          24.014972686767578,
          23.072280883789062,
          22.154006958007812,
          21.26327133178711,
          20.404010772705078,
          19.579782485961914,
          18.791656494140625,
          18.040584564208984,
          17.329530715942383,
          16.65714454650879,
          16.026269912719727,
          15.437339782714844,
          14.893136978149414,
          14.392684936523438,
          13.932116508483887,
          13.512507438659668,
          13.128217697143555,
          12.781055450439453,
          12.471532821655273,
          12.200299263000488,
          11.959647178649902,
          11.745745658874512,
          11.555268287658691,
          11.38569164276123,
          11.238567352294922,
          11.112646102905273,
          11.004103660583496,
          10.90957260131836,
          10.829429626464844,
          10.761175155639648,
          10.706162452697754,
          10.656381607055664,
          10.609691619873047,
          10.567008018493652,
          10.542865753173828,
          10.517702102661133,
          10.497190475463867,
          10.48106575012207,
          10.46721076965332,
          10.447750091552734,
          10.421743392944336,
          10.401506423950195,
          10.385137557983398,
          10.371086120605469,
          10.365449905395508,
          10.35646915435791,
          10.34724235534668,
          10.348207473754883,
          10.355417251586914,
          10.370997428894043,
          10.384786605834961,
          10.385967254638672,
          10.383050918579102,
          10.379640579223633,
          10.37348747253418,
          10.365194320678711,
          10.358245849609375,
          10.359949111938477,
          10.364286422729492,
          10.364328384399414,
          10.353261947631836,
          10.351855278015137,
          10.349365234375,
          10.35047721862793,
          10.352935791015625,
          10.354945182800293,
          10.354249954223633,
          10.35294246673584,
          10.349895477294922,
          10.340429306030273,
          10.330839157104492
         ]
        }
       ],
       "layout": {
        "height": 500,
        "template": {
         "data": {
          "bar": [
           {
            "error_x": {
             "color": "#2a3f5f"
            },
            "error_y": {
             "color": "#2a3f5f"
            },
            "marker": {
             "line": {
              "color": "#E5ECF6",
              "width": 0.5
             }
            },
            "type": "bar"
           }
          ],
          "barpolar": [
           {
            "marker": {
             "line": {
              "color": "#E5ECF6",
              "width": 0.5
             }
            },
            "type": "barpolar"
           }
          ],
          "carpet": [
           {
            "aaxis": {
             "endlinecolor": "#2a3f5f",
             "gridcolor": "white",
             "linecolor": "white",
             "minorgridcolor": "white",
             "startlinecolor": "#2a3f5f"
            },
            "baxis": {
             "endlinecolor": "#2a3f5f",
             "gridcolor": "white",
             "linecolor": "white",
             "minorgridcolor": "white",
             "startlinecolor": "#2a3f5f"
            },
            "type": "carpet"
           }
          ],
          "choropleth": [
           {
            "colorbar": {
             "outlinewidth": 0,
             "ticks": ""
            },
            "type": "choropleth"
           }
          ],
          "contour": [
           {
            "colorbar": {
             "outlinewidth": 0,
             "ticks": ""
            },
            "colorscale": [
             [
              0,
              "#0d0887"
             ],
             [
              0.1111111111111111,
              "#46039f"
             ],
             [
              0.2222222222222222,
              "#7201a8"
             ],
             [
              0.3333333333333333,
              "#9c179e"
             ],
             [
              0.4444444444444444,
              "#bd3786"
             ],
             [
              0.5555555555555556,
              "#d8576b"
             ],
             [
              0.6666666666666666,
              "#ed7953"
             ],
             [
              0.7777777777777778,
              "#fb9f3a"
             ],
             [
              0.8888888888888888,
              "#fdca26"
             ],
             [
              1,
              "#f0f921"
             ]
            ],
            "type": "contour"
           }
          ],
          "contourcarpet": [
           {
            "colorbar": {
             "outlinewidth": 0,
             "ticks": ""
            },
            "type": "contourcarpet"
           }
          ],
          "heatmap": [
           {
            "colorbar": {
             "outlinewidth": 0,
             "ticks": ""
            },
            "colorscale": [
             [
              0,
              "#0d0887"
             ],
             [
              0.1111111111111111,
              "#46039f"
             ],
             [
              0.2222222222222222,
              "#7201a8"
             ],
             [
              0.3333333333333333,
              "#9c179e"
             ],
             [
              0.4444444444444444,
              "#bd3786"
             ],
             [
              0.5555555555555556,
              "#d8576b"
             ],
             [
              0.6666666666666666,
              "#ed7953"
             ],
             [
              0.7777777777777778,
              "#fb9f3a"
             ],
             [
              0.8888888888888888,
              "#fdca26"
             ],
             [
              1,
              "#f0f921"
             ]
            ],
            "type": "heatmap"
           }
          ],
          "heatmapgl": [
           {
            "colorbar": {
             "outlinewidth": 0,
             "ticks": ""
            },
            "colorscale": [
             [
              0,
              "#0d0887"
             ],
             [
              0.1111111111111111,
              "#46039f"
             ],
             [
              0.2222222222222222,
              "#7201a8"
             ],
             [
              0.3333333333333333,
              "#9c179e"
             ],
             [
              0.4444444444444444,
              "#bd3786"
             ],
             [
              0.5555555555555556,
              "#d8576b"
             ],
             [
              0.6666666666666666,
              "#ed7953"
             ],
             [
              0.7777777777777778,
              "#fb9f3a"
             ],
             [
              0.8888888888888888,
              "#fdca26"
             ],
             [
              1,
              "#f0f921"
             ]
            ],
            "type": "heatmapgl"
           }
          ],
          "histogram": [
           {
            "marker": {
             "colorbar": {
              "outlinewidth": 0,
              "ticks": ""
             }
            },
            "type": "histogram"
           }
          ],
          "histogram2d": [
           {
            "colorbar": {
             "outlinewidth": 0,
             "ticks": ""
            },
            "colorscale": [
             [
              0,
              "#0d0887"
             ],
             [
              0.1111111111111111,
              "#46039f"
             ],
             [
              0.2222222222222222,
              "#7201a8"
             ],
             [
              0.3333333333333333,
              "#9c179e"
             ],
             [
              0.4444444444444444,
              "#bd3786"
             ],
             [
              0.5555555555555556,
              "#d8576b"
             ],
             [
              0.6666666666666666,
              "#ed7953"
             ],
             [
              0.7777777777777778,
              "#fb9f3a"
             ],
             [
              0.8888888888888888,
              "#fdca26"
             ],
             [
              1,
              "#f0f921"
             ]
            ],
            "type": "histogram2d"
           }
          ],
          "histogram2dcontour": [
           {
            "colorbar": {
             "outlinewidth": 0,
             "ticks": ""
            },
            "colorscale": [
             [
              0,
              "#0d0887"
             ],
             [
              0.1111111111111111,
              "#46039f"
             ],
             [
              0.2222222222222222,
              "#7201a8"
             ],
             [
              0.3333333333333333,
              "#9c179e"
             ],
             [
              0.4444444444444444,
              "#bd3786"
             ],
             [
              0.5555555555555556,
              "#d8576b"
             ],
             [
              0.6666666666666666,
              "#ed7953"
             ],
             [
              0.7777777777777778,
              "#fb9f3a"
             ],
             [
              0.8888888888888888,
              "#fdca26"
             ],
             [
              1,
              "#f0f921"
             ]
            ],
            "type": "histogram2dcontour"
           }
          ],
          "mesh3d": [
           {
            "colorbar": {
             "outlinewidth": 0,
             "ticks": ""
            },
            "type": "mesh3d"
           }
          ],
          "parcoords": [
           {
            "line": {
             "colorbar": {
              "outlinewidth": 0,
              "ticks": ""
             }
            },
            "type": "parcoords"
           }
          ],
          "pie": [
           {
            "automargin": true,
            "type": "pie"
           }
          ],
          "scatter": [
           {
            "marker": {
             "colorbar": {
              "outlinewidth": 0,
              "ticks": ""
             }
            },
            "type": "scatter"
           }
          ],
          "scatter3d": [
           {
            "line": {
             "colorbar": {
              "outlinewidth": 0,
              "ticks": ""
             }
            },
            "marker": {
             "colorbar": {
              "outlinewidth": 0,
              "ticks": ""
             }
            },
            "type": "scatter3d"
           }
          ],
          "scattercarpet": [
           {
            "marker": {
             "colorbar": {
              "outlinewidth": 0,
              "ticks": ""
             }
            },
            "type": "scattercarpet"
           }
          ],
          "scattergeo": [
           {
            "marker": {
             "colorbar": {
              "outlinewidth": 0,
              "ticks": ""
             }
            },
            "type": "scattergeo"
           }
          ],
          "scattergl": [
           {
            "marker": {
             "colorbar": {
              "outlinewidth": 0,
              "ticks": ""
             }
            },
            "type": "scattergl"
           }
          ],
          "scattermapbox": [
           {
            "marker": {
             "colorbar": {
              "outlinewidth": 0,
              "ticks": ""
             }
            },
            "type": "scattermapbox"
           }
          ],
          "scatterpolar": [
           {
            "marker": {
             "colorbar": {
              "outlinewidth": 0,
              "ticks": ""
             }
            },
            "type": "scatterpolar"
           }
          ],
          "scatterpolargl": [
           {
            "marker": {
             "colorbar": {
              "outlinewidth": 0,
              "ticks": ""
             }
            },
            "type": "scatterpolargl"
           }
          ],
          "scatterternary": [
           {
            "marker": {
             "colorbar": {
              "outlinewidth": 0,
              "ticks": ""
             }
            },
            "type": "scatterternary"
           }
          ],
          "surface": [
           {
            "colorbar": {
             "outlinewidth": 0,
             "ticks": ""
            },
            "colorscale": [
             [
              0,
              "#0d0887"
             ],
             [
              0.1111111111111111,
              "#46039f"
             ],
             [
              0.2222222222222222,
              "#7201a8"
             ],
             [
              0.3333333333333333,
              "#9c179e"
             ],
             [
              0.4444444444444444,
              "#bd3786"
             ],
             [
              0.5555555555555556,
              "#d8576b"
             ],
             [
              0.6666666666666666,
              "#ed7953"
             ],
             [
              0.7777777777777778,
              "#fb9f3a"
             ],
             [
              0.8888888888888888,
              "#fdca26"
             ],
             [
              1,
              "#f0f921"
             ]
            ],
            "type": "surface"
           }
          ],
          "table": [
           {
            "cells": {
             "fill": {
              "color": "#EBF0F8"
             },
             "line": {
              "color": "white"
             }
            },
            "header": {
             "fill": {
              "color": "#C8D4E3"
             },
             "line": {
              "color": "white"
             }
            },
            "type": "table"
           }
          ]
         },
         "layout": {
          "annotationdefaults": {
           "arrowcolor": "#2a3f5f",
           "arrowhead": 0,
           "arrowwidth": 1
          },
          "autotypenumbers": "strict",
          "coloraxis": {
           "colorbar": {
            "outlinewidth": 0,
            "ticks": ""
           }
          },
          "colorscale": {
           "diverging": [
            [
             0,
             "#8e0152"
            ],
            [
             0.1,
             "#c51b7d"
            ],
            [
             0.2,
             "#de77ae"
            ],
            [
             0.3,
             "#f1b6da"
            ],
            [
             0.4,
             "#fde0ef"
            ],
            [
             0.5,
             "#f7f7f7"
            ],
            [
             0.6,
             "#e6f5d0"
            ],
            [
             0.7,
             "#b8e186"
            ],
            [
             0.8,
             "#7fbc41"
            ],
            [
             0.9,
             "#4d9221"
            ],
            [
             1,
             "#276419"
            ]
           ],
           "sequential": [
            [
             0,
             "#0d0887"
            ],
            [
             0.1111111111111111,
             "#46039f"
            ],
            [
             0.2222222222222222,
             "#7201a8"
            ],
            [
             0.3333333333333333,
             "#9c179e"
            ],
            [
             0.4444444444444444,
             "#bd3786"
            ],
            [
             0.5555555555555556,
             "#d8576b"
            ],
            [
             0.6666666666666666,
             "#ed7953"
            ],
            [
             0.7777777777777778,
             "#fb9f3a"
            ],
            [
             0.8888888888888888,
             "#fdca26"
            ],
            [
             1,
             "#f0f921"
            ]
           ],
           "sequentialminus": [
            [
             0,
             "#0d0887"
            ],
            [
             0.1111111111111111,
             "#46039f"
            ],
            [
             0.2222222222222222,
             "#7201a8"
            ],
            [
             0.3333333333333333,
             "#9c179e"
            ],
            [
             0.4444444444444444,
             "#bd3786"
            ],
            [
             0.5555555555555556,
             "#d8576b"
            ],
            [
             0.6666666666666666,
             "#ed7953"
            ],
            [
             0.7777777777777778,
             "#fb9f3a"
            ],
            [
             0.8888888888888888,
             "#fdca26"
            ],
            [
             1,
             "#f0f921"
            ]
           ]
          },
          "colorway": [
           "#636efa",
           "#EF553B",
           "#00cc96",
           "#ab63fa",
           "#FFA15A",
           "#19d3f3",
           "#FF6692",
           "#B6E880",
           "#FF97FF",
           "#FECB52"
          ],
          "font": {
           "color": "#2a3f5f"
          },
          "geo": {
           "bgcolor": "white",
           "lakecolor": "white",
           "landcolor": "#E5ECF6",
           "showlakes": true,
           "showland": true,
           "subunitcolor": "white"
          },
          "hoverlabel": {
           "align": "left"
          },
          "hovermode": "closest",
          "mapbox": {
           "style": "light"
          },
          "paper_bgcolor": "white",
          "plot_bgcolor": "#E5ECF6",
          "polar": {
           "angularaxis": {
            "gridcolor": "white",
            "linecolor": "white",
            "ticks": ""
           },
           "bgcolor": "#E5ECF6",
           "radialaxis": {
            "gridcolor": "white",
            "linecolor": "white",
            "ticks": ""
           }
          },
          "scene": {
           "xaxis": {
            "backgroundcolor": "#E5ECF6",
            "gridcolor": "white",
            "gridwidth": 2,
            "linecolor": "white",
            "showbackground": true,
            "ticks": "",
            "zerolinecolor": "white"
           },
           "yaxis": {
            "backgroundcolor": "#E5ECF6",
            "gridcolor": "white",
            "gridwidth": 2,
            "linecolor": "white",
            "showbackground": true,
            "ticks": "",
            "zerolinecolor": "white"
           },
           "zaxis": {
            "backgroundcolor": "#E5ECF6",
            "gridcolor": "white",
            "gridwidth": 2,
            "linecolor": "white",
            "showbackground": true,
            "ticks": "",
            "zerolinecolor": "white"
           }
          },
          "shapedefaults": {
           "line": {
            "color": "#2a3f5f"
           }
          },
          "ternary": {
           "aaxis": {
            "gridcolor": "white",
            "linecolor": "white",
            "ticks": ""
           },
           "baxis": {
            "gridcolor": "white",
            "linecolor": "white",
            "ticks": ""
           },
           "bgcolor": "#E5ECF6",
           "caxis": {
            "gridcolor": "white",
            "linecolor": "white",
            "ticks": ""
           }
          },
          "title": {
           "x": 0.05
          },
          "xaxis": {
           "automargin": true,
           "gridcolor": "white",
           "linecolor": "white",
           "ticks": "",
           "title": {
            "standoff": 15
           },
           "zerolinecolor": "white",
           "zerolinewidth": 2
          },
          "yaxis": {
           "automargin": true,
           "gridcolor": "white",
           "linecolor": "white",
           "ticks": "",
           "title": {
            "standoff": 15
           },
           "zerolinecolor": "white",
           "zerolinewidth": 2
          }
         }
        },
        "width": 700,
        "xaxis": {
         "title": {
          "text": "Epoch"
         }
        },
        "yaxis": {
         "title": {
          "text": "Loss"
         }
        }
       }
      },
      "text/html": [
       "<div>                            <div id=\"2580a279-746b-4436-8aeb-64fc16bfedac\" class=\"plotly-graph-div\" style=\"height:500px; width:700px;\"></div>            <script type=\"text/javascript\">                require([\"plotly\"], function(Plotly) {                    window.PLOTLYENV=window.PLOTLYENV || {};                                    if (document.getElementById(\"2580a279-746b-4436-8aeb-64fc16bfedac\")) {                    Plotly.newPlot(                        \"2580a279-746b-4436-8aeb-64fc16bfedac\",                        [{\"name\": \"Train\", \"type\": \"scattergl\", \"y\": [47.8006591796875, 47.23407745361328, 46.66642379760742, 46.06132125854492, 45.35736846923828, 44.65606689453125, 43.87736511230469, 43.05308532714844, 42.1443977355957, 41.302425384521484, 40.29032897949219, 39.26506805419922, 38.00993347167969, 36.849365234375, 35.517433166503906, 34.26799774169922, 32.774452209472656, 31.55124282836914, 30.089908599853516, 28.855579376220703, 27.212017059326172, 25.78951072692871, 24.155925750732422, 22.59671974182129, 21.040050506591797, 19.736793518066406, 18.096351623535156, 16.831064224243164, 15.295915603637695, 14.462629318237305, 12.640433311462402, 11.699108123779297, 10.594021797180176, 9.289045333862305, 8.491695404052734, 7.347067356109619, 6.759542942047119, 6.013740539550781, 5.156176567077637, 4.508628845214844, 3.9636242389678955, 3.4079651832580566, 2.9683609008789062, 2.462808609008789, 2.1385254859924316, 2.07493257522583, 1.7447627782821655, 1.519238829612732, 1.3916919231414795, 1.1115068197250366, 1.0453479290008545, 0.9987212419509888, 0.8962835073471069, 0.6272798776626587, 0.6393183469772339, 0.6261838674545288, 0.693284273147583, 0.6170910596847534, 0.48037189245224, 0.46182841062545776, 0.39585384726524353, 0.3910837769508362, 0.3824983537197113, 0.32934412360191345, 0.3245229125022888, 0.29451408982276917, 0.3112618327140808, 0.2304191291332245, 0.21265001595020294, 0.2208338975906372, 0.1882379949092865, 0.22213904559612274, 0.16277538239955902, 0.16887278854846954, 0.2518855035305023, 0.1627650111913681, 0.13177712261676788, 0.16133590042591095, 0.11340733617544174, 0.15016800165176392, 0.19576308131217957, 0.0979338213801384, 0.14587938785552979, 0.16768324375152588, 0.11453720182180405, 0.10808398574590683, 0.11414994299411774, 0.0878867655992508, 0.11970102787017822, 0.10012362897396088, 0.09936844557523727, 0.1018403023481369, 0.0657467395067215, 0.1262865513563156, 0.107016421854496, 0.10113056004047394, 0.09428084641695023, 0.0791567713022232, 0.08823177963495255, 0.12096352875232697]}, {\"name\": \"Valid\", \"type\": \"scattergl\", \"y\": [46.00902557373047, 45.673213958740234, 45.30585479736328, 44.91427993774414, 44.49559783935547, 44.04603576660156, 43.56031799316406, 43.03797149658203, 42.47624969482422, 41.876739501953125, 41.238548278808594, 40.563087463378906, 39.847816467285156, 39.09395217895508, 38.302120208740234, 37.47618103027344, 36.615203857421875, 35.72526168823242, 34.80900955200195, 33.87010955810547, 32.912696838378906, 31.938852310180664, 30.952377319335938, 29.956157684326172, 28.953155517578125, 27.94976234436035, 26.949783325195312, 25.957660675048828, 24.97783088684082, 24.014972686767578, 23.072280883789062, 22.154006958007812, 21.26327133178711, 20.404010772705078, 19.579782485961914, 18.791656494140625, 18.040584564208984, 17.329530715942383, 16.65714454650879, 16.026269912719727, 15.437339782714844, 14.893136978149414, 14.392684936523438, 13.932116508483887, 13.512507438659668, 13.128217697143555, 12.781055450439453, 12.471532821655273, 12.200299263000488, 11.959647178649902, 11.745745658874512, 11.555268287658691, 11.38569164276123, 11.238567352294922, 11.112646102905273, 11.004103660583496, 10.90957260131836, 10.829429626464844, 10.761175155639648, 10.706162452697754, 10.656381607055664, 10.609691619873047, 10.567008018493652, 10.542865753173828, 10.517702102661133, 10.497190475463867, 10.48106575012207, 10.46721076965332, 10.447750091552734, 10.421743392944336, 10.401506423950195, 10.385137557983398, 10.371086120605469, 10.365449905395508, 10.35646915435791, 10.34724235534668, 10.348207473754883, 10.355417251586914, 10.370997428894043, 10.384786605834961, 10.385967254638672, 10.383050918579102, 10.379640579223633, 10.37348747253418, 10.365194320678711, 10.358245849609375, 10.359949111938477, 10.364286422729492, 10.364328384399414, 10.353261947631836, 10.351855278015137, 10.349365234375, 10.35047721862793, 10.352935791015625, 10.354945182800293, 10.354249954223633, 10.35294246673584, 10.349895477294922, 10.340429306030273, 10.330839157104492]}],                        {\"height\": 500, \"template\": {\"data\": {\"bar\": [{\"error_x\": {\"color\": \"#2a3f5f\"}, \"error_y\": {\"color\": \"#2a3f5f\"}, \"marker\": {\"line\": {\"color\": \"#E5ECF6\", \"width\": 0.5}}, \"type\": \"bar\"}], \"barpolar\": [{\"marker\": {\"line\": {\"color\": \"#E5ECF6\", \"width\": 0.5}}, \"type\": \"barpolar\"}], \"carpet\": [{\"aaxis\": {\"endlinecolor\": \"#2a3f5f\", \"gridcolor\": \"white\", \"linecolor\": \"white\", \"minorgridcolor\": \"white\", \"startlinecolor\": \"#2a3f5f\"}, \"baxis\": {\"endlinecolor\": \"#2a3f5f\", \"gridcolor\": \"white\", \"linecolor\": \"white\", \"minorgridcolor\": \"white\", \"startlinecolor\": \"#2a3f5f\"}, \"type\": \"carpet\"}], \"choropleth\": [{\"colorbar\": {\"outlinewidth\": 0, \"ticks\": \"\"}, \"type\": \"choropleth\"}], \"contour\": [{\"colorbar\": {\"outlinewidth\": 0, \"ticks\": \"\"}, \"colorscale\": [[0.0, \"#0d0887\"], [0.1111111111111111, \"#46039f\"], [0.2222222222222222, \"#7201a8\"], [0.3333333333333333, \"#9c179e\"], [0.4444444444444444, \"#bd3786\"], [0.5555555555555556, \"#d8576b\"], [0.6666666666666666, \"#ed7953\"], [0.7777777777777778, \"#fb9f3a\"], [0.8888888888888888, \"#fdca26\"], [1.0, \"#f0f921\"]], \"type\": \"contour\"}], \"contourcarpet\": [{\"colorbar\": {\"outlinewidth\": 0, \"ticks\": \"\"}, \"type\": \"contourcarpet\"}], \"heatmap\": [{\"colorbar\": {\"outlinewidth\": 0, \"ticks\": \"\"}, \"colorscale\": [[0.0, \"#0d0887\"], [0.1111111111111111, \"#46039f\"], [0.2222222222222222, \"#7201a8\"], [0.3333333333333333, \"#9c179e\"], [0.4444444444444444, \"#bd3786\"], [0.5555555555555556, \"#d8576b\"], [0.6666666666666666, \"#ed7953\"], [0.7777777777777778, \"#fb9f3a\"], [0.8888888888888888, \"#fdca26\"], [1.0, \"#f0f921\"]], \"type\": \"heatmap\"}], \"heatmapgl\": [{\"colorbar\": {\"outlinewidth\": 0, \"ticks\": \"\"}, \"colorscale\": [[0.0, \"#0d0887\"], [0.1111111111111111, \"#46039f\"], [0.2222222222222222, \"#7201a8\"], [0.3333333333333333, \"#9c179e\"], [0.4444444444444444, \"#bd3786\"], [0.5555555555555556, \"#d8576b\"], [0.6666666666666666, \"#ed7953\"], [0.7777777777777778, \"#fb9f3a\"], [0.8888888888888888, \"#fdca26\"], [1.0, \"#f0f921\"]], \"type\": \"heatmapgl\"}], \"histogram\": [{\"marker\": {\"colorbar\": {\"outlinewidth\": 0, \"ticks\": \"\"}}, \"type\": \"histogram\"}], \"histogram2d\": [{\"colorbar\": {\"outlinewidth\": 0, \"ticks\": \"\"}, \"colorscale\": [[0.0, \"#0d0887\"], [0.1111111111111111, \"#46039f\"], [0.2222222222222222, \"#7201a8\"], [0.3333333333333333, \"#9c179e\"], [0.4444444444444444, \"#bd3786\"], [0.5555555555555556, \"#d8576b\"], [0.6666666666666666, \"#ed7953\"], [0.7777777777777778, \"#fb9f3a\"], [0.8888888888888888, \"#fdca26\"], [1.0, \"#f0f921\"]], \"type\": \"histogram2d\"}], \"histogram2dcontour\": [{\"colorbar\": {\"outlinewidth\": 0, \"ticks\": \"\"}, \"colorscale\": [[0.0, \"#0d0887\"], [0.1111111111111111, \"#46039f\"], [0.2222222222222222, \"#7201a8\"], [0.3333333333333333, \"#9c179e\"], [0.4444444444444444, \"#bd3786\"], [0.5555555555555556, \"#d8576b\"], [0.6666666666666666, \"#ed7953\"], [0.7777777777777778, \"#fb9f3a\"], [0.8888888888888888, \"#fdca26\"], [1.0, \"#f0f921\"]], \"type\": \"histogram2dcontour\"}], \"mesh3d\": [{\"colorbar\": {\"outlinewidth\": 0, \"ticks\": \"\"}, \"type\": \"mesh3d\"}], \"parcoords\": [{\"line\": {\"colorbar\": {\"outlinewidth\": 0, \"ticks\": \"\"}}, \"type\": \"parcoords\"}], \"pie\": [{\"automargin\": true, \"type\": \"pie\"}], \"scatter\": [{\"marker\": {\"colorbar\": {\"outlinewidth\": 0, \"ticks\": \"\"}}, \"type\": \"scatter\"}], \"scatter3d\": [{\"line\": {\"colorbar\": {\"outlinewidth\": 0, \"ticks\": \"\"}}, \"marker\": {\"colorbar\": {\"outlinewidth\": 0, \"ticks\": \"\"}}, \"type\": \"scatter3d\"}], \"scattercarpet\": [{\"marker\": {\"colorbar\": {\"outlinewidth\": 0, \"ticks\": \"\"}}, \"type\": \"scattercarpet\"}], \"scattergeo\": [{\"marker\": {\"colorbar\": {\"outlinewidth\": 0, \"ticks\": \"\"}}, \"type\": \"scattergeo\"}], \"scattergl\": [{\"marker\": {\"colorbar\": {\"outlinewidth\": 0, \"ticks\": \"\"}}, \"type\": \"scattergl\"}], \"scattermapbox\": [{\"marker\": {\"colorbar\": {\"outlinewidth\": 0, \"ticks\": \"\"}}, \"type\": \"scattermapbox\"}], \"scatterpolar\": [{\"marker\": {\"colorbar\": {\"outlinewidth\": 0, \"ticks\": \"\"}}, \"type\": \"scatterpolar\"}], \"scatterpolargl\": [{\"marker\": {\"colorbar\": {\"outlinewidth\": 0, \"ticks\": \"\"}}, \"type\": \"scatterpolargl\"}], \"scatterternary\": [{\"marker\": {\"colorbar\": {\"outlinewidth\": 0, \"ticks\": \"\"}}, \"type\": \"scatterternary\"}], \"surface\": [{\"colorbar\": {\"outlinewidth\": 0, \"ticks\": \"\"}, \"colorscale\": [[0.0, \"#0d0887\"], [0.1111111111111111, \"#46039f\"], [0.2222222222222222, \"#7201a8\"], [0.3333333333333333, \"#9c179e\"], [0.4444444444444444, \"#bd3786\"], [0.5555555555555556, \"#d8576b\"], [0.6666666666666666, \"#ed7953\"], [0.7777777777777778, \"#fb9f3a\"], [0.8888888888888888, \"#fdca26\"], [1.0, \"#f0f921\"]], \"type\": \"surface\"}], \"table\": [{\"cells\": {\"fill\": {\"color\": \"#EBF0F8\"}, \"line\": {\"color\": \"white\"}}, \"header\": {\"fill\": {\"color\": \"#C8D4E3\"}, \"line\": {\"color\": \"white\"}}, \"type\": \"table\"}]}, \"layout\": {\"annotationdefaults\": {\"arrowcolor\": \"#2a3f5f\", \"arrowhead\": 0, \"arrowwidth\": 1}, \"autotypenumbers\": \"strict\", \"coloraxis\": {\"colorbar\": {\"outlinewidth\": 0, \"ticks\": \"\"}}, \"colorscale\": {\"diverging\": [[0, \"#8e0152\"], [0.1, \"#c51b7d\"], [0.2, \"#de77ae\"], [0.3, \"#f1b6da\"], [0.4, \"#fde0ef\"], [0.5, \"#f7f7f7\"], [0.6, \"#e6f5d0\"], [0.7, \"#b8e186\"], [0.8, \"#7fbc41\"], [0.9, \"#4d9221\"], [1, \"#276419\"]], \"sequential\": [[0.0, \"#0d0887\"], [0.1111111111111111, \"#46039f\"], [0.2222222222222222, \"#7201a8\"], [0.3333333333333333, \"#9c179e\"], [0.4444444444444444, \"#bd3786\"], [0.5555555555555556, \"#d8576b\"], [0.6666666666666666, \"#ed7953\"], [0.7777777777777778, \"#fb9f3a\"], [0.8888888888888888, \"#fdca26\"], [1.0, \"#f0f921\"]], \"sequentialminus\": [[0.0, \"#0d0887\"], [0.1111111111111111, \"#46039f\"], [0.2222222222222222, \"#7201a8\"], [0.3333333333333333, \"#9c179e\"], [0.4444444444444444, \"#bd3786\"], [0.5555555555555556, \"#d8576b\"], [0.6666666666666666, \"#ed7953\"], [0.7777777777777778, \"#fb9f3a\"], [0.8888888888888888, \"#fdca26\"], [1.0, \"#f0f921\"]]}, \"colorway\": [\"#636efa\", \"#EF553B\", \"#00cc96\", \"#ab63fa\", \"#FFA15A\", \"#19d3f3\", \"#FF6692\", \"#B6E880\", \"#FF97FF\", \"#FECB52\"], \"font\": {\"color\": \"#2a3f5f\"}, \"geo\": {\"bgcolor\": \"white\", \"lakecolor\": \"white\", \"landcolor\": \"#E5ECF6\", \"showlakes\": true, \"showland\": true, \"subunitcolor\": \"white\"}, \"hoverlabel\": {\"align\": \"left\"}, \"hovermode\": \"closest\", \"mapbox\": {\"style\": \"light\"}, \"paper_bgcolor\": \"white\", \"plot_bgcolor\": \"#E5ECF6\", \"polar\": {\"angularaxis\": {\"gridcolor\": \"white\", \"linecolor\": \"white\", \"ticks\": \"\"}, \"bgcolor\": \"#E5ECF6\", \"radialaxis\": {\"gridcolor\": \"white\", \"linecolor\": \"white\", \"ticks\": \"\"}}, \"scene\": {\"xaxis\": {\"backgroundcolor\": \"#E5ECF6\", \"gridcolor\": \"white\", \"gridwidth\": 2, \"linecolor\": \"white\", \"showbackground\": true, \"ticks\": \"\", \"zerolinecolor\": \"white\"}, \"yaxis\": {\"backgroundcolor\": \"#E5ECF6\", \"gridcolor\": \"white\", \"gridwidth\": 2, \"linecolor\": \"white\", \"showbackground\": true, \"ticks\": \"\", \"zerolinecolor\": \"white\"}, \"zaxis\": {\"backgroundcolor\": \"#E5ECF6\", \"gridcolor\": \"white\", \"gridwidth\": 2, \"linecolor\": \"white\", \"showbackground\": true, \"ticks\": \"\", \"zerolinecolor\": \"white\"}}, \"shapedefaults\": {\"line\": {\"color\": \"#2a3f5f\"}}, \"ternary\": {\"aaxis\": {\"gridcolor\": \"white\", \"linecolor\": \"white\", \"ticks\": \"\"}, \"baxis\": {\"gridcolor\": \"white\", \"linecolor\": \"white\", \"ticks\": \"\"}, \"bgcolor\": \"#E5ECF6\", \"caxis\": {\"gridcolor\": \"white\", \"linecolor\": \"white\", \"ticks\": \"\"}}, \"title\": {\"x\": 0.05}, \"xaxis\": {\"automargin\": true, \"gridcolor\": \"white\", \"linecolor\": \"white\", \"ticks\": \"\", \"title\": {\"standoff\": 15}, \"zerolinecolor\": \"white\", \"zerolinewidth\": 2}, \"yaxis\": {\"automargin\": true, \"gridcolor\": \"white\", \"linecolor\": \"white\", \"ticks\": \"\", \"title\": {\"standoff\": 15}, \"zerolinecolor\": \"white\", \"zerolinewidth\": 2}}}, \"width\": 700, \"xaxis\": {\"title\": {\"text\": \"Epoch\"}}, \"yaxis\": {\"title\": {\"text\": \"Loss\"}}},                        {\"responsive\": true}                    ).then(function(){\n",
       "                            \n",
       "var gd = document.getElementById('2580a279-746b-4436-8aeb-64fc16bfedac');\n",
       "var x = new MutationObserver(function (mutations, observer) {{\n",
       "        var display = window.getComputedStyle(gd).display;\n",
       "        if (!display || display === 'none') {{\n",
       "            console.log([gd, 'removed!']);\n",
       "            Plotly.purge(gd);\n",
       "            observer.disconnect();\n",
       "        }}\n",
       "}});\n",
       "\n",
       "// Listen for the removal of the full notebook cells\n",
       "var notebookContainer = gd.closest('#notebook-container');\n",
       "if (notebookContainer) {{\n",
       "    x.observe(notebookContainer, {childList: true});\n",
       "}}\n",
       "\n",
       "// Listen for the clearing of the current output cell\n",
       "var outputEl = gd.closest('.output');\n",
       "if (outputEl) {{\n",
       "    x.observe(outputEl, {childList: true});\n",
       "}}\n",
       "\n",
       "                        })                };                });            </script>        </div>"
      ]
     },
     "metadata": {},
     "output_type": "display_data"
    }
   ],
   "source": [
    "fig = go.Figure()\n",
    "fig.add_trace(go.Scattergl(y=history.history['loss'],\n",
    "                    name='Train'))\n",
    "\n",
    "fig.add_trace(go.Scattergl(y=history.history['val_loss'],\n",
    "                     name='Valid'))\n",
    "\n",
    "fig.update_layout(height=500, width=700,\n",
    "                  xaxis_title='Epoch',\n",
    "                  yaxis_title='Loss')\n",
    "fig.show()"
   ]
  },
  {
   "cell_type": "code",
   "execution_count": 53,
   "id": "editorial-surge",
   "metadata": {},
   "outputs": [
    {
     "name": "stdout",
     "output_type": "stream",
     "text": [
      "1/1 [==============================] - 0s 38ms/step - loss: 10.3308 - mae: 2.7470\n",
      "[10.330839157104492, 2.746983528137207]\n"
     ]
    }
   ],
   "source": [
    "results = model.evaluate(test_data)\n",
    "\n",
    "print(results)"
   ]
  },
  {
   "cell_type": "code",
   "execution_count": 54,
   "id": "painted-resistance",
   "metadata": {},
   "outputs": [],
   "source": [
    "# Save the model \n",
    "\n",
    "import joblib\n",
    "model.save(\"/Users/zimingfang/Desktop/Animated GIFs/AwesomeGif/GIF models/avg_sharpness_prediction_model.h5\")"
   ]
  },
  {
   "cell_type": "code",
   "execution_count": null,
   "id": "turned-synthetic",
   "metadata": {},
   "outputs": [],
   "source": []
  }
 ],
 "metadata": {
  "kernelspec": {
   "display_name": "Python 3",
   "language": "python",
   "name": "python3"
  },
  "language_info": {
   "codemirror_mode": {
    "name": "ipython",
    "version": 3
   },
   "file_extension": ".py",
   "mimetype": "text/x-python",
   "name": "python",
   "nbconvert_exporter": "python",
   "pygments_lexer": "ipython3",
   "version": "3.6.4"
  }
 },
 "nbformat": 4,
 "nbformat_minor": 5
}
