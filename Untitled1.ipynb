{
 "cells": [
  {
   "cell_type": "code",
   "execution_count": 2,
   "id": "stupid-stability",
   "metadata": {},
   "outputs": [],
   "source": [
    "import joblib\n",
    "import pandas as pd\n",
    "from tensorflow import keras"
   ]
  },
  {
   "cell_type": "code",
   "execution_count": 3,
   "id": "postal-force",
   "metadata": {},
   "outputs": [],
   "source": [
    "model = keras.models.load_model(\"GIF models/avg_brightness_prediction_model.h5\")"
   ]
  },
  {
   "cell_type": "code",
   "execution_count": 5,
   "id": "going-festival",
   "metadata": {},
   "outputs": [
    {
     "data": {
      "text/plain": [
       "array([[ 0.7769273 ],\n",
       "       [ 0.20246214],\n",
       "       [ 0.09519826],\n",
       "       [-0.02278398],\n",
       "       [ 0.2411536 ],\n",
       "       [ 0.0810127 ],\n",
       "       [ 0.2519645 ],\n",
       "       [ 0.14819144],\n",
       "       [ 0.21718852],\n",
       "       [ 0.08759491],\n",
       "       [ 0.116089  ],\n",
       "       [ 0.20330742],\n",
       "       [ 0.07534821]], dtype=float32)"
      ]
     },
     "execution_count": 5,
     "metadata": {},
     "output_type": "execute_result"
    }
   ],
   "source": [
    "model.predict([25933,\n",
    "  8977,\n",
    "  23296,\n",
    "  22397,\n",
    "  29560,\n",
    "  8462,\n",
    "  5643,\n",
    "  24415,\n",
    "  19729,\n",
    "  15621,\n",
    "  22447,\n",
    "  21512,\n",
    "  11650])"
   ]
  },
  {
   "cell_type": "code",
   "execution_count": null,
   "id": "regulation-potato",
   "metadata": {},
   "outputs": [],
   "source": []
  }
 ],
 "metadata": {
  "kernelspec": {
   "display_name": "Python 3",
   "language": "python",
   "name": "python3"
  },
  "language_info": {
   "codemirror_mode": {
    "name": "ipython",
    "version": 3
   },
   "file_extension": ".py",
   "mimetype": "text/x-python",
   "name": "python",
   "nbconvert_exporter": "python",
   "pygments_lexer": "ipython3",
   "version": "3.6.4"
  }
 },
 "nbformat": 4,
 "nbformat_minor": 5
}
